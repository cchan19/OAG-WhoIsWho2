{
 "cells": [
  {
   "cell_type": "code",
   "execution_count": 1,
   "metadata": {},
   "outputs": [],
   "source": [
    "import warnings\n",
    "warnings.filterwarnings('ignore')"
   ]
  },
  {
   "cell_type": "code",
   "execution_count": 2,
   "metadata": {},
   "outputs": [],
   "source": [
    "import pandas as pd\n",
    "import numpy as np\n",
    "import gc\n",
    "import time\n",
    "import os"
   ]
  },
  {
   "cell_type": "code",
   "execution_count": 3,
   "metadata": {},
   "outputs": [],
   "source": [
    "feat_dir = './feat/'\n",
    "if not os.path.exists(feat_dir):\n",
    "    os.mkdir(feat_dir)"
   ]
  },
  {
   "cell_type": "code",
   "execution_count": 4,
   "metadata": {},
   "outputs": [],
   "source": [
    "train_data = pd.read_pickle('./pkl/train_data.pkl')\n",
    "test_data = pd.read_pickle('./pkl/valid_data.pkl')"
   ]
  },
  {
   "cell_type": "code",
   "execution_count": 5,
   "metadata": {},
   "outputs": [
    {
     "data": {
      "text/html": [
       "<div>\n",
       "<style scoped>\n",
       "    .dataframe tbody tr th:only-of-type {\n",
       "        vertical-align: middle;\n",
       "    }\n",
       "\n",
       "    .dataframe tbody tr th {\n",
       "        vertical-align: top;\n",
       "    }\n",
       "\n",
       "    .dataframe thead th {\n",
       "        text-align: right;\n",
       "    }\n",
       "</style>\n",
       "<table border=\"1\" class=\"dataframe\">\n",
       "  <thead>\n",
       "    <tr style=\"text-align: right;\">\n",
       "      <th></th>\n",
       "      <th>author_id</th>\n",
       "      <th>author_name</th>\n",
       "      <th>author_org</th>\n",
       "      <th>label</th>\n",
       "      <th>paper_id</th>\n",
       "    </tr>\n",
       "  </thead>\n",
       "  <tbody>\n",
       "    <tr>\n",
       "      <th>0</th>\n",
       "      <td>8GjtUmBs</td>\n",
       "      <td>li_guo</td>\n",
       "      <td>Institute of Pharmacology and Toxicology</td>\n",
       "      <td>0.0</td>\n",
       "      <td>P9a1gcvg</td>\n",
       "    </tr>\n",
       "    <tr>\n",
       "      <th>1</th>\n",
       "      <td>EShnTfSe</td>\n",
       "      <td>li_guo</td>\n",
       "      <td>Institute of Pharmacology and Toxicology</td>\n",
       "      <td>1.0</td>\n",
       "      <td>P9a1gcvg</td>\n",
       "    </tr>\n",
       "    <tr>\n",
       "      <th>2</th>\n",
       "      <td>t1ruuB9N</td>\n",
       "      <td>li_guo</td>\n",
       "      <td>Institute of Pharmacology and Toxicology</td>\n",
       "      <td>0.0</td>\n",
       "      <td>P9a1gcvg</td>\n",
       "    </tr>\n",
       "    <tr>\n",
       "      <th>3</th>\n",
       "      <td>xLLXKy6I</td>\n",
       "      <td>li_guo</td>\n",
       "      <td>Institute of Pharmacology and Toxicology</td>\n",
       "      <td>0.0</td>\n",
       "      <td>P9a1gcvg</td>\n",
       "    </tr>\n",
       "    <tr>\n",
       "      <th>4</th>\n",
       "      <td>jTu2AZES</td>\n",
       "      <td>li_guo</td>\n",
       "      <td>Institute of Pharmacology and Toxicology</td>\n",
       "      <td>0.0</td>\n",
       "      <td>P9a1gcvg</td>\n",
       "    </tr>\n",
       "  </tbody>\n",
       "</table>\n",
       "</div>"
      ],
      "text/plain": [
       "  author_id author_name                                author_org  label  \\\n",
       "0  8GjtUmBs      li_guo  Institute of Pharmacology and Toxicology    0.0   \n",
       "1  EShnTfSe      li_guo  Institute of Pharmacology and Toxicology    1.0   \n",
       "2  t1ruuB9N      li_guo  Institute of Pharmacology and Toxicology    0.0   \n",
       "3  xLLXKy6I      li_guo  Institute of Pharmacology and Toxicology    0.0   \n",
       "4  jTu2AZES      li_guo  Institute of Pharmacology and Toxicology    0.0   \n",
       "\n",
       "   paper_id  \n",
       "0  P9a1gcvg  \n",
       "1  P9a1gcvg  \n",
       "2  P9a1gcvg  \n",
       "3  P9a1gcvg  \n",
       "4  P9a1gcvg  "
      ]
     },
     "execution_count": 5,
     "metadata": {},
     "output_type": "execute_result"
    }
   ],
   "source": [
    "data = pd.concat([train_data, test_data]).reset_index(drop=True)\n",
    "data.head()"
   ]
  },
  {
   "cell_type": "code",
   "execution_count": 6,
   "metadata": {},
   "outputs": [],
   "source": [
    "train_author_paper_ids = pd.read_pickle('./pkl/train_author_paper_ids.pkl')\n",
    "whole_author_name_paper_ids = pd.read_pickle('./pkl/whole_author_name_paper_ids.pkl')"
   ]
  },
  {
   "cell_type": "code",
   "execution_count": 7,
   "metadata": {},
   "outputs": [
    {
     "data": {
      "text/html": [
       "<div>\n",
       "<style scoped>\n",
       "    .dataframe tbody tr th:only-of-type {\n",
       "        vertical-align: middle;\n",
       "    }\n",
       "\n",
       "    .dataframe tbody tr th {\n",
       "        vertical-align: top;\n",
       "    }\n",
       "\n",
       "    .dataframe thead th {\n",
       "        text-align: right;\n",
       "    }\n",
       "</style>\n",
       "<table border=\"1\" class=\"dataframe\">\n",
       "  <thead>\n",
       "    <tr style=\"text-align: right;\">\n",
       "      <th></th>\n",
       "      <th>author_id</th>\n",
       "      <th>paper_ids</th>\n",
       "      <th>paper_ids_len</th>\n",
       "    </tr>\n",
       "  </thead>\n",
       "  <tbody>\n",
       "    <tr>\n",
       "      <th>0</th>\n",
       "      <td>004mBKh6</td>\n",
       "      <td>[TY0MYj83, S6rklGvj, 0vcMqEj6, iQkpCzIk, lRl7m...</td>\n",
       "      <td>9</td>\n",
       "    </tr>\n",
       "    <tr>\n",
       "      <th>1</th>\n",
       "      <td>008b5hIc</td>\n",
       "      <td>[nPuf0kYs]</td>\n",
       "      <td>1</td>\n",
       "    </tr>\n",
       "    <tr>\n",
       "      <th>2</th>\n",
       "      <td>00BAgHFr</td>\n",
       "      <td>[kn6wo3ot, 0f2awX7U, TuEkjf5i]</td>\n",
       "      <td>3</td>\n",
       "    </tr>\n",
       "    <tr>\n",
       "      <th>3</th>\n",
       "      <td>00M93JDI</td>\n",
       "      <td>[CuWJcKM7, lKPhLbs5, 9ydPvnCP, N5kY5MnL, 0WyZf...</td>\n",
       "      <td>309</td>\n",
       "    </tr>\n",
       "    <tr>\n",
       "      <th>4</th>\n",
       "      <td>00ShLPmg</td>\n",
       "      <td>[3X9wO1bx, KvHObx7O, IPKNYRm2, LV5duZL5, vg64a...</td>\n",
       "      <td>18</td>\n",
       "    </tr>\n",
       "  </tbody>\n",
       "</table>\n",
       "</div>"
      ],
      "text/plain": [
       "  author_id                                          paper_ids  paper_ids_len\n",
       "0  004mBKh6  [TY0MYj83, S6rklGvj, 0vcMqEj6, iQkpCzIk, lRl7m...              9\n",
       "1  008b5hIc                                         [nPuf0kYs]              1\n",
       "2  00BAgHFr                     [kn6wo3ot, 0f2awX7U, TuEkjf5i]              3\n",
       "3  00M93JDI  [CuWJcKM7, lKPhLbs5, 9ydPvnCP, N5kY5MnL, 0WyZf...            309\n",
       "4  00ShLPmg  [3X9wO1bx, KvHObx7O, IPKNYRm2, LV5duZL5, vg64a...             18"
      ]
     },
     "execution_count": 7,
     "metadata": {},
     "output_type": "execute_result"
    }
   ],
   "source": [
    "author_pub_ids = whole_author_name_paper_ids[['author_id','paper_ids']].merge(train_author_paper_ids, 'left', 'author_id')\n",
    "\n",
    "author_pub_ids['paper_ids_x_len'] = author_pub_ids['paper_ids_x'].apply(len)\n",
    "author_pub_ids['paper_ids_y_len'] = author_pub_ids['paper_ids_y'].apply(lambda x: 0 if type(x) == float else len(x))\n",
    "\n",
    "author_pub_ids['paper_ids'] = author_pub_ids.apply(lambda row: list(set(row['paper_ids_x']) | (set() if type(row['paper_ids_y']) == float else set(row['paper_ids_y']))), axis=1)\n",
    "\n",
    "author_pub_ids['paper_ids_len'] = author_pub_ids['paper_ids'].apply(len)\n",
    "\n",
    "author_pub_ids.drop(columns=['paper_ids_x', 'paper_ids_y', 'paper_ids_x_len', 'paper_ids_y_len'], inplace=True)\n",
    "\n",
    "author_pub_ids.head()"
   ]
  },
  {
   "cell_type": "code",
   "execution_count": 8,
   "metadata": {},
   "outputs": [
    {
     "data": {
      "text/plain": [
       "(25911, 3)"
      ]
     },
     "execution_count": 8,
     "metadata": {},
     "output_type": "execute_result"
    }
   ],
   "source": [
    "author_pub_ids.shape"
   ]
  },
  {
   "cell_type": "code",
   "execution_count": 9,
   "metadata": {},
   "outputs": [
    {
     "data": {
      "text/plain": [
       "76340"
      ]
     },
     "execution_count": 9,
     "metadata": {},
     "output_type": "execute_result"
    }
   ],
   "source": [
    "data['author_org'].nunique()"
   ]
  },
  {
   "cell_type": "code",
   "execution_count": 10,
   "metadata": {},
   "outputs": [],
   "source": [
    "author_id_org_map = pd.read_pickle('./pkl/author_id_org_map.pkl')"
   ]
  },
  {
   "cell_type": "code",
   "execution_count": 11,
   "metadata": {},
   "outputs": [
    {
     "data": {
      "text/html": [
       "<div>\n",
       "<style scoped>\n",
       "    .dataframe tbody tr th:only-of-type {\n",
       "        vertical-align: middle;\n",
       "    }\n",
       "\n",
       "    .dataframe tbody tr th {\n",
       "        vertical-align: top;\n",
       "    }\n",
       "\n",
       "    .dataframe thead th {\n",
       "        text-align: right;\n",
       "    }\n",
       "</style>\n",
       "<table border=\"1\" class=\"dataframe\">\n",
       "  <thead>\n",
       "    <tr style=\"text-align: right;\">\n",
       "      <th></th>\n",
       "      <th>author_id</th>\n",
       "      <th>orgs</th>\n",
       "    </tr>\n",
       "  </thead>\n",
       "  <tbody>\n",
       "    <tr>\n",
       "      <th>0</th>\n",
       "      <td>004mBKh6</td>\n",
       "      <td>[, Department of Biomedical Engineering, Natio...</td>\n",
       "    </tr>\n",
       "    <tr>\n",
       "      <th>1</th>\n",
       "      <td>008b5hIc</td>\n",
       "      <td>[State Key Laboratory Breeding Base of Nuclear...</td>\n",
       "    </tr>\n",
       "    <tr>\n",
       "      <th>2</th>\n",
       "      <td>00BAgHFr</td>\n",
       "      <td>[, , School of Information System and Management]</td>\n",
       "    </tr>\n",
       "    <tr>\n",
       "      <th>3</th>\n",
       "      <td>00M93JDI</td>\n",
       "      <td>[None, None, None, academia sinica, None, None...</td>\n",
       "    </tr>\n",
       "    <tr>\n",
       "      <th>4</th>\n",
       "      <td>00ShLPmg</td>\n",
       "      <td>[.Department of Microbiology and Immunology,Gu...</td>\n",
       "    </tr>\n",
       "  </tbody>\n",
       "</table>\n",
       "</div>"
      ],
      "text/plain": [
       "  author_id                                               orgs\n",
       "0  004mBKh6  [, Department of Biomedical Engineering, Natio...\n",
       "1  008b5hIc  [State Key Laboratory Breeding Base of Nuclear...\n",
       "2  00BAgHFr  [, , School of Information System and Management]\n",
       "3  00M93JDI  [None, None, None, academia sinica, None, None...\n",
       "4  00ShLPmg  [.Department of Microbiology and Immunology,Gu..."
      ]
     },
     "execution_count": 11,
     "metadata": {},
     "output_type": "execute_result"
    }
   ],
   "source": [
    "author_id_org_map.head()"
   ]
  },
  {
   "cell_type": "code",
   "execution_count": 12,
   "metadata": {},
   "outputs": [
    {
     "data": {
      "text/plain": [
       "266615"
      ]
     },
     "execution_count": 12,
     "metadata": {},
     "output_type": "execute_result"
    }
   ],
   "source": [
    "author_id_org_map['orgs'].apply(len).sum()"
   ]
  },
  {
   "cell_type": "code",
   "execution_count": 13,
   "metadata": {},
   "outputs": [],
   "source": [
    "# org embedding\n",
    "from collections import OrderedDict\n",
    "org_embedding = OrderedDict()\n",
    "for o in data['author_org']:\n",
    "    if o == '' or pd.isna(o):\n",
    "            continue\n",
    "    if type(o) == float:\n",
    "        print('err %f' % o)\n",
    "    org_embedding[o] = np.nan"
   ]
  },
  {
   "cell_type": "code",
   "execution_count": 14,
   "metadata": {},
   "outputs": [],
   "source": [
    "for os in author_id_org_map['orgs']:\n",
    "    for o in os:\n",
    "        if o == '' or pd.isna(o):\n",
    "            continue\n",
    "        if type(o) == float:\n",
    "            print('err %f' % o)\n",
    "        org_embedding[o] = np.nan"
   ]
  },
  {
   "cell_type": "code",
   "execution_count": 15,
   "metadata": {},
   "outputs": [
    {
     "data": {
      "text/plain": [
       "94374"
      ]
     },
     "execution_count": 15,
     "metadata": {},
     "output_type": "execute_result"
    }
   ],
   "source": [
    "len(org_embedding)"
   ]
  },
  {
   "cell_type": "code",
   "execution_count": 16,
   "metadata": {},
   "outputs": [],
   "source": [
    "orgs = list(org_embedding.keys())"
   ]
  },
  {
   "cell_type": "code",
   "execution_count": 17,
   "metadata": {},
   "outputs": [
    {
     "data": {
      "text/plain": [
       "['Institute of Pharmacology and Toxicology',\n",
       " 'Dept. of Pharmaceutical Chemistry',\n",
       " 'Department of Chemical Engineering',\n",
       " 'Sichuan Union University',\n",
       " 'West China School of Pharmacy']"
      ]
     },
     "execution_count": 17,
     "metadata": {},
     "output_type": "execute_result"
    }
   ],
   "source": [
    "orgs[:5]"
   ]
  },
  {
   "cell_type": "code",
   "execution_count": 18,
   "metadata": {},
   "outputs": [],
   "source": [
    "from random import randint\n",
    "\n",
    "import numpy as np\n",
    "import torch\n",
    "import pandas as pd\n",
    "import re\n",
    "import os\n",
    "os.environ[\"CUDA_VISIBLE_DEVICES\"] ='0'"
   ]
  },
  {
   "cell_type": "code",
   "execution_count": 19,
   "metadata": {},
   "outputs": [],
   "source": [
    "# max_len=256\n",
    "# def func(s):\n",
    "#     s = s.lower()\n",
    "#     s = re.sub(r'[^\\w\\s]', ' ', s)\n",
    "#     wds = s.split()[:max_len]\n",
    "#     return ' '.join(wds)"
   ]
  },
  {
   "cell_type": "code",
   "execution_count": 20,
   "metadata": {},
   "outputs": [],
   "source": [
    "# orgs = list(map(func, orgs))\n",
    "# orgs[:5]"
   ]
  },
  {
   "cell_type": "code",
   "execution_count": 21,
   "metadata": {},
   "outputs": [],
   "source": [
    "from sentence_transformers import SentenceTransformer\n",
    "model = SentenceTransformer('./bert-large-nli-mean-tokens')"
   ]
  },
  {
   "cell_type": "code",
   "execution_count": 22,
   "metadata": {},
   "outputs": [
    {
     "name": "stderr",
     "output_type": "stream",
     "text": [
      "Batches: 100%|██████████| 738/738 [05:15<00:00,  1.31s/it]\n"
     ]
    }
   ],
   "source": [
    "# org_embed = model.encode(orgs, bsize=32, tokenize=False, verbose=True)\n",
    "org_embed = model.encode(orgs, show_progress_bar=True, batch_size=128)"
   ]
  },
  {
   "cell_type": "code",
   "execution_count": 24,
   "metadata": {},
   "outputs": [
    {
     "name": "stdout",
     "output_type": "stream",
     "text": [
      "94374\n",
      "(1024,)\n"
     ]
    }
   ],
   "source": [
    "print(len(org_embed))\n",
    "print(org_embed[0].shape)"
   ]
  },
  {
   "cell_type": "code",
   "execution_count": 25,
   "metadata": {},
   "outputs": [],
   "source": [
    "for i, k in enumerate(org_embedding.keys()):\n",
    "    org_embedding[k] = org_embed[i]"
   ]
  },
  {
   "cell_type": "code",
   "execution_count": 26,
   "metadata": {},
   "outputs": [],
   "source": [
    "data = data.merge(author_pub_ids, 'left', 'author_id').merge(author_id_org_map, 'left', 'author_id')"
   ]
  },
  {
   "cell_type": "code",
   "execution_count": 27,
   "metadata": {},
   "outputs": [
    {
     "data": {
      "text/html": [
       "<div>\n",
       "<style scoped>\n",
       "    .dataframe tbody tr th:only-of-type {\n",
       "        vertical-align: middle;\n",
       "    }\n",
       "\n",
       "    .dataframe tbody tr th {\n",
       "        vertical-align: top;\n",
       "    }\n",
       "\n",
       "    .dataframe thead th {\n",
       "        text-align: right;\n",
       "    }\n",
       "</style>\n",
       "<table border=\"1\" class=\"dataframe\">\n",
       "  <thead>\n",
       "    <tr style=\"text-align: right;\">\n",
       "      <th></th>\n",
       "      <th>author_id</th>\n",
       "      <th>author_name</th>\n",
       "      <th>author_org</th>\n",
       "      <th>label</th>\n",
       "      <th>paper_id</th>\n",
       "      <th>paper_ids</th>\n",
       "      <th>paper_ids_len</th>\n",
       "      <th>orgs</th>\n",
       "    </tr>\n",
       "  </thead>\n",
       "  <tbody>\n",
       "    <tr>\n",
       "      <th>0</th>\n",
       "      <td>8GjtUmBs</td>\n",
       "      <td>li_guo</td>\n",
       "      <td>Institute of Pharmacology and Toxicology</td>\n",
       "      <td>0.0</td>\n",
       "      <td>P9a1gcvg</td>\n",
       "      <td>[J5KPOi3Y]</td>\n",
       "      <td>1</td>\n",
       "      <td>[College of Geological Exploration Prospecting...</td>\n",
       "    </tr>\n",
       "    <tr>\n",
       "      <th>1</th>\n",
       "      <td>EShnTfSe</td>\n",
       "      <td>li_guo</td>\n",
       "      <td>Institute of Pharmacology and Toxicology</td>\n",
       "      <td>1.0</td>\n",
       "      <td>P9a1gcvg</td>\n",
       "      <td>[P9a1gcvg]</td>\n",
       "      <td>1</td>\n",
       "      <td>[Institute of Pharmacology and Toxicology]</td>\n",
       "    </tr>\n",
       "    <tr>\n",
       "      <th>2</th>\n",
       "      <td>t1ruuB9N</td>\n",
       "      <td>li_guo</td>\n",
       "      <td>Institute of Pharmacology and Toxicology</td>\n",
       "      <td>0.0</td>\n",
       "      <td>P9a1gcvg</td>\n",
       "      <td>[T35c9ZAd]</td>\n",
       "      <td>1</td>\n",
       "      <td>[Geological Survey Institute of Beijing]</td>\n",
       "    </tr>\n",
       "    <tr>\n",
       "      <th>3</th>\n",
       "      <td>xLLXKy6I</td>\n",
       "      <td>li_guo</td>\n",
       "      <td>Institute of Pharmacology and Toxicology</td>\n",
       "      <td>0.0</td>\n",
       "      <td>P9a1gcvg</td>\n",
       "      <td>[OQ7F7UAh]</td>\n",
       "      <td>1</td>\n",
       "      <td>[Guangdong Electric Power Design Institute]</td>\n",
       "    </tr>\n",
       "    <tr>\n",
       "      <th>4</th>\n",
       "      <td>jTu2AZES</td>\n",
       "      <td>li_guo</td>\n",
       "      <td>Institute of Pharmacology and Toxicology</td>\n",
       "      <td>0.0</td>\n",
       "      <td>P9a1gcvg</td>\n",
       "      <td>[NRR6kM3z]</td>\n",
       "      <td>1</td>\n",
       "      <td>[Department of Neurology]</td>\n",
       "    </tr>\n",
       "  </tbody>\n",
       "</table>\n",
       "</div>"
      ],
      "text/plain": [
       "  author_id author_name                                author_org  label  \\\n",
       "0  8GjtUmBs      li_guo  Institute of Pharmacology and Toxicology    0.0   \n",
       "1  EShnTfSe      li_guo  Institute of Pharmacology and Toxicology    1.0   \n",
       "2  t1ruuB9N      li_guo  Institute of Pharmacology and Toxicology    0.0   \n",
       "3  xLLXKy6I      li_guo  Institute of Pharmacology and Toxicology    0.0   \n",
       "4  jTu2AZES      li_guo  Institute of Pharmacology and Toxicology    0.0   \n",
       "\n",
       "   paper_id   paper_ids  paper_ids_len  \\\n",
       "0  P9a1gcvg  [J5KPOi3Y]              1   \n",
       "1  P9a1gcvg  [P9a1gcvg]              1   \n",
       "2  P9a1gcvg  [T35c9ZAd]              1   \n",
       "3  P9a1gcvg  [OQ7F7UAh]              1   \n",
       "4  P9a1gcvg  [NRR6kM3z]              1   \n",
       "\n",
       "                                                orgs  \n",
       "0  [College of Geological Exploration Prospecting...  \n",
       "1         [Institute of Pharmacology and Toxicology]  \n",
       "2           [Geological Survey Institute of Beijing]  \n",
       "3        [Guangdong Electric Power Design Institute]  \n",
       "4                          [Department of Neurology]  "
      ]
     },
     "execution_count": 27,
     "metadata": {},
     "output_type": "execute_result"
    }
   ],
   "source": [
    "data.head()"
   ]
  },
  {
   "cell_type": "code",
   "execution_count": 28,
   "metadata": {},
   "outputs": [
    {
     "data": {
      "text/html": [
       "<div>\n",
       "<style scoped>\n",
       "    .dataframe tbody tr th:only-of-type {\n",
       "        vertical-align: middle;\n",
       "    }\n",
       "\n",
       "    .dataframe tbody tr th {\n",
       "        vertical-align: top;\n",
       "    }\n",
       "\n",
       "    .dataframe thead th {\n",
       "        text-align: right;\n",
       "    }\n",
       "</style>\n",
       "<table border=\"1\" class=\"dataframe\">\n",
       "  <thead>\n",
       "    <tr style=\"text-align: right;\">\n",
       "      <th></th>\n",
       "      <th>author_id</th>\n",
       "      <th>author_name</th>\n",
       "      <th>author_org</th>\n",
       "      <th>label</th>\n",
       "      <th>paper_id</th>\n",
       "      <th>paper_ids</th>\n",
       "      <th>paper_ids_len</th>\n",
       "      <th>orgs</th>\n",
       "      <th>idx</th>\n",
       "    </tr>\n",
       "  </thead>\n",
       "  <tbody>\n",
       "    <tr>\n",
       "      <th>0</th>\n",
       "      <td>8GjtUmBs</td>\n",
       "      <td>li_guo</td>\n",
       "      <td>Institute of Pharmacology and Toxicology</td>\n",
       "      <td>0.0</td>\n",
       "      <td>P9a1gcvg</td>\n",
       "      <td>[J5KPOi3Y]</td>\n",
       "      <td>1</td>\n",
       "      <td>[College of Geological Exploration Prospecting...</td>\n",
       "      <td>NaN</td>\n",
       "    </tr>\n",
       "    <tr>\n",
       "      <th>1</th>\n",
       "      <td>EShnTfSe</td>\n",
       "      <td>li_guo</td>\n",
       "      <td>Institute of Pharmacology and Toxicology</td>\n",
       "      <td>1.0</td>\n",
       "      <td>P9a1gcvg</td>\n",
       "      <td>[P9a1gcvg]</td>\n",
       "      <td>1</td>\n",
       "      <td>[Institute of Pharmacology and Toxicology]</td>\n",
       "      <td>0.0</td>\n",
       "    </tr>\n",
       "    <tr>\n",
       "      <th>2</th>\n",
       "      <td>t1ruuB9N</td>\n",
       "      <td>li_guo</td>\n",
       "      <td>Institute of Pharmacology and Toxicology</td>\n",
       "      <td>0.0</td>\n",
       "      <td>P9a1gcvg</td>\n",
       "      <td>[T35c9ZAd]</td>\n",
       "      <td>1</td>\n",
       "      <td>[Geological Survey Institute of Beijing]</td>\n",
       "      <td>NaN</td>\n",
       "    </tr>\n",
       "  </tbody>\n",
       "</table>\n",
       "</div>"
      ],
      "text/plain": [
       "  author_id author_name                                author_org  label  \\\n",
       "0  8GjtUmBs      li_guo  Institute of Pharmacology and Toxicology    0.0   \n",
       "1  EShnTfSe      li_guo  Institute of Pharmacology and Toxicology    1.0   \n",
       "2  t1ruuB9N      li_guo  Institute of Pharmacology and Toxicology    0.0   \n",
       "\n",
       "   paper_id   paper_ids  paper_ids_len  \\\n",
       "0  P9a1gcvg  [J5KPOi3Y]              1   \n",
       "1  P9a1gcvg  [P9a1gcvg]              1   \n",
       "2  P9a1gcvg  [T35c9ZAd]              1   \n",
       "\n",
       "                                                orgs  idx  \n",
       "0  [College of Geological Exploration Prospecting...  NaN  \n",
       "1         [Institute of Pharmacology and Toxicology]  0.0  \n",
       "2           [Geological Survey Institute of Beijing]  NaN  "
      ]
     },
     "metadata": {},
     "output_type": "display_data"
    }
   ],
   "source": [
    "def pidx(p, ps):\n",
    "    ans = np.nan\n",
    "    for i, p2 in enumerate(ps):\n",
    "        if p == p2:\n",
    "            ans = i\n",
    "            break\n",
    "    return ans\n",
    "data['idx'] = data.apply(lambda row: pidx(row['paper_id'], row['paper_ids']) if row['label'] == 1 else np.nan, axis=1)\n",
    "display(data.head(3))"
   ]
  },
  {
   "cell_type": "code",
   "execution_count": 29,
   "metadata": {},
   "outputs": [
    {
     "name": "stdout",
     "output_type": "stream",
     "text": [
      "del...\n"
     ]
    },
    {
     "data": {
      "application/vnd.jupyter.widget-view+json": {
       "model_id": "e251f437891a4ffd83b2d6e9bcf4ca1b",
       "version_major": 2,
       "version_minor": 0
      },
      "text/plain": [
       "HBox(children=(IntProgress(value=0, max=1647782), HTML(value='')))"
      ]
     },
     "metadata": {},
     "output_type": "display_data"
    },
    {
     "name": "stdout",
     "output_type": "stream",
     "text": [
      "\n"
     ]
    }
   ],
   "source": [
    "print('del...')\n",
    "from tqdm import tqdm_notebook\n",
    "for i in tqdm_notebook(range(len(data))):\n",
    "    if pd.isna(data.loc[i, 'idx']):\n",
    "        continue\n",
    "    v = list(data.loc[i, 'orgs'])\n",
    "    del v[data.loc[i, 'idx'].astype(int)]\n",
    "    data.set_value(i, 'orgs', v)"
   ]
  },
  {
   "cell_type": "code",
   "execution_count": 30,
   "metadata": {},
   "outputs": [
    {
     "data": {
      "text/html": [
       "<div>\n",
       "<style scoped>\n",
       "    .dataframe tbody tr th:only-of-type {\n",
       "        vertical-align: middle;\n",
       "    }\n",
       "\n",
       "    .dataframe tbody tr th {\n",
       "        vertical-align: top;\n",
       "    }\n",
       "\n",
       "    .dataframe thead th {\n",
       "        text-align: right;\n",
       "    }\n",
       "</style>\n",
       "<table border=\"1\" class=\"dataframe\">\n",
       "  <thead>\n",
       "    <tr style=\"text-align: right;\">\n",
       "      <th></th>\n",
       "      <th>author_id</th>\n",
       "      <th>author_name</th>\n",
       "      <th>author_org</th>\n",
       "      <th>label</th>\n",
       "      <th>paper_id</th>\n",
       "      <th>paper_ids</th>\n",
       "      <th>paper_ids_len</th>\n",
       "      <th>orgs</th>\n",
       "      <th>idx</th>\n",
       "    </tr>\n",
       "  </thead>\n",
       "  <tbody>\n",
       "    <tr>\n",
       "      <th>0</th>\n",
       "      <td>8GjtUmBs</td>\n",
       "      <td>li_guo</td>\n",
       "      <td>Institute of Pharmacology and Toxicology</td>\n",
       "      <td>0.0</td>\n",
       "      <td>P9a1gcvg</td>\n",
       "      <td>[J5KPOi3Y]</td>\n",
       "      <td>1</td>\n",
       "      <td>[College of Geological Exploration Prospecting...</td>\n",
       "      <td>NaN</td>\n",
       "    </tr>\n",
       "    <tr>\n",
       "      <th>1</th>\n",
       "      <td>EShnTfSe</td>\n",
       "      <td>li_guo</td>\n",
       "      <td>Institute of Pharmacology and Toxicology</td>\n",
       "      <td>1.0</td>\n",
       "      <td>P9a1gcvg</td>\n",
       "      <td>[P9a1gcvg]</td>\n",
       "      <td>1</td>\n",
       "      <td>[]</td>\n",
       "      <td>0.0</td>\n",
       "    </tr>\n",
       "    <tr>\n",
       "      <th>2</th>\n",
       "      <td>t1ruuB9N</td>\n",
       "      <td>li_guo</td>\n",
       "      <td>Institute of Pharmacology and Toxicology</td>\n",
       "      <td>0.0</td>\n",
       "      <td>P9a1gcvg</td>\n",
       "      <td>[T35c9ZAd]</td>\n",
       "      <td>1</td>\n",
       "      <td>[Geological Survey Institute of Beijing]</td>\n",
       "      <td>NaN</td>\n",
       "    </tr>\n",
       "    <tr>\n",
       "      <th>3</th>\n",
       "      <td>xLLXKy6I</td>\n",
       "      <td>li_guo</td>\n",
       "      <td>Institute of Pharmacology and Toxicology</td>\n",
       "      <td>0.0</td>\n",
       "      <td>P9a1gcvg</td>\n",
       "      <td>[OQ7F7UAh]</td>\n",
       "      <td>1</td>\n",
       "      <td>[Guangdong Electric Power Design Institute]</td>\n",
       "      <td>NaN</td>\n",
       "    </tr>\n",
       "    <tr>\n",
       "      <th>4</th>\n",
       "      <td>jTu2AZES</td>\n",
       "      <td>li_guo</td>\n",
       "      <td>Institute of Pharmacology and Toxicology</td>\n",
       "      <td>0.0</td>\n",
       "      <td>P9a1gcvg</td>\n",
       "      <td>[NRR6kM3z]</td>\n",
       "      <td>1</td>\n",
       "      <td>[Department of Neurology]</td>\n",
       "      <td>NaN</td>\n",
       "    </tr>\n",
       "  </tbody>\n",
       "</table>\n",
       "</div>"
      ],
      "text/plain": [
       "  author_id author_name                                author_org  label  \\\n",
       "0  8GjtUmBs      li_guo  Institute of Pharmacology and Toxicology    0.0   \n",
       "1  EShnTfSe      li_guo  Institute of Pharmacology and Toxicology    1.0   \n",
       "2  t1ruuB9N      li_guo  Institute of Pharmacology and Toxicology    0.0   \n",
       "3  xLLXKy6I      li_guo  Institute of Pharmacology and Toxicology    0.0   \n",
       "4  jTu2AZES      li_guo  Institute of Pharmacology and Toxicology    0.0   \n",
       "\n",
       "   paper_id   paper_ids  paper_ids_len  \\\n",
       "0  P9a1gcvg  [J5KPOi3Y]              1   \n",
       "1  P9a1gcvg  [P9a1gcvg]              1   \n",
       "2  P9a1gcvg  [T35c9ZAd]              1   \n",
       "3  P9a1gcvg  [OQ7F7UAh]              1   \n",
       "4  P9a1gcvg  [NRR6kM3z]              1   \n",
       "\n",
       "                                                orgs  idx  \n",
       "0  [College of Geological Exploration Prospecting...  NaN  \n",
       "1                                                 []  0.0  \n",
       "2           [Geological Survey Institute of Beijing]  NaN  \n",
       "3        [Guangdong Electric Power Design Institute]  NaN  \n",
       "4                          [Department of Neurology]  NaN  "
      ]
     },
     "execution_count": 30,
     "metadata": {},
     "output_type": "execute_result"
    }
   ],
   "source": [
    "data.head()"
   ]
  },
  {
   "cell_type": "code",
   "execution_count": 31,
   "metadata": {},
   "outputs": [],
   "source": [
    "data['orgs'] = data['orgs'].apply(set).apply(list)"
   ]
  },
  {
   "cell_type": "code",
   "execution_count": 32,
   "metadata": {},
   "outputs": [],
   "source": [
    "from scipy import spatial\n",
    "def cos_sim(a, b):\n",
    "    return 1 - spatial.distance.cosine(a, b)"
   ]
  },
  {
   "cell_type": "code",
   "execution_count": 33,
   "metadata": {
    "scrolled": true
   },
   "outputs": [
    {
     "data": {
      "application/vnd.jupyter.widget-view+json": {
       "model_id": "7cc01c45df5f4393b5127b27735a0bdf",
       "version_major": 2,
       "version_minor": 0
      },
      "text/plain": [
       "HBox(children=(IntProgress(value=0, max=1647782), HTML(value='')))"
      ]
     },
     "metadata": {},
     "output_type": "display_data"
    },
    {
     "name": "stdout",
     "output_type": "stream",
     "text": [
      "\n"
     ]
    }
   ],
   "source": [
    "from tqdm import tqdm_notebook\n",
    "org_sims = []\n",
    "for author_org, orgs in tqdm_notebook(data[['author_org', 'orgs']].values):\n",
    "    sim = []\n",
    "    if author_org == '' or pd.isna(author_org):\n",
    "        pass\n",
    "    else:\n",
    "        for o in orgs:\n",
    "            if o == '' or pd.isna(o):\n",
    "                continue\n",
    "            s = cos_sim(org_embedding[author_org], org_embedding[o])\n",
    "            sim.append(s)\n",
    "    if len(sim) == 0:\n",
    "        sim = [0]\n",
    "    org_sims.append(sim)"
   ]
  },
  {
   "cell_type": "code",
   "execution_count": 34,
   "metadata": {},
   "outputs": [
    {
     "data": {
      "text/html": [
       "<div>\n",
       "<style scoped>\n",
       "    .dataframe tbody tr th:only-of-type {\n",
       "        vertical-align: middle;\n",
       "    }\n",
       "\n",
       "    .dataframe tbody tr th {\n",
       "        vertical-align: top;\n",
       "    }\n",
       "\n",
       "    .dataframe thead th {\n",
       "        text-align: right;\n",
       "    }\n",
       "</style>\n",
       "<table border=\"1\" class=\"dataframe\">\n",
       "  <thead>\n",
       "    <tr style=\"text-align: right;\">\n",
       "      <th></th>\n",
       "      <th>author_id</th>\n",
       "      <th>author_name</th>\n",
       "      <th>author_org</th>\n",
       "      <th>label</th>\n",
       "      <th>paper_id</th>\n",
       "      <th>paper_ids</th>\n",
       "      <th>paper_ids_len</th>\n",
       "      <th>orgs</th>\n",
       "      <th>idx</th>\n",
       "      <th>org_sims</th>\n",
       "    </tr>\n",
       "  </thead>\n",
       "  <tbody>\n",
       "    <tr>\n",
       "      <th>0</th>\n",
       "      <td>8GjtUmBs</td>\n",
       "      <td>li_guo</td>\n",
       "      <td>Institute of Pharmacology and Toxicology</td>\n",
       "      <td>0.0</td>\n",
       "      <td>P9a1gcvg</td>\n",
       "      <td>[J5KPOi3Y]</td>\n",
       "      <td>1</td>\n",
       "      <td>[College of Geological Exploration Prospecting...</td>\n",
       "      <td>NaN</td>\n",
       "      <td>[0.4848203957080841]</td>\n",
       "    </tr>\n",
       "    <tr>\n",
       "      <th>1</th>\n",
       "      <td>EShnTfSe</td>\n",
       "      <td>li_guo</td>\n",
       "      <td>Institute of Pharmacology and Toxicology</td>\n",
       "      <td>1.0</td>\n",
       "      <td>P9a1gcvg</td>\n",
       "      <td>[P9a1gcvg]</td>\n",
       "      <td>1</td>\n",
       "      <td>[]</td>\n",
       "      <td>0.0</td>\n",
       "      <td>[0]</td>\n",
       "    </tr>\n",
       "    <tr>\n",
       "      <th>2</th>\n",
       "      <td>t1ruuB9N</td>\n",
       "      <td>li_guo</td>\n",
       "      <td>Institute of Pharmacology and Toxicology</td>\n",
       "      <td>0.0</td>\n",
       "      <td>P9a1gcvg</td>\n",
       "      <td>[T35c9ZAd]</td>\n",
       "      <td>1</td>\n",
       "      <td>[Geological Survey Institute of Beijing]</td>\n",
       "      <td>NaN</td>\n",
       "      <td>[0.48196685314178467]</td>\n",
       "    </tr>\n",
       "    <tr>\n",
       "      <th>3</th>\n",
       "      <td>xLLXKy6I</td>\n",
       "      <td>li_guo</td>\n",
       "      <td>Institute of Pharmacology and Toxicology</td>\n",
       "      <td>0.0</td>\n",
       "      <td>P9a1gcvg</td>\n",
       "      <td>[OQ7F7UAh]</td>\n",
       "      <td>1</td>\n",
       "      <td>[Guangdong Electric Power Design Institute]</td>\n",
       "      <td>NaN</td>\n",
       "      <td>[0.5620583891868591]</td>\n",
       "    </tr>\n",
       "    <tr>\n",
       "      <th>4</th>\n",
       "      <td>jTu2AZES</td>\n",
       "      <td>li_guo</td>\n",
       "      <td>Institute of Pharmacology and Toxicology</td>\n",
       "      <td>0.0</td>\n",
       "      <td>P9a1gcvg</td>\n",
       "      <td>[NRR6kM3z]</td>\n",
       "      <td>1</td>\n",
       "      <td>[Department of Neurology]</td>\n",
       "      <td>NaN</td>\n",
       "      <td>[0.6908237934112549]</td>\n",
       "    </tr>\n",
       "  </tbody>\n",
       "</table>\n",
       "</div>"
      ],
      "text/plain": [
       "  author_id author_name                                author_org  label  \\\n",
       "0  8GjtUmBs      li_guo  Institute of Pharmacology and Toxicology    0.0   \n",
       "1  EShnTfSe      li_guo  Institute of Pharmacology and Toxicology    1.0   \n",
       "2  t1ruuB9N      li_guo  Institute of Pharmacology and Toxicology    0.0   \n",
       "3  xLLXKy6I      li_guo  Institute of Pharmacology and Toxicology    0.0   \n",
       "4  jTu2AZES      li_guo  Institute of Pharmacology and Toxicology    0.0   \n",
       "\n",
       "   paper_id   paper_ids  paper_ids_len  \\\n",
       "0  P9a1gcvg  [J5KPOi3Y]              1   \n",
       "1  P9a1gcvg  [P9a1gcvg]              1   \n",
       "2  P9a1gcvg  [T35c9ZAd]              1   \n",
       "3  P9a1gcvg  [OQ7F7UAh]              1   \n",
       "4  P9a1gcvg  [NRR6kM3z]              1   \n",
       "\n",
       "                                                orgs  idx  \\\n",
       "0  [College of Geological Exploration Prospecting...  NaN   \n",
       "1                                                 []  0.0   \n",
       "2           [Geological Survey Institute of Beijing]  NaN   \n",
       "3        [Guangdong Electric Power Design Institute]  NaN   \n",
       "4                          [Department of Neurology]  NaN   \n",
       "\n",
       "                org_sims  \n",
       "0   [0.4848203957080841]  \n",
       "1                    [0]  \n",
       "2  [0.48196685314178467]  \n",
       "3   [0.5620583891868591]  \n",
       "4   [0.6908237934112549]  "
      ]
     },
     "execution_count": 34,
     "metadata": {},
     "output_type": "execute_result"
    }
   ],
   "source": [
    "data['org_sims'] = org_sims\n",
    "data.head()"
   ]
  },
  {
   "cell_type": "code",
   "execution_count": 35,
   "metadata": {},
   "outputs": [],
   "source": [
    "data['orgs_sims_max2'] = data['org_sims'].apply(np.max)\n",
    "data['orgs_sims_min2'] = data['org_sims'].apply(np.min)\n",
    "data['orgs_sims_mean2'] = data['org_sims'].apply(np.mean)\n",
    "data['orgs_sims_std2'] = data['org_sims'].apply(np.std)"
   ]
  },
  {
   "cell_type": "code",
   "execution_count": 36,
   "metadata": {},
   "outputs": [
    {
     "data": {
      "text/html": [
       "<div>\n",
       "<style scoped>\n",
       "    .dataframe tbody tr th:only-of-type {\n",
       "        vertical-align: middle;\n",
       "    }\n",
       "\n",
       "    .dataframe tbody tr th {\n",
       "        vertical-align: top;\n",
       "    }\n",
       "\n",
       "    .dataframe thead th {\n",
       "        text-align: right;\n",
       "    }\n",
       "</style>\n",
       "<table border=\"1\" class=\"dataframe\">\n",
       "  <thead>\n",
       "    <tr style=\"text-align: right;\">\n",
       "      <th></th>\n",
       "      <th>author_id</th>\n",
       "      <th>author_name</th>\n",
       "      <th>author_org</th>\n",
       "      <th>label</th>\n",
       "      <th>paper_id</th>\n",
       "      <th>paper_ids</th>\n",
       "      <th>paper_ids_len</th>\n",
       "      <th>orgs</th>\n",
       "      <th>idx</th>\n",
       "      <th>org_sims</th>\n",
       "      <th>orgs_sims_max2</th>\n",
       "      <th>orgs_sims_min2</th>\n",
       "      <th>orgs_sims_mean2</th>\n",
       "      <th>orgs_sims_std2</th>\n",
       "    </tr>\n",
       "  </thead>\n",
       "  <tbody>\n",
       "    <tr>\n",
       "      <th>0</th>\n",
       "      <td>8GjtUmBs</td>\n",
       "      <td>li_guo</td>\n",
       "      <td>Institute of Pharmacology and Toxicology</td>\n",
       "      <td>0.0</td>\n",
       "      <td>P9a1gcvg</td>\n",
       "      <td>[J5KPOi3Y]</td>\n",
       "      <td>1</td>\n",
       "      <td>[College of Geological Exploration Prospecting...</td>\n",
       "      <td>NaN</td>\n",
       "      <td>[0.4848203957080841]</td>\n",
       "      <td>0.484820</td>\n",
       "      <td>0.484820</td>\n",
       "      <td>0.484820</td>\n",
       "      <td>0.0</td>\n",
       "    </tr>\n",
       "    <tr>\n",
       "      <th>1</th>\n",
       "      <td>EShnTfSe</td>\n",
       "      <td>li_guo</td>\n",
       "      <td>Institute of Pharmacology and Toxicology</td>\n",
       "      <td>1.0</td>\n",
       "      <td>P9a1gcvg</td>\n",
       "      <td>[P9a1gcvg]</td>\n",
       "      <td>1</td>\n",
       "      <td>[]</td>\n",
       "      <td>0.0</td>\n",
       "      <td>[0]</td>\n",
       "      <td>0.000000</td>\n",
       "      <td>0.000000</td>\n",
       "      <td>0.000000</td>\n",
       "      <td>0.0</td>\n",
       "    </tr>\n",
       "    <tr>\n",
       "      <th>2</th>\n",
       "      <td>t1ruuB9N</td>\n",
       "      <td>li_guo</td>\n",
       "      <td>Institute of Pharmacology and Toxicology</td>\n",
       "      <td>0.0</td>\n",
       "      <td>P9a1gcvg</td>\n",
       "      <td>[T35c9ZAd]</td>\n",
       "      <td>1</td>\n",
       "      <td>[Geological Survey Institute of Beijing]</td>\n",
       "      <td>NaN</td>\n",
       "      <td>[0.48196685314178467]</td>\n",
       "      <td>0.481967</td>\n",
       "      <td>0.481967</td>\n",
       "      <td>0.481967</td>\n",
       "      <td>0.0</td>\n",
       "    </tr>\n",
       "  </tbody>\n",
       "</table>\n",
       "</div>"
      ],
      "text/plain": [
       "  author_id author_name                                author_org  label  \\\n",
       "0  8GjtUmBs      li_guo  Institute of Pharmacology and Toxicology    0.0   \n",
       "1  EShnTfSe      li_guo  Institute of Pharmacology and Toxicology    1.0   \n",
       "2  t1ruuB9N      li_guo  Institute of Pharmacology and Toxicology    0.0   \n",
       "\n",
       "   paper_id   paper_ids  paper_ids_len  \\\n",
       "0  P9a1gcvg  [J5KPOi3Y]              1   \n",
       "1  P9a1gcvg  [P9a1gcvg]              1   \n",
       "2  P9a1gcvg  [T35c9ZAd]              1   \n",
       "\n",
       "                                                orgs  idx  \\\n",
       "0  [College of Geological Exploration Prospecting...  NaN   \n",
       "1                                                 []  0.0   \n",
       "2           [Geological Survey Institute of Beijing]  NaN   \n",
       "\n",
       "                org_sims  orgs_sims_max2  orgs_sims_min2  orgs_sims_mean2  \\\n",
       "0   [0.4848203957080841]        0.484820        0.484820         0.484820   \n",
       "1                    [0]        0.000000        0.000000         0.000000   \n",
       "2  [0.48196685314178467]        0.481967        0.481967         0.481967   \n",
       "\n",
       "   orgs_sims_std2  \n",
       "0             0.0  \n",
       "1             0.0  \n",
       "2             0.0  "
      ]
     },
     "execution_count": 36,
     "metadata": {},
     "output_type": "execute_result"
    }
   ],
   "source": [
    "data.head(3)"
   ]
  },
  {
   "cell_type": "code",
   "execution_count": 37,
   "metadata": {},
   "outputs": [],
   "source": [
    "data['paper_num'] = data['paper_ids_len'] - (data['label'] == 1).astype(int)"
   ]
  },
  {
   "cell_type": "code",
   "execution_count": 38,
   "metadata": {},
   "outputs": [],
   "source": [
    "data['orgs_num'] = data['orgs'].apply(len) + (data['label'] == 1).astype(int)"
   ]
  },
  {
   "cell_type": "code",
   "execution_count": 39,
   "metadata": {},
   "outputs": [],
   "source": [
    "data[['paper_num', 'orgs_num', 'orgs_sims_max2', 'orgs_sims_min2', 'orgs_sims_mean2', 'orgs_sims_std2']].to_pickle('./feat/feat_v3_bert.pkl')"
   ]
  },
  {
   "cell_type": "code",
   "execution_count": null,
   "metadata": {},
   "outputs": [],
   "source": []
  }
 ],
 "metadata": {
  "kernelspec": {
   "display_name": "Python 3",
   "language": "python",
   "name": "python3"
  },
  "language_info": {
   "codemirror_mode": {
    "name": "ipython",
    "version": 3
   },
   "file_extension": ".py",
   "mimetype": "text/x-python",
   "name": "python",
   "nbconvert_exporter": "python",
   "pygments_lexer": "ipython3",
   "version": "3.6.7"
  }
 },
 "nbformat": 4,
 "nbformat_minor": 2
}
