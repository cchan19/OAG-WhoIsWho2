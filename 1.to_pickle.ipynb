{
 "cells": [
  {
   "cell_type": "code",
   "execution_count": 1,
   "metadata": {},
   "outputs": [],
   "source": [
    "import json\n",
    "import os\n",
    "import numpy as np\n",
    "import pandas as pd\n",
    "from collections import OrderedDict"
   ]
  },
  {
   "cell_type": "code",
   "execution_count": 2,
   "metadata": {},
   "outputs": [],
   "source": [
    "pkl_path = './pkl'\n",
    "if not os.path.exists(pkl_path):\n",
    "    os.mkdir(pkl_path)"
   ]
  },
  {
   "cell_type": "code",
   "execution_count": 3,
   "metadata": {},
   "outputs": [],
   "source": [
    "with open('../data/cna_data/valid_example_evaluation_continuous.json') as file:\n",
    "    valid_example = json.load(file, object_pairs_hook=OrderedDict)\n",
    "with open('../data/cna_data/cna_valid_pub.json') as file:\n",
    "    cna_valid_pub = json.load(file, object_pairs_hook=OrderedDict)\n",
    "with open('../data/cna_data/cna_valid_unass_competition.json') as file:\n",
    "    cna_valid_unass = json.load(file, object_pairs_hook=OrderedDict)\n",
    "with open('../data/cna_data/whole_author_profile.json') as file:\n",
    "    whole_author_profile = json.load(file, object_pairs_hook=OrderedDict)\n",
    "with open('../data/cna_data/whole_author_profile_pub.json') as file:\n",
    "    whole_author_profile_pub = json.load(file, object_pairs_hook=OrderedDict)"
   ]
  },
  {
   "cell_type": "code",
   "execution_count": 4,
   "metadata": {},
   "outputs": [],
   "source": [
    "with open('../data/train/train_pub.json') as file:\n",
    "    train_pub = json.load(file, object_pairs_hook=OrderedDict)\n",
    "with open('../data/train/train_author.json') as file:\n",
    "    train_author = json.load(file, object_pairs_hook=OrderedDict)"
   ]
  },
  {
   "cell_type": "markdown",
   "metadata": {},
   "source": [
    "### train_author"
   ]
  },
  {
   "cell_type": "code",
   "execution_count": 5,
   "metadata": {},
   "outputs": [],
   "source": [
    "# 1. author_name, author_ids\n",
    "train_author_names = list(train_author.keys())\n",
    "train_author_ids = [list(v.keys()) for v in train_author.values()]\n",
    "train_author_name_ids = pd.DataFrame(list(zip(train_author_names, train_author_ids)), columns=['author_name', 'author_ids'])"
   ]
  },
  {
   "cell_type": "code",
   "execution_count": 6,
   "metadata": {},
   "outputs": [
    {
     "data": {
      "text/html": [
       "<div>\n",
       "<style scoped>\n",
       "    .dataframe tbody tr th:only-of-type {\n",
       "        vertical-align: middle;\n",
       "    }\n",
       "\n",
       "    .dataframe tbody tr th {\n",
       "        vertical-align: top;\n",
       "    }\n",
       "\n",
       "    .dataframe thead th {\n",
       "        text-align: right;\n",
       "    }\n",
       "</style>\n",
       "<table border=\"1\" class=\"dataframe\">\n",
       "  <thead>\n",
       "    <tr style=\"text-align: right;\">\n",
       "      <th></th>\n",
       "      <th>author_name</th>\n",
       "      <th>author_ids</th>\n",
       "    </tr>\n",
       "  </thead>\n",
       "  <tbody>\n",
       "    <tr>\n",
       "      <th>0</th>\n",
       "      <td>li_guo</td>\n",
       "      <td>[EShnTfSe, sCKCrny5, SY2FEqNj, XXFI1LfP, KZUHq...</td>\n",
       "    </tr>\n",
       "    <tr>\n",
       "      <th>1</th>\n",
       "      <td>bo_shen</td>\n",
       "      <td>[dMMuUSbg, r91hXBvS, kk7noJ6Z, S0KddW6h, kUxuc...</td>\n",
       "    </tr>\n",
       "    <tr>\n",
       "      <th>2</th>\n",
       "      <td>di_wang</td>\n",
       "      <td>[2o9S3IgV, uzBq8AY4, 7NLyk3Bt, kYTys3CU, 3XCRz...</td>\n",
       "    </tr>\n",
       "    <tr>\n",
       "      <th>3</th>\n",
       "      <td>long_wang</td>\n",
       "      <td>[uKI2RE1e, K2JAovvb, vWlBGAUA, FLgn5LLT, 7bIVU...</td>\n",
       "    </tr>\n",
       "    <tr>\n",
       "      <th>4</th>\n",
       "      <td>qiang_xu</td>\n",
       "      <td>[IYKUkSRi, W32PyUka, oBEDBnzr, NDYPRF7h, 4pv4t...</td>\n",
       "    </tr>\n",
       "  </tbody>\n",
       "</table>\n",
       "</div>"
      ],
      "text/plain": [
       "  author_name                                         author_ids\n",
       "0      li_guo  [EShnTfSe, sCKCrny5, SY2FEqNj, XXFI1LfP, KZUHq...\n",
       "1     bo_shen  [dMMuUSbg, r91hXBvS, kk7noJ6Z, S0KddW6h, kUxuc...\n",
       "2     di_wang  [2o9S3IgV, uzBq8AY4, 7NLyk3Bt, kYTys3CU, 3XCRz...\n",
       "3   long_wang  [uKI2RE1e, K2JAovvb, vWlBGAUA, FLgn5LLT, 7bIVU...\n",
       "4    qiang_xu  [IYKUkSRi, W32PyUka, oBEDBnzr, NDYPRF7h, 4pv4t..."
      ]
     },
     "execution_count": 6,
     "metadata": {},
     "output_type": "execute_result"
    }
   ],
   "source": [
    "train_author_name_ids.head()"
   ]
  },
  {
   "cell_type": "code",
   "execution_count": 7,
   "metadata": {},
   "outputs": [],
   "source": [
    "train_author_name_ids.to_pickle('./pkl/train_author_name_ids.pkl')"
   ]
  },
  {
   "cell_type": "code",
   "execution_count": 8,
   "metadata": {},
   "outputs": [],
   "source": [
    "# 2. author_id, paper_ids\n",
    "train_author_paper_ids = pd.DataFrame([(k2, v2) for v1 in train_author.values() for k2, v2 in v1.items()], columns=['author_id', 'paper_ids'])"
   ]
  },
  {
   "cell_type": "code",
   "execution_count": 9,
   "metadata": {},
   "outputs": [
    {
     "data": {
      "text/html": [
       "<div>\n",
       "<style scoped>\n",
       "    .dataframe tbody tr th:only-of-type {\n",
       "        vertical-align: middle;\n",
       "    }\n",
       "\n",
       "    .dataframe tbody tr th {\n",
       "        vertical-align: top;\n",
       "    }\n",
       "\n",
       "    .dataframe thead th {\n",
       "        text-align: right;\n",
       "    }\n",
       "</style>\n",
       "<table border=\"1\" class=\"dataframe\">\n",
       "  <thead>\n",
       "    <tr style=\"text-align: right;\">\n",
       "      <th></th>\n",
       "      <th>author_id</th>\n",
       "      <th>paper_ids</th>\n",
       "    </tr>\n",
       "  </thead>\n",
       "  <tbody>\n",
       "    <tr>\n",
       "      <th>0</th>\n",
       "      <td>EShnTfSe</td>\n",
       "      <td>[P9a1gcvg]</td>\n",
       "    </tr>\n",
       "    <tr>\n",
       "      <th>1</th>\n",
       "      <td>sCKCrny5</td>\n",
       "      <td>[Rg5fAeTd, lJPsGNBE, er5gTz90, UG32p2zs, FTweB...</td>\n",
       "    </tr>\n",
       "    <tr>\n",
       "      <th>2</th>\n",
       "      <td>SY2FEqNj</td>\n",
       "      <td>[2EGB9ZLn]</td>\n",
       "    </tr>\n",
       "    <tr>\n",
       "      <th>3</th>\n",
       "      <td>XXFI1LfP</td>\n",
       "      <td>[wd3ugFQM, pYKTrEQj, ZUfWc0Zj, jMErL46k, g2a7a...</td>\n",
       "    </tr>\n",
       "    <tr>\n",
       "      <th>4</th>\n",
       "      <td>KZUHqEs8</td>\n",
       "      <td>[u1BaKbeK, 3Vez4kTb, q6I5CrjK, 4r4hJNan, WTpMs...</td>\n",
       "    </tr>\n",
       "  </tbody>\n",
       "</table>\n",
       "</div>"
      ],
      "text/plain": [
       "  author_id                                          paper_ids\n",
       "0  EShnTfSe                                         [P9a1gcvg]\n",
       "1  sCKCrny5  [Rg5fAeTd, lJPsGNBE, er5gTz90, UG32p2zs, FTweB...\n",
       "2  SY2FEqNj                                         [2EGB9ZLn]\n",
       "3  XXFI1LfP  [wd3ugFQM, pYKTrEQj, ZUfWc0Zj, jMErL46k, g2a7a...\n",
       "4  KZUHqEs8  [u1BaKbeK, 3Vez4kTb, q6I5CrjK, 4r4hJNan, WTpMs..."
      ]
     },
     "execution_count": 9,
     "metadata": {},
     "output_type": "execute_result"
    }
   ],
   "source": [
    "train_author_paper_ids.head()"
   ]
  },
  {
   "cell_type": "code",
   "execution_count": 10,
   "metadata": {},
   "outputs": [],
   "source": [
    "train_author_paper_ids.to_pickle('./pkl/train_author_paper_ids.pkl')"
   ]
  },
  {
   "cell_type": "markdown",
   "metadata": {},
   "source": [
    "### train_pub"
   ]
  },
  {
   "cell_type": "code",
   "execution_count": 11,
   "metadata": {},
   "outputs": [],
   "source": [
    "# paper_id, author_names&orgs, title, venue, year, keywords, abstract\n",
    "train_pub_info = pd.DataFrame.from_dict(train_pub, orient='index').reset_index(drop=True).rename({'id':'paper_id'}, axis=1)"
   ]
  },
  {
   "cell_type": "code",
   "execution_count": 12,
   "metadata": {},
   "outputs": [
    {
     "data": {
      "text/html": [
       "<div>\n",
       "<style scoped>\n",
       "    .dataframe tbody tr th:only-of-type {\n",
       "        vertical-align: middle;\n",
       "    }\n",
       "\n",
       "    .dataframe tbody tr th {\n",
       "        vertical-align: top;\n",
       "    }\n",
       "\n",
       "    .dataframe thead th {\n",
       "        text-align: right;\n",
       "    }\n",
       "</style>\n",
       "<table border=\"1\" class=\"dataframe\">\n",
       "  <thead>\n",
       "    <tr style=\"text-align: right;\">\n",
       "      <th></th>\n",
       "      <th>authors</th>\n",
       "      <th>title</th>\n",
       "      <th>abstract</th>\n",
       "      <th>keywords</th>\n",
       "      <th>venue</th>\n",
       "      <th>year</th>\n",
       "      <th>paper_id</th>\n",
       "    </tr>\n",
       "  </thead>\n",
       "  <tbody>\n",
       "    <tr>\n",
       "      <th>0</th>\n",
       "      <td>[{'name': 'Ya Liu', 'org': 'Sch. of Electron. ...</td>\n",
       "      <td>Generating ultra-long bound soliton sequences ...</td>\n",
       "      <td>Extremely long states of bound solitons consis...</td>\n",
       "      <td>[carbon nanotubes, fibre lasers, laser cavity ...</td>\n",
       "      <td>Lasers and Electro-Optics</td>\n",
       "      <td>2014</td>\n",
       "      <td>0009qJgC</td>\n",
       "    </tr>\n",
       "    <tr>\n",
       "      <th>1</th>\n",
       "      <td>[{'name': 'Xiaowei Wang', 'org': 'Department o...</td>\n",
       "      <td>Increased Frequency of Th17 Cells in Children ...</td>\n",
       "      <td>Our findings suggest that Th17 cells may be in...</td>\n",
       "      <td>[Mycoplasma Pneumoniae, Th17 cells, children, ...</td>\n",
       "      <td>Journal of clinical laboratory analysis</td>\n",
       "      <td>2016</td>\n",
       "      <td>000HsdYy</td>\n",
       "    </tr>\n",
       "    <tr>\n",
       "      <th>2</th>\n",
       "      <td>[{'name': 'jun chen', 'org': ''}, {'name': 'xi...</td>\n",
       "      <td>Rapid Synthesis of Multiferroic BiFeO 3 Single...</td>\n",
       "      <td></td>\n",
       "      <td>[]</td>\n",
       "      <td>Chemistry of Materials</td>\n",
       "      <td>2007</td>\n",
       "      <td>000NKgQT</td>\n",
       "    </tr>\n",
       "    <tr>\n",
       "      <th>3</th>\n",
       "      <td>[{'name': 'H. Jia', 'org': 'Hejiang Agric. Res...</td>\n",
       "      <td>Improvement of planosol solum. Part 10: Mixing...</td>\n",
       "      <td>Based on field cultivation tests by Zhao and s...</td>\n",
       "      <td>[]</td>\n",
       "      <td>Journal of Agricultural Engineering Research</td>\n",
       "      <td>1998</td>\n",
       "      <td>00171xae</td>\n",
       "    </tr>\n",
       "    <tr>\n",
       "      <th>4</th>\n",
       "      <td>[{'name': 'Wen-Feng Hao', 'org': 'Beijing Key ...</td>\n",
       "      <td>Evaluation of mode I stress intensity factor o...</td>\n",
       "      <td>Digital image correlation method was used to s...</td>\n",
       "      <td>[Aramid fiber composite materials, Crack, Digi...</td>\n",
       "      <td>Hangkong Cailiao Xuebao/Journal of Aeronautica...</td>\n",
       "      <td>2015</td>\n",
       "      <td>001DKvDS</td>\n",
       "    </tr>\n",
       "  </tbody>\n",
       "</table>\n",
       "</div>"
      ],
      "text/plain": [
       "                                             authors  \\\n",
       "0  [{'name': 'Ya Liu', 'org': 'Sch. of Electron. ...   \n",
       "1  [{'name': 'Xiaowei Wang', 'org': 'Department o...   \n",
       "2  [{'name': 'jun chen', 'org': ''}, {'name': 'xi...   \n",
       "3  [{'name': 'H. Jia', 'org': 'Hejiang Agric. Res...   \n",
       "4  [{'name': 'Wen-Feng Hao', 'org': 'Beijing Key ...   \n",
       "\n",
       "                                               title  \\\n",
       "0  Generating ultra-long bound soliton sequences ...   \n",
       "1  Increased Frequency of Th17 Cells in Children ...   \n",
       "2  Rapid Synthesis of Multiferroic BiFeO 3 Single...   \n",
       "3  Improvement of planosol solum. Part 10: Mixing...   \n",
       "4  Evaluation of mode I stress intensity factor o...   \n",
       "\n",
       "                                            abstract  \\\n",
       "0  Extremely long states of bound solitons consis...   \n",
       "1  Our findings suggest that Th17 cells may be in...   \n",
       "2                                                      \n",
       "3  Based on field cultivation tests by Zhao and s...   \n",
       "4  Digital image correlation method was used to s...   \n",
       "\n",
       "                                            keywords  \\\n",
       "0  [carbon nanotubes, fibre lasers, laser cavity ...   \n",
       "1  [Mycoplasma Pneumoniae, Th17 cells, children, ...   \n",
       "2                                                 []   \n",
       "3                                                 []   \n",
       "4  [Aramid fiber composite materials, Crack, Digi...   \n",
       "\n",
       "                                               venue  year  paper_id  \n",
       "0                          Lasers and Electro-Optics  2014  0009qJgC  \n",
       "1            Journal of clinical laboratory analysis  2016  000HsdYy  \n",
       "2                             Chemistry of Materials  2007  000NKgQT  \n",
       "3       Journal of Agricultural Engineering Research  1998  00171xae  \n",
       "4  Hangkong Cailiao Xuebao/Journal of Aeronautica...  2015  001DKvDS  "
      ]
     },
     "execution_count": 12,
     "metadata": {},
     "output_type": "execute_result"
    }
   ],
   "source": [
    "train_pub_info.head()"
   ]
  },
  {
   "cell_type": "code",
   "execution_count": 13,
   "metadata": {},
   "outputs": [],
   "source": [
    "train_pub_info.to_pickle('./pkl/train_pub_info.pkl')"
   ]
  },
  {
   "cell_type": "markdown",
   "metadata": {},
   "source": [
    "### whole_author_profile"
   ]
  },
  {
   "cell_type": "code",
   "execution_count": 14,
   "metadata": {},
   "outputs": [],
   "source": [
    "whole_author_name_paper_ids = pd.DataFrame.from_dict(whole_author_profile, orient='index').reset_index()\n",
    "whole_author_name_paper_ids.columns = ['author_id', 'author_name', 'paper_ids']"
   ]
  },
  {
   "cell_type": "code",
   "execution_count": 15,
   "metadata": {},
   "outputs": [
    {
     "data": {
      "text/html": [
       "<div>\n",
       "<style scoped>\n",
       "    .dataframe tbody tr th:only-of-type {\n",
       "        vertical-align: middle;\n",
       "    }\n",
       "\n",
       "    .dataframe tbody tr th {\n",
       "        vertical-align: top;\n",
       "    }\n",
       "\n",
       "    .dataframe thead th {\n",
       "        text-align: right;\n",
       "    }\n",
       "</style>\n",
       "<table border=\"1\" class=\"dataframe\">\n",
       "  <thead>\n",
       "    <tr style=\"text-align: right;\">\n",
       "      <th></th>\n",
       "      <th>author_id</th>\n",
       "      <th>author_name</th>\n",
       "      <th>paper_ids</th>\n",
       "    </tr>\n",
       "  </thead>\n",
       "  <tbody>\n",
       "    <tr>\n",
       "      <th>0</th>\n",
       "      <td>004mBKh6</td>\n",
       "      <td>changsheng_li</td>\n",
       "      <td>[lRl7m2tU, 1vUnZLES, 5IbEOTRh, dVAKsHla, TY0MY...</td>\n",
       "    </tr>\n",
       "    <tr>\n",
       "      <th>1</th>\n",
       "      <td>008b5hIc</td>\n",
       "      <td>yuanyuan_liu</td>\n",
       "      <td>[nPuf0kYs]</td>\n",
       "    </tr>\n",
       "    <tr>\n",
       "      <th>2</th>\n",
       "      <td>00BAgHFr</td>\n",
       "      <td>xi_li</td>\n",
       "      <td>[TuEkjf5i, kn6wo3ot, 0f2awX7U]</td>\n",
       "    </tr>\n",
       "    <tr>\n",
       "      <th>3</th>\n",
       "      <td>00M93JDI</td>\n",
       "      <td>weiping_cai</td>\n",
       "      <td>[mHDfYkqE, RWISo90R, FSsnfI0X, 4U4GvMmc, Yh45T...</td>\n",
       "    </tr>\n",
       "    <tr>\n",
       "      <th>4</th>\n",
       "      <td>00ShLPmg</td>\n",
       "      <td>hong_xiao</td>\n",
       "      <td>[inFGp3mc, uyJus3zu, o6poFI1m, KvHObx7O, vg64a...</td>\n",
       "    </tr>\n",
       "  </tbody>\n",
       "</table>\n",
       "</div>"
      ],
      "text/plain": [
       "  author_id    author_name                                          paper_ids\n",
       "0  004mBKh6  changsheng_li  [lRl7m2tU, 1vUnZLES, 5IbEOTRh, dVAKsHla, TY0MY...\n",
       "1  008b5hIc   yuanyuan_liu                                         [nPuf0kYs]\n",
       "2  00BAgHFr          xi_li                     [TuEkjf5i, kn6wo3ot, 0f2awX7U]\n",
       "3  00M93JDI    weiping_cai  [mHDfYkqE, RWISo90R, FSsnfI0X, 4U4GvMmc, Yh45T...\n",
       "4  00ShLPmg      hong_xiao  [inFGp3mc, uyJus3zu, o6poFI1m, KvHObx7O, vg64a..."
      ]
     },
     "execution_count": 15,
     "metadata": {},
     "output_type": "execute_result"
    }
   ],
   "source": [
    "whole_author_name_paper_ids.head()"
   ]
  },
  {
   "cell_type": "code",
   "execution_count": 16,
   "metadata": {},
   "outputs": [],
   "source": [
    "whole_author_name_paper_ids.to_pickle('./pkl/whole_author_name_paper_ids.pkl')"
   ]
  },
  {
   "cell_type": "markdown",
   "metadata": {},
   "source": [
    "### whole_author_profile_pub"
   ]
  },
  {
   "cell_type": "code",
   "execution_count": 17,
   "metadata": {},
   "outputs": [],
   "source": [
    "# paper_id, author_names&orgs, title, venue, year, keywords, abstract\n",
    "whole_pub_info = pd.DataFrame.from_dict(whole_author_profile_pub, orient='index').reset_index(drop=True).rename({'id':'paper_id'}, axis=1)"
   ]
  },
  {
   "cell_type": "code",
   "execution_count": 18,
   "metadata": {},
   "outputs": [
    {
     "data": {
      "text/html": [
       "<div>\n",
       "<style scoped>\n",
       "    .dataframe tbody tr th:only-of-type {\n",
       "        vertical-align: middle;\n",
       "    }\n",
       "\n",
       "    .dataframe tbody tr th {\n",
       "        vertical-align: top;\n",
       "    }\n",
       "\n",
       "    .dataframe thead th {\n",
       "        text-align: right;\n",
       "    }\n",
       "</style>\n",
       "<table border=\"1\" class=\"dataframe\">\n",
       "  <thead>\n",
       "    <tr style=\"text-align: right;\">\n",
       "      <th></th>\n",
       "      <th>paper_id</th>\n",
       "      <th>title</th>\n",
       "      <th>abstract</th>\n",
       "      <th>keywords</th>\n",
       "      <th>authors</th>\n",
       "      <th>venue</th>\n",
       "      <th>year</th>\n",
       "    </tr>\n",
       "  </thead>\n",
       "  <tbody>\n",
       "    <tr>\n",
       "      <th>0</th>\n",
       "      <td>0009qJgC</td>\n",
       "      <td>Generating ultra-long bound soliton sequences ...</td>\n",
       "      <td>Extremely long states of bound solitons consis...</td>\n",
       "      <td>[carbon nanotubes, fibre lasers, laser cavity ...</td>\n",
       "      <td>[{'name': 'Ya Liu', 'org': 'Sch. of Electron. ...</td>\n",
       "      <td>Lasers and Electro-Optics</td>\n",
       "      <td>2014</td>\n",
       "    </tr>\n",
       "    <tr>\n",
       "      <th>1</th>\n",
       "      <td>000BMUBY</td>\n",
       "      <td>Multiresolution Indexing of XML for Frequent Q...</td>\n",
       "      <td>NaN</td>\n",
       "      <td>[different part, data graph, variety ofstructu...</td>\n",
       "      <td>[{'name': 'Hao He'}, {'name': 'Jun Yang'}]</td>\n",
       "      <td>icde</td>\n",
       "      <td>2004</td>\n",
       "    </tr>\n",
       "    <tr>\n",
       "      <th>2</th>\n",
       "      <td>000Fmw78</td>\n",
       "      <td>Relocation of the Yellow River as revealed by ...</td>\n",
       "      <td>The Yellow River (YR) supplies a large amount ...</td>\n",
       "      <td>[13C, 15N, East China Sea, Trace element, Yell...</td>\n",
       "      <td>[{'name': 'Weifeng Yang', 'org': 'State Key La...</td>\n",
       "      <td>Marine Pollution Bulletin</td>\n",
       "      <td>2009</td>\n",
       "    </tr>\n",
       "    <tr>\n",
       "      <th>3</th>\n",
       "      <td>000HsdYy</td>\n",
       "      <td>Increased Frequency of Th17 Cells in Children ...</td>\n",
       "      <td>Our findings suggest that Th17 cells may be in...</td>\n",
       "      <td>[Mycoplasma Pneumoniae, Th17 cells, children, ...</td>\n",
       "      <td>[{'name': 'Xiaowei Wang', 'org': 'Department o...</td>\n",
       "      <td>Journal of clinical laboratory analysis</td>\n",
       "      <td>2016</td>\n",
       "    </tr>\n",
       "    <tr>\n",
       "      <th>4</th>\n",
       "      <td>000NKgQT</td>\n",
       "      <td>Rapid Synthesis of Multiferroic BiFeO 3 Single...</td>\n",
       "      <td></td>\n",
       "      <td>[]</td>\n",
       "      <td>[{'name': 'jun chen', 'org': ''}, {'name': 'xi...</td>\n",
       "      <td>Chemistry of Materials</td>\n",
       "      <td>2007</td>\n",
       "    </tr>\n",
       "  </tbody>\n",
       "</table>\n",
       "</div>"
      ],
      "text/plain": [
       "   paper_id                                              title  \\\n",
       "0  0009qJgC  Generating ultra-long bound soliton sequences ...   \n",
       "1  000BMUBY  Multiresolution Indexing of XML for Frequent Q...   \n",
       "2  000Fmw78  Relocation of the Yellow River as revealed by ...   \n",
       "3  000HsdYy  Increased Frequency of Th17 Cells in Children ...   \n",
       "4  000NKgQT  Rapid Synthesis of Multiferroic BiFeO 3 Single...   \n",
       "\n",
       "                                            abstract  \\\n",
       "0  Extremely long states of bound solitons consis...   \n",
       "1                                                NaN   \n",
       "2  The Yellow River (YR) supplies a large amount ...   \n",
       "3  Our findings suggest that Th17 cells may be in...   \n",
       "4                                                      \n",
       "\n",
       "                                            keywords  \\\n",
       "0  [carbon nanotubes, fibre lasers, laser cavity ...   \n",
       "1  [different part, data graph, variety ofstructu...   \n",
       "2  [13C, 15N, East China Sea, Trace element, Yell...   \n",
       "3  [Mycoplasma Pneumoniae, Th17 cells, children, ...   \n",
       "4                                                 []   \n",
       "\n",
       "                                             authors  \\\n",
       "0  [{'name': 'Ya Liu', 'org': 'Sch. of Electron. ...   \n",
       "1         [{'name': 'Hao He'}, {'name': 'Jun Yang'}]   \n",
       "2  [{'name': 'Weifeng Yang', 'org': 'State Key La...   \n",
       "3  [{'name': 'Xiaowei Wang', 'org': 'Department o...   \n",
       "4  [{'name': 'jun chen', 'org': ''}, {'name': 'xi...   \n",
       "\n",
       "                                     venue  year  \n",
       "0                Lasers and Electro-Optics  2014  \n",
       "1                                     icde  2004  \n",
       "2                Marine Pollution Bulletin  2009  \n",
       "3  Journal of clinical laboratory analysis  2016  \n",
       "4                   Chemistry of Materials  2007  "
      ]
     },
     "execution_count": 18,
     "metadata": {},
     "output_type": "execute_result"
    }
   ],
   "source": [
    "whole_pub_info.head()"
   ]
  },
  {
   "cell_type": "code",
   "execution_count": 19,
   "metadata": {},
   "outputs": [],
   "source": [
    "whole_pub_info.to_pickle('./pkl/whole_pub_info.pkl')"
   ]
  },
  {
   "cell_type": "markdown",
   "metadata": {},
   "source": [
    "### cna_valid_unass"
   ]
  },
  {
   "cell_type": "code",
   "execution_count": 20,
   "metadata": {},
   "outputs": [],
   "source": [
    "cna_valid_unass = pd.DataFrame(cna_valid_unass, columns=['cna_valid_unass'])"
   ]
  },
  {
   "cell_type": "code",
   "execution_count": 21,
   "metadata": {},
   "outputs": [],
   "source": [
    "cna_valid_unass['cna_valid_unass'] = cna_valid_unass['cna_valid_unass'].apply(lambda x: x.split('-'))"
   ]
  },
  {
   "cell_type": "code",
   "execution_count": 22,
   "metadata": {},
   "outputs": [],
   "source": [
    "cna_valid_unass['paper_id'] = cna_valid_unass['cna_valid_unass'].apply(lambda x: x[0])\n",
    "cna_valid_unass['author_idx'] = cna_valid_unass['cna_valid_unass'].apply(lambda x: x[1])"
   ]
  },
  {
   "cell_type": "code",
   "execution_count": 23,
   "metadata": {},
   "outputs": [],
   "source": [
    "del cna_valid_unass['cna_valid_unass']"
   ]
  },
  {
   "cell_type": "code",
   "execution_count": 24,
   "metadata": {},
   "outputs": [
    {
     "data": {
      "text/html": [
       "<div>\n",
       "<style scoped>\n",
       "    .dataframe tbody tr th:only-of-type {\n",
       "        vertical-align: middle;\n",
       "    }\n",
       "\n",
       "    .dataframe tbody tr th {\n",
       "        vertical-align: top;\n",
       "    }\n",
       "\n",
       "    .dataframe thead th {\n",
       "        text-align: right;\n",
       "    }\n",
       "</style>\n",
       "<table border=\"1\" class=\"dataframe\">\n",
       "  <thead>\n",
       "    <tr style=\"text-align: right;\">\n",
       "      <th></th>\n",
       "      <th>paper_id</th>\n",
       "      <th>author_idx</th>\n",
       "    </tr>\n",
       "  </thead>\n",
       "  <tbody>\n",
       "    <tr>\n",
       "      <th>0</th>\n",
       "      <td>F3Mha4HG</td>\n",
       "      <td>3</td>\n",
       "    </tr>\n",
       "    <tr>\n",
       "      <th>1</th>\n",
       "      <td>ZSS7tPJq</td>\n",
       "      <td>0</td>\n",
       "    </tr>\n",
       "    <tr>\n",
       "      <th>2</th>\n",
       "      <td>NkHR5dsF</td>\n",
       "      <td>42</td>\n",
       "    </tr>\n",
       "    <tr>\n",
       "      <th>3</th>\n",
       "      <td>ihHKyfah</td>\n",
       "      <td>1</td>\n",
       "    </tr>\n",
       "    <tr>\n",
       "      <th>4</th>\n",
       "      <td>iEZVdy9V</td>\n",
       "      <td>2</td>\n",
       "    </tr>\n",
       "  </tbody>\n",
       "</table>\n",
       "</div>"
      ],
      "text/plain": [
       "   paper_id author_idx\n",
       "0  F3Mha4HG          3\n",
       "1  ZSS7tPJq          0\n",
       "2  NkHR5dsF         42\n",
       "3  ihHKyfah          1\n",
       "4  iEZVdy9V          2"
      ]
     },
     "execution_count": 24,
     "metadata": {},
     "output_type": "execute_result"
    }
   ],
   "source": [
    "cna_valid_unass.head()"
   ]
  },
  {
   "cell_type": "code",
   "execution_count": 25,
   "metadata": {},
   "outputs": [],
   "source": [
    "cna_valid_unass.to_pickle('./pkl/cna_valid_unass.pkl')"
   ]
  },
  {
   "cell_type": "markdown",
   "metadata": {},
   "source": [
    "### cna_valid_pub"
   ]
  },
  {
   "cell_type": "code",
   "execution_count": 26,
   "metadata": {},
   "outputs": [],
   "source": [
    "# paper_id, author_names&orgs, title, venue, year, keywords, abstract\n",
    "valid_pub_info = pd.DataFrame.from_dict(cna_valid_pub, orient='index').reset_index(drop=True).rename({'id':'paper_id'}, axis=1)"
   ]
  },
  {
   "cell_type": "code",
   "execution_count": 27,
   "metadata": {},
   "outputs": [
    {
     "data": {
      "text/html": [
       "<div>\n",
       "<style scoped>\n",
       "    .dataframe tbody tr th:only-of-type {\n",
       "        vertical-align: middle;\n",
       "    }\n",
       "\n",
       "    .dataframe tbody tr th {\n",
       "        vertical-align: top;\n",
       "    }\n",
       "\n",
       "    .dataframe thead th {\n",
       "        text-align: right;\n",
       "    }\n",
       "</style>\n",
       "<table border=\"1\" class=\"dataframe\">\n",
       "  <thead>\n",
       "    <tr style=\"text-align: right;\">\n",
       "      <th></th>\n",
       "      <th>authors</th>\n",
       "      <th>title</th>\n",
       "      <th>abstract</th>\n",
       "      <th>keywords</th>\n",
       "      <th>venue</th>\n",
       "      <th>year</th>\n",
       "      <th>paper_id</th>\n",
       "    </tr>\n",
       "  </thead>\n",
       "  <tbody>\n",
       "    <tr>\n",
       "      <th>0</th>\n",
       "      <td>[{'name': 'Hong Dai', 'org': 'College of Chemi...</td>\n",
       "      <td>Synthesis and bioactivities of novel 1-phenyl-...</td>\n",
       "      <td>Fourteen novel pyrazole oxime ether derivative...</td>\n",
       "      <td>[Bioactivities, Pyrazole oxime, Substituted py...</td>\n",
       "      <td>Chinese Journal of Organic Chemistry</td>\n",
       "      <td>2012</td>\n",
       "      <td>001W8kp7</td>\n",
       "    </tr>\n",
       "    <tr>\n",
       "      <th>1</th>\n",
       "      <td>[{'name': 'Yan-Ling Sun', 'org': ''}, {'name':...</td>\n",
       "      <td>Stress and strain field at wood crack tip</td>\n",
       "      <td>The stress and strain fields at crack tip of b...</td>\n",
       "      <td>[Crack tip, Finite element, Fracture, Strain, ...</td>\n",
       "      <td>Beijing Linye Daxue Xuebao/Journal of Beijing ...</td>\n",
       "      <td>2010</td>\n",
       "      <td>00cV5uhb</td>\n",
       "    </tr>\n",
       "    <tr>\n",
       "      <th>2</th>\n",
       "      <td>[{'name': 'Guoguang Cui', 'org': 'Mechanical E...</td>\n",
       "      <td>The application research of a fuzzy controller...</td>\n",
       "      <td>In robot soccer competition, it is important t...</td>\n",
       "      <td>[fuzzy logic, humanoid robot soccer system, im...</td>\n",
       "      <td>2011 International Conference on Computer Scie...</td>\n",
       "      <td>2011</td>\n",
       "      <td>00jtbUE5</td>\n",
       "    </tr>\n",
       "    <tr>\n",
       "      <th>3</th>\n",
       "      <td>[{'name': 'Z.-H. Feng', 'org': ''}, {'name': '...</td>\n",
       "      <td>A novel HLA-A*11 allele, A*11:97, was identifi...</td>\n",
       "      <td>A novel allele A*11:97 was identified in a Chi...</td>\n",
       "      <td>[11:97, HLA-A, New human leukocyte antigen all...</td>\n",
       "      <td>Tissue Antigens</td>\n",
       "      <td>2012</td>\n",
       "      <td>00nY3sr2</td>\n",
       "    </tr>\n",
       "    <tr>\n",
       "      <th>4</th>\n",
       "      <td>[{'name': 'H.C. Tseng', 'org': 'Research and D...</td>\n",
       "      <td>Leading edge foundry Si-based RF technology fo...</td>\n",
       "      <td>As CMOS technology advances with increasingly ...</td>\n",
       "      <td>[]</td>\n",
       "      <td>Proceedings of 2010 International Symposium on...</td>\n",
       "      <td>2010</td>\n",
       "      <td>00sDhNue</td>\n",
       "    </tr>\n",
       "  </tbody>\n",
       "</table>\n",
       "</div>"
      ],
      "text/plain": [
       "                                             authors  \\\n",
       "0  [{'name': 'Hong Dai', 'org': 'College of Chemi...   \n",
       "1  [{'name': 'Yan-Ling Sun', 'org': ''}, {'name':...   \n",
       "2  [{'name': 'Guoguang Cui', 'org': 'Mechanical E...   \n",
       "3  [{'name': 'Z.-H. Feng', 'org': ''}, {'name': '...   \n",
       "4  [{'name': 'H.C. Tseng', 'org': 'Research and D...   \n",
       "\n",
       "                                               title  \\\n",
       "0  Synthesis and bioactivities of novel 1-phenyl-...   \n",
       "1          Stress and strain field at wood crack tip   \n",
       "2  The application research of a fuzzy controller...   \n",
       "3  A novel HLA-A*11 allele, A*11:97, was identifi...   \n",
       "4  Leading edge foundry Si-based RF technology fo...   \n",
       "\n",
       "                                            abstract  \\\n",
       "0  Fourteen novel pyrazole oxime ether derivative...   \n",
       "1  The stress and strain fields at crack tip of b...   \n",
       "2  In robot soccer competition, it is important t...   \n",
       "3  A novel allele A*11:97 was identified in a Chi...   \n",
       "4  As CMOS technology advances with increasingly ...   \n",
       "\n",
       "                                            keywords  \\\n",
       "0  [Bioactivities, Pyrazole oxime, Substituted py...   \n",
       "1  [Crack tip, Finite element, Fracture, Strain, ...   \n",
       "2  [fuzzy logic, humanoid robot soccer system, im...   \n",
       "3  [11:97, HLA-A, New human leukocyte antigen all...   \n",
       "4                                                 []   \n",
       "\n",
       "                                               venue  year  paper_id  \n",
       "0               Chinese Journal of Organic Chemistry  2012  001W8kp7  \n",
       "1  Beijing Linye Daxue Xuebao/Journal of Beijing ...  2010  00cV5uhb  \n",
       "2  2011 International Conference on Computer Scie...  2011  00jtbUE5  \n",
       "3                                    Tissue Antigens  2012  00nY3sr2  \n",
       "4  Proceedings of 2010 International Symposium on...  2010  00sDhNue  "
      ]
     },
     "execution_count": 27,
     "metadata": {},
     "output_type": "execute_result"
    }
   ],
   "source": [
    "valid_pub_info.head()"
   ]
  },
  {
   "cell_type": "code",
   "execution_count": 28,
   "metadata": {},
   "outputs": [],
   "source": [
    "valid_pub_info.to_pickle('./pkl/valid_pub_info.pkl')"
   ]
  },
  {
   "cell_type": "markdown",
   "metadata": {},
   "source": [
    "### pub info"
   ]
  },
  {
   "cell_type": "code",
   "execution_count": 29,
   "metadata": {},
   "outputs": [
    {
     "name": "stderr",
     "output_type": "stream",
     "text": [
      "/opt/conda/lib/python3.6/site-packages/ipykernel_launcher.py:1: FutureWarning: Sorting because non-concatenation axis is not aligned. A future version\n",
      "of pandas will change to not sort by default.\n",
      "\n",
      "To accept the future behavior, pass 'sort=False'.\n",
      "\n",
      "To retain the current behavior and silence the warning, pass 'sort=True'.\n",
      "\n",
      "  \"\"\"Entry point for launching an IPython kernel.\n"
     ]
    }
   ],
   "source": [
    "pub_info = pd.concat([whole_pub_info, train_pub_info, valid_pub_info]).drop_duplicates(subset='paper_id', keep='first')"
   ]
  },
  {
   "cell_type": "code",
   "execution_count": 30,
   "metadata": {},
   "outputs": [],
   "source": [
    "pub_info['orgs'] = pub_info['authors'].apply(lambda x: [ao['org'] for ao in x if 'org' in ao])\n",
    "pub_info['authors'] = pub_info['authors'].apply(lambda x: [ao['name'] for ao in x if 'name' in ao])"
   ]
  },
  {
   "cell_type": "code",
   "execution_count": 32,
   "metadata": {},
   "outputs": [],
   "source": [
    "pub_info['year'] = pub_info['year'].fillna(0).replace('', 0).astype(int)"
   ]
  },
  {
   "cell_type": "code",
   "execution_count": 34,
   "metadata": {},
   "outputs": [],
   "source": [
    "pub_info['abstract'] = pub_info['abstract'].fillna(' ').replace('', ' ')"
   ]
  },
  {
   "cell_type": "code",
   "execution_count": 35,
   "metadata": {},
   "outputs": [
    {
     "data": {
      "text/html": [
       "<div>\n",
       "<style scoped>\n",
       "    .dataframe tbody tr th:only-of-type {\n",
       "        vertical-align: middle;\n",
       "    }\n",
       "\n",
       "    .dataframe tbody tr th {\n",
       "        vertical-align: top;\n",
       "    }\n",
       "\n",
       "    .dataframe thead th {\n",
       "        text-align: right;\n",
       "    }\n",
       "</style>\n",
       "<table border=\"1\" class=\"dataframe\">\n",
       "  <thead>\n",
       "    <tr style=\"text-align: right;\">\n",
       "      <th></th>\n",
       "      <th>abstract</th>\n",
       "      <th>authors</th>\n",
       "      <th>keywords</th>\n",
       "      <th>paper_id</th>\n",
       "      <th>title</th>\n",
       "      <th>venue</th>\n",
       "      <th>year</th>\n",
       "      <th>orgs</th>\n",
       "    </tr>\n",
       "  </thead>\n",
       "  <tbody>\n",
       "    <tr>\n",
       "      <th>0</th>\n",
       "      <td>Extremely long states of bound solitons consis...</td>\n",
       "      <td>[Ya Liu, Xin Zhao, Jiansheng Liu, Guoqing Hu]</td>\n",
       "      <td>[carbon nanotubes, fibre lasers, laser cavity ...</td>\n",
       "      <td>0009qJgC</td>\n",
       "      <td>Generating ultra-long bound soliton sequences ...</td>\n",
       "      <td>Lasers and Electro-Optics</td>\n",
       "      <td>2014</td>\n",
       "      <td>[Sch. of Electron. &amp; Inf. Eng., Beihang Univ.,...</td>\n",
       "    </tr>\n",
       "    <tr>\n",
       "      <th>1</th>\n",
       "      <td></td>\n",
       "      <td>[Hao He, Jun Yang]</td>\n",
       "      <td>[different part, data graph, variety ofstructu...</td>\n",
       "      <td>000BMUBY</td>\n",
       "      <td>Multiresolution Indexing of XML for Frequent Q...</td>\n",
       "      <td>icde</td>\n",
       "      <td>2004</td>\n",
       "      <td>[]</td>\n",
       "    </tr>\n",
       "    <tr>\n",
       "      <th>2</th>\n",
       "      <td>The Yellow River (YR) supplies a large amount ...</td>\n",
       "      <td>[Weifeng Yang, Min Chen, Guangxue Li, Jianping...</td>\n",
       "      <td>[13C, 15N, East China Sea, Trace element, Yell...</td>\n",
       "      <td>000Fmw78</td>\n",
       "      <td>Relocation of the Yellow River as revealed by ...</td>\n",
       "      <td>Marine Pollution Bulletin</td>\n",
       "      <td>2009</td>\n",
       "      <td>[State Key Laboratory of Marine Environmental ...</td>\n",
       "    </tr>\n",
       "    <tr>\n",
       "      <th>3</th>\n",
       "      <td>Our findings suggest that Th17 cells may be in...</td>\n",
       "      <td>[Xiaowei Wang, Xiaojun Chen, Heng Tang, Jifeng...</td>\n",
       "      <td>[Mycoplasma Pneumoniae, Th17 cells, children, ...</td>\n",
       "      <td>000HsdYy</td>\n",
       "      <td>Increased Frequency of Th17 Cells in Children ...</td>\n",
       "      <td>Journal of clinical laboratory analysis</td>\n",
       "      <td>2016</td>\n",
       "      <td>[Department of Blood Transfusion, Nanjing Chil...</td>\n",
       "    </tr>\n",
       "    <tr>\n",
       "      <th>4</th>\n",
       "      <td></td>\n",
       "      <td>[jun chen, xianran xing, andrew d watson, wei ...</td>\n",
       "      <td>[]</td>\n",
       "      <td>000NKgQT</td>\n",
       "      <td>Rapid Synthesis of Multiferroic BiFeO 3 Single...</td>\n",
       "      <td>Chemistry of Materials</td>\n",
       "      <td>2007</td>\n",
       "      <td>[, , , , , , , , ]</td>\n",
       "    </tr>\n",
       "  </tbody>\n",
       "</table>\n",
       "</div>"
      ],
      "text/plain": [
       "                                            abstract  \\\n",
       "0  Extremely long states of bound solitons consis...   \n",
       "1                                                      \n",
       "2  The Yellow River (YR) supplies a large amount ...   \n",
       "3  Our findings suggest that Th17 cells may be in...   \n",
       "4                                                      \n",
       "\n",
       "                                             authors  \\\n",
       "0      [Ya Liu, Xin Zhao, Jiansheng Liu, Guoqing Hu]   \n",
       "1                                 [Hao He, Jun Yang]   \n",
       "2  [Weifeng Yang, Min Chen, Guangxue Li, Jianping...   \n",
       "3  [Xiaowei Wang, Xiaojun Chen, Heng Tang, Jifeng...   \n",
       "4  [jun chen, xianran xing, andrew d watson, wei ...   \n",
       "\n",
       "                                            keywords  paper_id  \\\n",
       "0  [carbon nanotubes, fibre lasers, laser cavity ...  0009qJgC   \n",
       "1  [different part, data graph, variety ofstructu...  000BMUBY   \n",
       "2  [13C, 15N, East China Sea, Trace element, Yell...  000Fmw78   \n",
       "3  [Mycoplasma Pneumoniae, Th17 cells, children, ...  000HsdYy   \n",
       "4                                                 []  000NKgQT   \n",
       "\n",
       "                                               title  \\\n",
       "0  Generating ultra-long bound soliton sequences ...   \n",
       "1  Multiresolution Indexing of XML for Frequent Q...   \n",
       "2  Relocation of the Yellow River as revealed by ...   \n",
       "3  Increased Frequency of Th17 Cells in Children ...   \n",
       "4  Rapid Synthesis of Multiferroic BiFeO 3 Single...   \n",
       "\n",
       "                                     venue  year  \\\n",
       "0                Lasers and Electro-Optics  2014   \n",
       "1                                     icde  2004   \n",
       "2                Marine Pollution Bulletin  2009   \n",
       "3  Journal of clinical laboratory analysis  2016   \n",
       "4                   Chemistry of Materials  2007   \n",
       "\n",
       "                                                orgs  \n",
       "0  [Sch. of Electron. & Inf. Eng., Beihang Univ.,...  \n",
       "1                                                 []  \n",
       "2  [State Key Laboratory of Marine Environmental ...  \n",
       "3  [Department of Blood Transfusion, Nanjing Chil...  \n",
       "4                                 [, , , , , , , , ]  "
      ]
     },
     "execution_count": 35,
     "metadata": {},
     "output_type": "execute_result"
    }
   ],
   "source": [
    "pub_info.head()"
   ]
  },
  {
   "cell_type": "code",
   "execution_count": 36,
   "metadata": {},
   "outputs": [],
   "source": [
    "pub_info.to_pickle('./pkl/pub_info.pkl')"
   ]
  },
  {
   "cell_type": "markdown",
   "metadata": {},
   "source": [
    "### author_pub_detail"
   ]
  },
  {
   "cell_type": "code",
   "execution_count": 37,
   "metadata": {},
   "outputs": [],
   "source": [
    "author_pub_ids = whole_author_name_paper_ids[['author_id','paper_ids']].merge(train_author_paper_ids, 'left', 'author_id')\n",
    "\n",
    "author_pub_ids['paper_ids_x_len'] = author_pub_ids['paper_ids_x'].apply(len)\n",
    "author_pub_ids['paper_ids_y_len'] = author_pub_ids['paper_ids_y'].apply(lambda x: 0 if type(x) == float else len(x))\n",
    "\n",
    "author_pub_ids['paper_ids'] = author_pub_ids.apply(lambda row: list(set(row['paper_ids_x']) | (set() if type(row['paper_ids_y']) == float else set(row['paper_ids_y']))), axis=1)\n",
    "\n",
    "author_pub_ids['paper_ids_len'] = author_pub_ids['paper_ids'].apply(len)\n",
    "\n",
    "author_pub_ids.drop(columns=['paper_ids_x', 'paper_ids_y', 'paper_ids_x_len', 'paper_ids_y_len'], inplace=True)\n",
    "\n",
    "author_pub_ids.head()"
   ]
  },
  {
   "cell_type": "code",
   "execution_count": 43,
   "metadata": {},
   "outputs": [
    {
     "data": {
      "text/plain": [
       "count    25911.000000\n",
       "mean        10.289298\n",
       "std         40.728711\n",
       "min          1.000000\n",
       "25%          1.000000\n",
       "50%          3.000000\n",
       "75%          8.000000\n",
       "max       1646.000000\n",
       "Name: paper_ids_len, dtype: float64"
      ]
     },
     "execution_count": 43,
     "metadata": {},
     "output_type": "execute_result"
    }
   ],
   "source": [
    "author_pub_ids['paper_ids_len'].describe()"
   ]
  },
  {
   "cell_type": "code",
   "execution_count": 44,
   "metadata": {},
   "outputs": [],
   "source": [
    "pub_info = pub_info.set_index('paper_id')"
   ]
  },
  {
   "cell_type": "code",
   "execution_count": 45,
   "metadata": {},
   "outputs": [
    {
     "data": {
      "text/html": [
       "<div>\n",
       "<style scoped>\n",
       "    .dataframe tbody tr th:only-of-type {\n",
       "        vertical-align: middle;\n",
       "    }\n",
       "\n",
       "    .dataframe tbody tr th {\n",
       "        vertical-align: top;\n",
       "    }\n",
       "\n",
       "    .dataframe thead th {\n",
       "        text-align: right;\n",
       "    }\n",
       "</style>\n",
       "<table border=\"1\" class=\"dataframe\">\n",
       "  <thead>\n",
       "    <tr style=\"text-align: right;\">\n",
       "      <th></th>\n",
       "      <th>abstract</th>\n",
       "      <th>authors</th>\n",
       "      <th>keywords</th>\n",
       "      <th>title</th>\n",
       "      <th>venue</th>\n",
       "      <th>year</th>\n",
       "      <th>orgs</th>\n",
       "    </tr>\n",
       "    <tr>\n",
       "      <th>paper_id</th>\n",
       "      <th></th>\n",
       "      <th></th>\n",
       "      <th></th>\n",
       "      <th></th>\n",
       "      <th></th>\n",
       "      <th></th>\n",
       "      <th></th>\n",
       "    </tr>\n",
       "  </thead>\n",
       "  <tbody>\n",
       "    <tr>\n",
       "      <th>0009qJgC</th>\n",
       "      <td>Extremely long states of bound solitons consis...</td>\n",
       "      <td>[Ya Liu, Xin Zhao, Jiansheng Liu, Guoqing Hu]</td>\n",
       "      <td>[carbon nanotubes, fibre lasers, laser cavity ...</td>\n",
       "      <td>Generating ultra-long bound soliton sequences ...</td>\n",
       "      <td>Lasers and Electro-Optics</td>\n",
       "      <td>2014</td>\n",
       "      <td>[Sch. of Electron. &amp; Inf. Eng., Beihang Univ.,...</td>\n",
       "    </tr>\n",
       "    <tr>\n",
       "      <th>000BMUBY</th>\n",
       "      <td></td>\n",
       "      <td>[Hao He, Jun Yang]</td>\n",
       "      <td>[different part, data graph, variety ofstructu...</td>\n",
       "      <td>Multiresolution Indexing of XML for Frequent Q...</td>\n",
       "      <td>icde</td>\n",
       "      <td>2004</td>\n",
       "      <td>[]</td>\n",
       "    </tr>\n",
       "    <tr>\n",
       "      <th>000Fmw78</th>\n",
       "      <td>The Yellow River (YR) supplies a large amount ...</td>\n",
       "      <td>[Weifeng Yang, Min Chen, Guangxue Li, Jianping...</td>\n",
       "      <td>[13C, 15N, East China Sea, Trace element, Yell...</td>\n",
       "      <td>Relocation of the Yellow River as revealed by ...</td>\n",
       "      <td>Marine Pollution Bulletin</td>\n",
       "      <td>2009</td>\n",
       "      <td>[State Key Laboratory of Marine Environmental ...</td>\n",
       "    </tr>\n",
       "    <tr>\n",
       "      <th>000HsdYy</th>\n",
       "      <td>Our findings suggest that Th17 cells may be in...</td>\n",
       "      <td>[Xiaowei Wang, Xiaojun Chen, Heng Tang, Jifeng...</td>\n",
       "      <td>[Mycoplasma Pneumoniae, Th17 cells, children, ...</td>\n",
       "      <td>Increased Frequency of Th17 Cells in Children ...</td>\n",
       "      <td>Journal of clinical laboratory analysis</td>\n",
       "      <td>2016</td>\n",
       "      <td>[Department of Blood Transfusion, Nanjing Chil...</td>\n",
       "    </tr>\n",
       "    <tr>\n",
       "      <th>000NKgQT</th>\n",
       "      <td></td>\n",
       "      <td>[jun chen, xianran xing, andrew d watson, wei ...</td>\n",
       "      <td>[]</td>\n",
       "      <td>Rapid Synthesis of Multiferroic BiFeO 3 Single...</td>\n",
       "      <td>Chemistry of Materials</td>\n",
       "      <td>2007</td>\n",
       "      <td>[, , , , , , , , ]</td>\n",
       "    </tr>\n",
       "  </tbody>\n",
       "</table>\n",
       "</div>"
      ],
      "text/plain": [
       "                                                   abstract  \\\n",
       "paper_id                                                      \n",
       "0009qJgC  Extremely long states of bound solitons consis...   \n",
       "000BMUBY                                                      \n",
       "000Fmw78  The Yellow River (YR) supplies a large amount ...   \n",
       "000HsdYy  Our findings suggest that Th17 cells may be in...   \n",
       "000NKgQT                                                      \n",
       "\n",
       "                                                    authors  \\\n",
       "paper_id                                                      \n",
       "0009qJgC      [Ya Liu, Xin Zhao, Jiansheng Liu, Guoqing Hu]   \n",
       "000BMUBY                                 [Hao He, Jun Yang]   \n",
       "000Fmw78  [Weifeng Yang, Min Chen, Guangxue Li, Jianping...   \n",
       "000HsdYy  [Xiaowei Wang, Xiaojun Chen, Heng Tang, Jifeng...   \n",
       "000NKgQT  [jun chen, xianran xing, andrew d watson, wei ...   \n",
       "\n",
       "                                                   keywords  \\\n",
       "paper_id                                                      \n",
       "0009qJgC  [carbon nanotubes, fibre lasers, laser cavity ...   \n",
       "000BMUBY  [different part, data graph, variety ofstructu...   \n",
       "000Fmw78  [13C, 15N, East China Sea, Trace element, Yell...   \n",
       "000HsdYy  [Mycoplasma Pneumoniae, Th17 cells, children, ...   \n",
       "000NKgQT                                                 []   \n",
       "\n",
       "                                                      title  \\\n",
       "paper_id                                                      \n",
       "0009qJgC  Generating ultra-long bound soliton sequences ...   \n",
       "000BMUBY  Multiresolution Indexing of XML for Frequent Q...   \n",
       "000Fmw78  Relocation of the Yellow River as revealed by ...   \n",
       "000HsdYy  Increased Frequency of Th17 Cells in Children ...   \n",
       "000NKgQT  Rapid Synthesis of Multiferroic BiFeO 3 Single...   \n",
       "\n",
       "                                            venue  year  \\\n",
       "paper_id                                                  \n",
       "0009qJgC                Lasers and Electro-Optics  2014   \n",
       "000BMUBY                                     icde  2004   \n",
       "000Fmw78                Marine Pollution Bulletin  2009   \n",
       "000HsdYy  Journal of clinical laboratory analysis  2016   \n",
       "000NKgQT                   Chemistry of Materials  2007   \n",
       "\n",
       "                                                       orgs  \n",
       "paper_id                                                     \n",
       "0009qJgC  [Sch. of Electron. & Inf. Eng., Beihang Univ.,...  \n",
       "000BMUBY                                                 []  \n",
       "000Fmw78  [State Key Laboratory of Marine Environmental ...  \n",
       "000HsdYy  [Department of Blood Transfusion, Nanjing Chil...  \n",
       "000NKgQT                                 [, , , , , , , , ]  "
      ]
     },
     "execution_count": 45,
     "metadata": {},
     "output_type": "execute_result"
    }
   ],
   "source": [
    "pub_info.head()"
   ]
  },
  {
   "cell_type": "code",
   "execution_count": 43,
   "metadata": {},
   "outputs": [],
   "source": [
    "# author_id paper_ids paper_ids_len abstracts keywords titles venues years authors orgs"
   ]
  },
  {
   "cell_type": "code",
   "execution_count": 49,
   "metadata": {},
   "outputs": [],
   "source": [
    "from tqdm import tqdm_notebook"
   ]
  },
  {
   "cell_type": "code",
   "execution_count": 50,
   "metadata": {
    "scrolled": true
   },
   "outputs": [
    {
     "name": "stdout",
     "output_type": "stream",
     "text": [
      "abstract\n"
     ]
    },
    {
     "data": {
      "application/vnd.jupyter.widget-view+json": {
       "model_id": "df39a4e657c14aceba9e0dcd84a7d4f2",
       "version_major": 2,
       "version_minor": 0
      },
      "text/plain": [
       "HBox(children=(IntProgress(value=0, max=25911), HTML(value='')))"
      ]
     },
     "metadata": {},
     "output_type": "display_data"
    },
    {
     "name": "stdout",
     "output_type": "stream",
     "text": [
      "\n",
      "keywords\n"
     ]
    },
    {
     "data": {
      "application/vnd.jupyter.widget-view+json": {
       "model_id": "92a7799c27a9409ab3662d0ad2aef01e",
       "version_major": 2,
       "version_minor": 0
      },
      "text/plain": [
       "HBox(children=(IntProgress(value=0, max=25911), HTML(value='')))"
      ]
     },
     "metadata": {},
     "output_type": "display_data"
    },
    {
     "name": "stdout",
     "output_type": "stream",
     "text": [
      "\n",
      "title\n"
     ]
    },
    {
     "data": {
      "application/vnd.jupyter.widget-view+json": {
       "model_id": "591a7c51ee144ee2b95bc0b0c1f99811",
       "version_major": 2,
       "version_minor": 0
      },
      "text/plain": [
       "HBox(children=(IntProgress(value=0, max=25911), HTML(value='')))"
      ]
     },
     "metadata": {},
     "output_type": "display_data"
    },
    {
     "name": "stdout",
     "output_type": "stream",
     "text": [
      "\n",
      "venue\n"
     ]
    },
    {
     "data": {
      "application/vnd.jupyter.widget-view+json": {
       "model_id": "1a0b41dca9d146f49c11a6f29f47939e",
       "version_major": 2,
       "version_minor": 0
      },
      "text/plain": [
       "HBox(children=(IntProgress(value=0, max=25911), HTML(value='')))"
      ]
     },
     "metadata": {},
     "output_type": "display_data"
    },
    {
     "name": "stdout",
     "output_type": "stream",
     "text": [
      "\n",
      "year\n"
     ]
    },
    {
     "data": {
      "application/vnd.jupyter.widget-view+json": {
       "model_id": "6879851867634f03a3eb152db8374619",
       "version_major": 2,
       "version_minor": 0
      },
      "text/plain": [
       "HBox(children=(IntProgress(value=0, max=25911), HTML(value='')))"
      ]
     },
     "metadata": {},
     "output_type": "display_data"
    },
    {
     "name": "stdout",
     "output_type": "stream",
     "text": [
      "\n",
      "authors\n"
     ]
    },
    {
     "data": {
      "application/vnd.jupyter.widget-view+json": {
       "model_id": "ef21ee2a22d34387b034190ece4fafe6",
       "version_major": 2,
       "version_minor": 0
      },
      "text/plain": [
       "HBox(children=(IntProgress(value=0, max=25911), HTML(value='')))"
      ]
     },
     "metadata": {},
     "output_type": "display_data"
    },
    {
     "name": "stdout",
     "output_type": "stream",
     "text": [
      "\n",
      "orgs\n"
     ]
    },
    {
     "data": {
      "application/vnd.jupyter.widget-view+json": {
       "model_id": "4b767894ca044d24924e27a461d35d0e",
       "version_major": 2,
       "version_minor": 0
      },
      "text/plain": [
       "HBox(children=(IntProgress(value=0, max=25911), HTML(value='')))"
      ]
     },
     "metadata": {},
     "output_type": "display_data"
    },
    {
     "name": "stdout",
     "output_type": "stream",
     "text": [
      "\n"
     ]
    }
   ],
   "source": [
    "author_pub_ids_ = author_pub_ids[['author_id', 'paper_ids']].values\n",
    "pub_col = ['abstract', 'keywords', 'title', 'venue', 'year', 'authors', 'orgs']\n",
    "for pc in pub_col:\n",
    "    print(pc)\n",
    "    dat = []\n",
    "    for author_id, paper_ids in tqdm_notebook(author_pub_ids_):\n",
    "        d = []\n",
    "        for pid in paper_ids:\n",
    "            d.append(pub_info.loc[pid, pc])\n",
    "        dat.append(d)\n",
    "    author_pub_ids[pc] = dat"
   ]
  },
  {
   "cell_type": "code",
   "execution_count": 51,
   "metadata": {},
   "outputs": [
    {
     "data": {
      "text/html": [
       "<div>\n",
       "<style scoped>\n",
       "    .dataframe tbody tr th:only-of-type {\n",
       "        vertical-align: middle;\n",
       "    }\n",
       "\n",
       "    .dataframe tbody tr th {\n",
       "        vertical-align: top;\n",
       "    }\n",
       "\n",
       "    .dataframe thead th {\n",
       "        text-align: right;\n",
       "    }\n",
       "</style>\n",
       "<table border=\"1\" class=\"dataframe\">\n",
       "  <thead>\n",
       "    <tr style=\"text-align: right;\">\n",
       "      <th></th>\n",
       "      <th>author_id</th>\n",
       "      <th>paper_ids</th>\n",
       "      <th>paper_ids_len</th>\n",
       "      <th>abstract</th>\n",
       "      <th>keywords</th>\n",
       "      <th>title</th>\n",
       "      <th>venue</th>\n",
       "      <th>year</th>\n",
       "      <th>authors</th>\n",
       "      <th>orgs</th>\n",
       "    </tr>\n",
       "  </thead>\n",
       "  <tbody>\n",
       "    <tr>\n",
       "      <th>0</th>\n",
       "      <td>004mBKh6</td>\n",
       "      <td>[TY0MYj83, lRl7m2tU, S6rklGvj, dVAKsHla, 2aTAK...</td>\n",
       "      <td>9</td>\n",
       "      <td>[Robot-assisted single port access surgery (SP...</td>\n",
       "      <td>[[Manipulators, Surgery, Grippers, Kinematics,...</td>\n",
       "      <td>[A Robotic System With Multichannel Flexible P...</td>\n",
       "      <td>[IEEE Transactions on Industrial Informatics, ...</td>\n",
       "      <td>[2019, 2018, 2018, 2019, 2019, 2019, 2018, 201...</td>\n",
       "      <td>[[Changsheng Li, Xiaoyi Gu, Xiao Xiao, Chwee M...</td>\n",
       "      <td>[[Department of Biomedical Engineering, Nation...</td>\n",
       "    </tr>\n",
       "    <tr>\n",
       "      <th>1</th>\n",
       "      <td>008b5hIc</td>\n",
       "      <td>[nPuf0kYs]</td>\n",
       "      <td>1</td>\n",
       "      <td>[With the development of nuclear power industr...</td>\n",
       "      <td>[[Ecological security, Groundwater, Radioactiv...</td>\n",
       "      <td>[A review on the study of groundwater and its ...</td>\n",
       "      <td>[Earth Science Frontiers]</td>\n",
       "      <td>[2014]</td>\n",
       "      <td>[[Zhanxue Sun, Yuanyuan Liu, Wenjie Ma, Bai Gao]]</td>\n",
       "      <td>[[State Key Laboratory Breeding Base of Nuclea...</td>\n",
       "    </tr>\n",
       "    <tr>\n",
       "      <th>2</th>\n",
       "      <td>00BAgHFr</td>\n",
       "      <td>[TuEkjf5i, kn6wo3ot, 0f2awX7U]</td>\n",
       "      <td>3</td>\n",
       "      <td>[An elevations selection approach of area targ...</td>\n",
       "      <td>[[EOS application, GA, Optimization], [Feature...</td>\n",
       "      <td>[Elevations selection approach of area target ...</td>\n",
       "      <td>[Geomatics and Information Science of Wuhan Un...</td>\n",
       "      <td>[2006, 2006, 2007]</td>\n",
       "      <td>[[Jianghan Zhu, Xi Li, Chilong Mao, Lining Zha...</td>\n",
       "      <td>[[, , , ], [, , ], [School of Information Syst...</td>\n",
       "    </tr>\n",
       "    <tr>\n",
       "      <th>3</th>\n",
       "      <td>00M93JDI</td>\n",
       "      <td>[7IiMiMhZ, rbdaKJow, nbE0DmMh, PJeWna4W, hBHTP...</td>\n",
       "      <td>309</td>\n",
       "      <td>[ ,  ,  ,  ,  ,  ,  ,  ,  ,  ,  ,  ,  ,  ,  , ...</td>\n",
       "      <td>[[nanoparticles, luminescence], [macropore arr...</td>\n",
       "      <td>[Blue Luminescence of ZnO Nanoparticles Based ...</td>\n",
       "      <td>[advanced functional materials, journal of col...</td>\n",
       "      <td>[2010, 2007, 2007, 1999, 2009, 2003, 2017, 200...</td>\n",
       "      <td>[[Haibo Zeng, Guotao Duan, Yue Li, Shikuan Yan...</td>\n",
       "      <td>[[], [], [], [chinese academy of sciences, chi...</td>\n",
       "    </tr>\n",
       "    <tr>\n",
       "      <th>4</th>\n",
       "      <td>00ShLPmg</td>\n",
       "      <td>[inFGp3mc, LV5duZL5, jGsCF9Uy, Nii27VXk, uyJus...</td>\n",
       "      <td>18</td>\n",
       "      <td>[ ,  ,  ,  ,  ,  ,  ,  ,  ,  ,  ,  ,  ,  ,  , ...</td>\n",
       "      <td>[[Protein kinase C, Idiopathic thrombocytopeni...</td>\n",
       "      <td>[Determination of protein kinase C activity of...</td>\n",
       "      <td>[laboratory medicine, journal of clinical hema...</td>\n",
       "      <td>[2006, 2007, 2012, 2011, 2006, 2006, 2009, 200...</td>\n",
       "      <td>[[LIU Fang, WU Changlin, XIAO Hong, CHEN Qun],...</td>\n",
       "      <td>[[.Department of Microbiology and Immunology,G...</td>\n",
       "    </tr>\n",
       "  </tbody>\n",
       "</table>\n",
       "</div>"
      ],
      "text/plain": [
       "  author_id                                          paper_ids  paper_ids_len  \\\n",
       "0  004mBKh6  [TY0MYj83, lRl7m2tU, S6rklGvj, dVAKsHla, 2aTAK...              9   \n",
       "1  008b5hIc                                         [nPuf0kYs]              1   \n",
       "2  00BAgHFr                     [TuEkjf5i, kn6wo3ot, 0f2awX7U]              3   \n",
       "3  00M93JDI  [7IiMiMhZ, rbdaKJow, nbE0DmMh, PJeWna4W, hBHTP...            309   \n",
       "4  00ShLPmg  [inFGp3mc, LV5duZL5, jGsCF9Uy, Nii27VXk, uyJus...             18   \n",
       "\n",
       "                                            abstract  \\\n",
       "0  [Robot-assisted single port access surgery (SP...   \n",
       "1  [With the development of nuclear power industr...   \n",
       "2  [An elevations selection approach of area targ...   \n",
       "3  [ ,  ,  ,  ,  ,  ,  ,  ,  ,  ,  ,  ,  ,  ,  , ...   \n",
       "4  [ ,  ,  ,  ,  ,  ,  ,  ,  ,  ,  ,  ,  ,  ,  , ...   \n",
       "\n",
       "                                            keywords  \\\n",
       "0  [[Manipulators, Surgery, Grippers, Kinematics,...   \n",
       "1  [[Ecological security, Groundwater, Radioactiv...   \n",
       "2  [[EOS application, GA, Optimization], [Feature...   \n",
       "3  [[nanoparticles, luminescence], [macropore arr...   \n",
       "4  [[Protein kinase C, Idiopathic thrombocytopeni...   \n",
       "\n",
       "                                               title  \\\n",
       "0  [A Robotic System With Multichannel Flexible P...   \n",
       "1  [A review on the study of groundwater and its ...   \n",
       "2  [Elevations selection approach of area target ...   \n",
       "3  [Blue Luminescence of ZnO Nanoparticles Based ...   \n",
       "4  [Determination of protein kinase C activity of...   \n",
       "\n",
       "                                               venue  \\\n",
       "0  [IEEE Transactions on Industrial Informatics, ...   \n",
       "1                          [Earth Science Frontiers]   \n",
       "2  [Geomatics and Information Science of Wuhan Un...   \n",
       "3  [advanced functional materials, journal of col...   \n",
       "4  [laboratory medicine, journal of clinical hema...   \n",
       "\n",
       "                                                year  \\\n",
       "0  [2019, 2018, 2018, 2019, 2019, 2019, 2018, 201...   \n",
       "1                                             [2014]   \n",
       "2                                 [2006, 2006, 2007]   \n",
       "3  [2010, 2007, 2007, 1999, 2009, 2003, 2017, 200...   \n",
       "4  [2006, 2007, 2012, 2011, 2006, 2006, 2009, 200...   \n",
       "\n",
       "                                             authors  \\\n",
       "0  [[Changsheng Li, Xiaoyi Gu, Xiao Xiao, Chwee M...   \n",
       "1  [[Zhanxue Sun, Yuanyuan Liu, Wenjie Ma, Bai Gao]]   \n",
       "2  [[Jianghan Zhu, Xi Li, Chilong Mao, Lining Zha...   \n",
       "3  [[Haibo Zeng, Guotao Duan, Yue Li, Shikuan Yan...   \n",
       "4  [[LIU Fang, WU Changlin, XIAO Hong, CHEN Qun],...   \n",
       "\n",
       "                                                orgs  \n",
       "0  [[Department of Biomedical Engineering, Nation...  \n",
       "1  [[State Key Laboratory Breeding Base of Nuclea...  \n",
       "2  [[, , , ], [, , ], [School of Information Syst...  \n",
       "3  [[], [], [], [chinese academy of sciences, chi...  \n",
       "4  [[.Department of Microbiology and Immunology,G...  "
      ]
     },
     "execution_count": 51,
     "metadata": {},
     "output_type": "execute_result"
    }
   ],
   "source": [
    "author_pub_ids.head()"
   ]
  },
  {
   "cell_type": "code",
   "execution_count": 52,
   "metadata": {},
   "outputs": [
    {
     "data": {
      "text/plain": [
       "48"
      ]
     },
     "execution_count": 52,
     "metadata": {},
     "output_type": "execute_result"
    }
   ],
   "source": [
    "len(author_pub_ids[author_pub_ids['author_id'] == 'sCKCrny5']['abstract'].values[0])"
   ]
  },
  {
   "cell_type": "code",
   "execution_count": 53,
   "metadata": {},
   "outputs": [
    {
     "data": {
      "text/plain": [
       "count    25911.000000\n",
       "mean        10.289298\n",
       "std         40.728711\n",
       "min          1.000000\n",
       "25%          1.000000\n",
       "50%          3.000000\n",
       "75%          8.000000\n",
       "max       1646.000000\n",
       "Name: year, dtype: float64"
      ]
     },
     "execution_count": 53,
     "metadata": {},
     "output_type": "execute_result"
    }
   ],
   "source": [
    "author_pub_ids['year'].apply(len).describe()"
   ]
  },
  {
   "cell_type": "code",
   "execution_count": 54,
   "metadata": {},
   "outputs": [],
   "source": [
    "author_pub_ids.to_pickle('./pkl/author_pub_detail.pkl')"
   ]
  },
  {
   "cell_type": "code",
   "execution_count": null,
   "metadata": {},
   "outputs": [],
   "source": []
  },
  {
   "cell_type": "code",
   "execution_count": null,
   "metadata": {},
   "outputs": [],
   "source": []
  }
 ],
 "metadata": {
  "kernelspec": {
   "display_name": "Python 3",
   "language": "python",
   "name": "python3"
  },
  "language_info": {
   "codemirror_mode": {
    "name": "ipython",
    "version": 3
   },
   "file_extension": ".py",
   "mimetype": "text/x-python",
   "name": "python",
   "nbconvert_exporter": "python",
   "pygments_lexer": "ipython3",
   "version": "3.6.7"
  }
 },
 "nbformat": 4,
 "nbformat_minor": 2
}
