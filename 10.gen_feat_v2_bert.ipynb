{
 "cells": [
  {
   "cell_type": "code",
   "execution_count": 1,
   "metadata": {},
   "outputs": [],
   "source": [
    "import warnings\n",
    "warnings.filterwarnings('ignore')"
   ]
  },
  {
   "cell_type": "code",
   "execution_count": 2,
   "metadata": {},
   "outputs": [],
   "source": [
    "import pandas as pd\n",
    "import numpy as np\n",
    "import gc\n",
    "import time\n",
    "import os"
   ]
  },
  {
   "cell_type": "code",
   "execution_count": 3,
   "metadata": {},
   "outputs": [],
   "source": [
    "feat_dir = './feat/'\n",
    "if not os.path.exists(feat_dir):\n",
    "    os.mkdir(feat_dir)"
   ]
  },
  {
   "cell_type": "code",
   "execution_count": 4,
   "metadata": {
    "scrolled": true
   },
   "outputs": [
    {
     "name": "stdout",
     "output_type": "stream",
     "text": [
      "abstract\n",
      "load data...\n",
      "find idx...\n"
     ]
    },
    {
     "data": {
      "text/html": [
       "<div>\n",
       "<style scoped>\n",
       "    .dataframe tbody tr th:only-of-type {\n",
       "        vertical-align: middle;\n",
       "    }\n",
       "\n",
       "    .dataframe tbody tr th {\n",
       "        vertical-align: top;\n",
       "    }\n",
       "\n",
       "    .dataframe thead th {\n",
       "        text-align: right;\n",
       "    }\n",
       "</style>\n",
       "<table border=\"1\" class=\"dataframe\">\n",
       "  <thead>\n",
       "    <tr style=\"text-align: right;\">\n",
       "      <th></th>\n",
       "      <th>author_id</th>\n",
       "      <th>author_name</th>\n",
       "      <th>author_org</th>\n",
       "      <th>label</th>\n",
       "      <th>paper_id</th>\n",
       "      <th>abstract_a</th>\n",
       "      <th>paper_ids</th>\n",
       "      <th>abstract_b</th>\n",
       "      <th>idx</th>\n",
       "    </tr>\n",
       "  </thead>\n",
       "  <tbody>\n",
       "    <tr>\n",
       "      <th>0</th>\n",
       "      <td>8GjtUmBs</td>\n",
       "      <td>li_guo</td>\n",
       "      <td>Institute of Pharmacology and Toxicology</td>\n",
       "      <td>0.0</td>\n",
       "      <td>P9a1gcvg</td>\n",
       "      <td>[0.5850733, -0.38639012, 0.59855425, 0.5159899...</td>\n",
       "      <td>[J5KPOi3Y]</td>\n",
       "      <td>[[-0.8647487, 0.53667474, 0.43480504, 0.001089...</td>\n",
       "      <td>NaN</td>\n",
       "    </tr>\n",
       "    <tr>\n",
       "      <th>1</th>\n",
       "      <td>EShnTfSe</td>\n",
       "      <td>li_guo</td>\n",
       "      <td>Institute of Pharmacology and Toxicology</td>\n",
       "      <td>1.0</td>\n",
       "      <td>P9a1gcvg</td>\n",
       "      <td>[0.5850733, -0.38639012, 0.59855425, 0.5159899...</td>\n",
       "      <td>[P9a1gcvg]</td>\n",
       "      <td>[[0.5850733, -0.38639012, 0.59855425, 0.515989...</td>\n",
       "      <td>0.0</td>\n",
       "    </tr>\n",
       "    <tr>\n",
       "      <th>2</th>\n",
       "      <td>t1ruuB9N</td>\n",
       "      <td>li_guo</td>\n",
       "      <td>Institute of Pharmacology and Toxicology</td>\n",
       "      <td>0.0</td>\n",
       "      <td>P9a1gcvg</td>\n",
       "      <td>[0.5850733, -0.38639012, 0.59855425, 0.5159899...</td>\n",
       "      <td>[T35c9ZAd]</td>\n",
       "      <td>[[1.121394, 0.5555117, 0.9081003, 0.17780448, ...</td>\n",
       "      <td>NaN</td>\n",
       "    </tr>\n",
       "  </tbody>\n",
       "</table>\n",
       "</div>"
      ],
      "text/plain": [
       "  author_id author_name                                author_org  label  \\\n",
       "0  8GjtUmBs      li_guo  Institute of Pharmacology and Toxicology    0.0   \n",
       "1  EShnTfSe      li_guo  Institute of Pharmacology and Toxicology    1.0   \n",
       "2  t1ruuB9N      li_guo  Institute of Pharmacology and Toxicology    0.0   \n",
       "\n",
       "   paper_id                                         abstract_a   paper_ids  \\\n",
       "0  P9a1gcvg  [0.5850733, -0.38639012, 0.59855425, 0.5159899...  [J5KPOi3Y]   \n",
       "1  P9a1gcvg  [0.5850733, -0.38639012, 0.59855425, 0.5159899...  [P9a1gcvg]   \n",
       "2  P9a1gcvg  [0.5850733, -0.38639012, 0.59855425, 0.5159899...  [T35c9ZAd]   \n",
       "\n",
       "                                          abstract_b  idx  \n",
       "0  [[-0.8647487, 0.53667474, 0.43480504, 0.001089...  NaN  \n",
       "1  [[0.5850733, -0.38639012, 0.59855425, 0.515989...  0.0  \n",
       "2  [[1.121394, 0.5555117, 0.9081003, 0.17780448, ...  NaN  "
      ]
     },
     "metadata": {},
     "output_type": "display_data"
    },
    {
     "name": "stdout",
     "output_type": "stream",
     "text": [
      "del...\n"
     ]
    },
    {
     "data": {
      "application/vnd.jupyter.widget-view+json": {
       "model_id": "ce7e2e97d7a243e3a8f68bcfb1f57b15",
       "version_major": 2,
       "version_minor": 0
      },
      "text/plain": [
       "HBox(children=(IntProgress(value=0, max=1647782), HTML(value='')))"
      ]
     },
     "metadata": {},
     "output_type": "display_data"
    },
    {
     "name": "stdout",
     "output_type": "stream",
     "text": [
      "\n"
     ]
    },
    {
     "data": {
      "text/html": [
       "<div>\n",
       "<style scoped>\n",
       "    .dataframe tbody tr th:only-of-type {\n",
       "        vertical-align: middle;\n",
       "    }\n",
       "\n",
       "    .dataframe tbody tr th {\n",
       "        vertical-align: top;\n",
       "    }\n",
       "\n",
       "    .dataframe thead th {\n",
       "        text-align: right;\n",
       "    }\n",
       "</style>\n",
       "<table border=\"1\" class=\"dataframe\">\n",
       "  <thead>\n",
       "    <tr style=\"text-align: right;\">\n",
       "      <th></th>\n",
       "      <th>abstract_a</th>\n",
       "      <th>abstract_b</th>\n",
       "    </tr>\n",
       "  </thead>\n",
       "  <tbody>\n",
       "    <tr>\n",
       "      <th>0</th>\n",
       "      <td>[0.5850733, -0.38639012, 0.59855425, 0.5159899...</td>\n",
       "      <td>[[-0.8647487, 0.53667474, 0.43480504, 0.001089...</td>\n",
       "    </tr>\n",
       "    <tr>\n",
       "      <th>1</th>\n",
       "      <td>[0.5850733, -0.38639012, 0.59855425, 0.5159899...</td>\n",
       "      <td>[]</td>\n",
       "    </tr>\n",
       "    <tr>\n",
       "      <th>2</th>\n",
       "      <td>[0.5850733, -0.38639012, 0.59855425, 0.5159899...</td>\n",
       "      <td>[[1.121394, 0.5555117, 0.9081003, 0.17780448, ...</td>\n",
       "    </tr>\n",
       "  </tbody>\n",
       "</table>\n",
       "</div>"
      ],
      "text/plain": [
       "                                          abstract_a  \\\n",
       "0  [0.5850733, -0.38639012, 0.59855425, 0.5159899...   \n",
       "1  [0.5850733, -0.38639012, 0.59855425, 0.5159899...   \n",
       "2  [0.5850733, -0.38639012, 0.59855425, 0.5159899...   \n",
       "\n",
       "                                          abstract_b  \n",
       "0  [[-0.8647487, 0.53667474, 0.43480504, 0.001089...  \n",
       "1                                                 []  \n",
       "2  [[1.121394, 0.5555117, 0.9081003, 0.17780448, ...  "
      ]
     },
     "metadata": {},
     "output_type": "display_data"
    },
    {
     "name": "stdout",
     "output_type": "stream",
     "text": [
      "cal sim...\n"
     ]
    },
    {
     "data": {
      "application/vnd.jupyter.widget-view+json": {
       "model_id": "00793214ca5a4fb7a49dd6e0b8599625",
       "version_major": 2,
       "version_minor": 0
      },
      "text/plain": [
       "HBox(children=(IntProgress(value=0, max=1647782), HTML(value='')))"
      ]
     },
     "metadata": {},
     "output_type": "display_data"
    },
    {
     "name": "stdout",
     "output_type": "stream",
     "text": [
      "\n"
     ]
    },
    {
     "data": {
      "text/html": [
       "<div>\n",
       "<style scoped>\n",
       "    .dataframe tbody tr th:only-of-type {\n",
       "        vertical-align: middle;\n",
       "    }\n",
       "\n",
       "    .dataframe tbody tr th {\n",
       "        vertical-align: top;\n",
       "    }\n",
       "\n",
       "    .dataframe thead th {\n",
       "        text-align: right;\n",
       "    }\n",
       "</style>\n",
       "<table border=\"1\" class=\"dataframe\">\n",
       "  <thead>\n",
       "    <tr style=\"text-align: right;\">\n",
       "      <th></th>\n",
       "      <th>abstract_sims</th>\n",
       "    </tr>\n",
       "  </thead>\n",
       "  <tbody>\n",
       "    <tr>\n",
       "      <th>0</th>\n",
       "      <td>[0.005643333774060011]</td>\n",
       "    </tr>\n",
       "    <tr>\n",
       "      <th>1</th>\n",
       "      <td>[0]</td>\n",
       "    </tr>\n",
       "    <tr>\n",
       "      <th>2</th>\n",
       "      <td>[0.6481732726097107]</td>\n",
       "    </tr>\n",
       "  </tbody>\n",
       "</table>\n",
       "</div>"
      ],
      "text/plain": [
       "            abstract_sims\n",
       "0  [0.005643333774060011]\n",
       "1                     [0]\n",
       "2    [0.6481732726097107]"
      ]
     },
     "metadata": {},
     "output_type": "display_data"
    },
    {
     "name": "stdout",
     "output_type": "stream",
     "text": [
      "yi ba suo ha...\n"
     ]
    },
    {
     "data": {
      "text/html": [
       "<div>\n",
       "<style scoped>\n",
       "    .dataframe tbody tr th:only-of-type {\n",
       "        vertical-align: middle;\n",
       "    }\n",
       "\n",
       "    .dataframe tbody tr th {\n",
       "        vertical-align: top;\n",
       "    }\n",
       "\n",
       "    .dataframe thead th {\n",
       "        text-align: right;\n",
       "    }\n",
       "</style>\n",
       "<table border=\"1\" class=\"dataframe\">\n",
       "  <thead>\n",
       "    <tr style=\"text-align: right;\">\n",
       "      <th></th>\n",
       "      <th>abstract_sims</th>\n",
       "      <th>abstract_sims_min</th>\n",
       "      <th>abstract_sims_max</th>\n",
       "      <th>abstract_sims_mean</th>\n",
       "      <th>abstract_sims_std</th>\n",
       "      <th>abstract_sims_mm2</th>\n",
       "    </tr>\n",
       "  </thead>\n",
       "  <tbody>\n",
       "    <tr>\n",
       "      <th>0</th>\n",
       "      <td>[0.005643333774060011]</td>\n",
       "      <td>0.005643</td>\n",
       "      <td>0.005643</td>\n",
       "      <td>0.005643</td>\n",
       "      <td>0.0</td>\n",
       "      <td>0.005643</td>\n",
       "    </tr>\n",
       "    <tr>\n",
       "      <th>1</th>\n",
       "      <td>[0]</td>\n",
       "      <td>0.000000</td>\n",
       "      <td>0.000000</td>\n",
       "      <td>0.000000</td>\n",
       "      <td>0.0</td>\n",
       "      <td>0.000000</td>\n",
       "    </tr>\n",
       "    <tr>\n",
       "      <th>2</th>\n",
       "      <td>[0.6481732726097107]</td>\n",
       "      <td>0.648173</td>\n",
       "      <td>0.648173</td>\n",
       "      <td>0.648173</td>\n",
       "      <td>0.0</td>\n",
       "      <td>0.648173</td>\n",
       "    </tr>\n",
       "  </tbody>\n",
       "</table>\n",
       "</div>"
      ],
      "text/plain": [
       "            abstract_sims  abstract_sims_min  abstract_sims_max  \\\n",
       "0  [0.005643333774060011]           0.005643           0.005643   \n",
       "1                     [0]           0.000000           0.000000   \n",
       "2    [0.6481732726097107]           0.648173           0.648173   \n",
       "\n",
       "   abstract_sims_mean  abstract_sims_std  abstract_sims_mm2  \n",
       "0            0.005643                0.0           0.005643  \n",
       "1            0.000000                0.0           0.000000  \n",
       "2            0.648173                0.0           0.648173  "
      ]
     },
     "metadata": {},
     "output_type": "display_data"
    },
    {
     "name": "stdout",
     "output_type": "stream",
     "text": [
      "keywords\n",
      "load data...\n",
      "find idx...\n"
     ]
    },
    {
     "data": {
      "text/html": [
       "<div>\n",
       "<style scoped>\n",
       "    .dataframe tbody tr th:only-of-type {\n",
       "        vertical-align: middle;\n",
       "    }\n",
       "\n",
       "    .dataframe tbody tr th {\n",
       "        vertical-align: top;\n",
       "    }\n",
       "\n",
       "    .dataframe thead th {\n",
       "        text-align: right;\n",
       "    }\n",
       "</style>\n",
       "<table border=\"1\" class=\"dataframe\">\n",
       "  <thead>\n",
       "    <tr style=\"text-align: right;\">\n",
       "      <th></th>\n",
       "      <th>author_id</th>\n",
       "      <th>author_name</th>\n",
       "      <th>author_org</th>\n",
       "      <th>label</th>\n",
       "      <th>paper_id</th>\n",
       "      <th>keywords_a</th>\n",
       "      <th>paper_ids</th>\n",
       "      <th>keywords_b</th>\n",
       "      <th>idx</th>\n",
       "    </tr>\n",
       "  </thead>\n",
       "  <tbody>\n",
       "    <tr>\n",
       "      <th>0</th>\n",
       "      <td>8GjtUmBs</td>\n",
       "      <td>li_guo</td>\n",
       "      <td>Institute of Pharmacology and Toxicology</td>\n",
       "      <td>0.0</td>\n",
       "      <td>P9a1gcvg</td>\n",
       "      <td>[-0.0540837, -0.49929222, 0.8620951, 0.6081706...</td>\n",
       "      <td>[J5KPOi3Y]</td>\n",
       "      <td>[[-0.21732491, 0.16166657, 0.8927007, 0.128117...</td>\n",
       "      <td>NaN</td>\n",
       "    </tr>\n",
       "    <tr>\n",
       "      <th>1</th>\n",
       "      <td>EShnTfSe</td>\n",
       "      <td>li_guo</td>\n",
       "      <td>Institute of Pharmacology and Toxicology</td>\n",
       "      <td>1.0</td>\n",
       "      <td>P9a1gcvg</td>\n",
       "      <td>[-0.0540837, -0.49929222, 0.8620951, 0.6081706...</td>\n",
       "      <td>[P9a1gcvg]</td>\n",
       "      <td>[[-0.0540837, -0.49929222, 0.8620951, 0.608170...</td>\n",
       "      <td>0.0</td>\n",
       "    </tr>\n",
       "    <tr>\n",
       "      <th>2</th>\n",
       "      <td>t1ruuB9N</td>\n",
       "      <td>li_guo</td>\n",
       "      <td>Institute of Pharmacology and Toxicology</td>\n",
       "      <td>0.0</td>\n",
       "      <td>P9a1gcvg</td>\n",
       "      <td>[-0.0540837, -0.49929222, 0.8620951, 0.6081706...</td>\n",
       "      <td>[T35c9ZAd]</td>\n",
       "      <td>[[-0.0067827185, 0.903867, 0.67871475, -0.0273...</td>\n",
       "      <td>NaN</td>\n",
       "    </tr>\n",
       "  </tbody>\n",
       "</table>\n",
       "</div>"
      ],
      "text/plain": [
       "  author_id author_name                                author_org  label  \\\n",
       "0  8GjtUmBs      li_guo  Institute of Pharmacology and Toxicology    0.0   \n",
       "1  EShnTfSe      li_guo  Institute of Pharmacology and Toxicology    1.0   \n",
       "2  t1ruuB9N      li_guo  Institute of Pharmacology and Toxicology    0.0   \n",
       "\n",
       "   paper_id                                         keywords_a   paper_ids  \\\n",
       "0  P9a1gcvg  [-0.0540837, -0.49929222, 0.8620951, 0.6081706...  [J5KPOi3Y]   \n",
       "1  P9a1gcvg  [-0.0540837, -0.49929222, 0.8620951, 0.6081706...  [P9a1gcvg]   \n",
       "2  P9a1gcvg  [-0.0540837, -0.49929222, 0.8620951, 0.6081706...  [T35c9ZAd]   \n",
       "\n",
       "                                          keywords_b  idx  \n",
       "0  [[-0.21732491, 0.16166657, 0.8927007, 0.128117...  NaN  \n",
       "1  [[-0.0540837, -0.49929222, 0.8620951, 0.608170...  0.0  \n",
       "2  [[-0.0067827185, 0.903867, 0.67871475, -0.0273...  NaN  "
      ]
     },
     "metadata": {},
     "output_type": "display_data"
    },
    {
     "name": "stdout",
     "output_type": "stream",
     "text": [
      "del...\n"
     ]
    },
    {
     "data": {
      "application/vnd.jupyter.widget-view+json": {
       "model_id": "91ebed11482247dc966b79cb186b9408",
       "version_major": 2,
       "version_minor": 0
      },
      "text/plain": [
       "HBox(children=(IntProgress(value=0, max=1647782), HTML(value='')))"
      ]
     },
     "metadata": {},
     "output_type": "display_data"
    },
    {
     "name": "stdout",
     "output_type": "stream",
     "text": [
      "\n"
     ]
    },
    {
     "data": {
      "text/html": [
       "<div>\n",
       "<style scoped>\n",
       "    .dataframe tbody tr th:only-of-type {\n",
       "        vertical-align: middle;\n",
       "    }\n",
       "\n",
       "    .dataframe tbody tr th {\n",
       "        vertical-align: top;\n",
       "    }\n",
       "\n",
       "    .dataframe thead th {\n",
       "        text-align: right;\n",
       "    }\n",
       "</style>\n",
       "<table border=\"1\" class=\"dataframe\">\n",
       "  <thead>\n",
       "    <tr style=\"text-align: right;\">\n",
       "      <th></th>\n",
       "      <th>keywords_a</th>\n",
       "      <th>keywords_b</th>\n",
       "    </tr>\n",
       "  </thead>\n",
       "  <tbody>\n",
       "    <tr>\n",
       "      <th>0</th>\n",
       "      <td>[-0.0540837, -0.49929222, 0.8620951, 0.6081706...</td>\n",
       "      <td>[[-0.21732491, 0.16166657, 0.8927007, 0.128117...</td>\n",
       "    </tr>\n",
       "    <tr>\n",
       "      <th>1</th>\n",
       "      <td>[-0.0540837, -0.49929222, 0.8620951, 0.6081706...</td>\n",
       "      <td>[]</td>\n",
       "    </tr>\n",
       "    <tr>\n",
       "      <th>2</th>\n",
       "      <td>[-0.0540837, -0.49929222, 0.8620951, 0.6081706...</td>\n",
       "      <td>[[-0.0067827185, 0.903867, 0.67871475, -0.0273...</td>\n",
       "    </tr>\n",
       "  </tbody>\n",
       "</table>\n",
       "</div>"
      ],
      "text/plain": [
       "                                          keywords_a  \\\n",
       "0  [-0.0540837, -0.49929222, 0.8620951, 0.6081706...   \n",
       "1  [-0.0540837, -0.49929222, 0.8620951, 0.6081706...   \n",
       "2  [-0.0540837, -0.49929222, 0.8620951, 0.6081706...   \n",
       "\n",
       "                                          keywords_b  \n",
       "0  [[-0.21732491, 0.16166657, 0.8927007, 0.128117...  \n",
       "1                                                 []  \n",
       "2  [[-0.0067827185, 0.903867, 0.67871475, -0.0273...  "
      ]
     },
     "metadata": {},
     "output_type": "display_data"
    },
    {
     "name": "stdout",
     "output_type": "stream",
     "text": [
      "cal sim...\n"
     ]
    },
    {
     "data": {
      "application/vnd.jupyter.widget-view+json": {
       "model_id": "fbd37569059249149ed26c065e1eac5e",
       "version_major": 2,
       "version_minor": 0
      },
      "text/plain": [
       "HBox(children=(IntProgress(value=0, max=1647782), HTML(value='')))"
      ]
     },
     "metadata": {},
     "output_type": "display_data"
    },
    {
     "name": "stdout",
     "output_type": "stream",
     "text": [
      "\n"
     ]
    },
    {
     "data": {
      "text/html": [
       "<div>\n",
       "<style scoped>\n",
       "    .dataframe tbody tr th:only-of-type {\n",
       "        vertical-align: middle;\n",
       "    }\n",
       "\n",
       "    .dataframe tbody tr th {\n",
       "        vertical-align: top;\n",
       "    }\n",
       "\n",
       "    .dataframe thead th {\n",
       "        text-align: right;\n",
       "    }\n",
       "</style>\n",
       "<table border=\"1\" class=\"dataframe\">\n",
       "  <thead>\n",
       "    <tr style=\"text-align: right;\">\n",
       "      <th></th>\n",
       "      <th>keywords_sims</th>\n",
       "    </tr>\n",
       "  </thead>\n",
       "  <tbody>\n",
       "    <tr>\n",
       "      <th>0</th>\n",
       "      <td>[0.5822271108627319]</td>\n",
       "    </tr>\n",
       "    <tr>\n",
       "      <th>1</th>\n",
       "      <td>[0]</td>\n",
       "    </tr>\n",
       "    <tr>\n",
       "      <th>2</th>\n",
       "      <td>[0.5936777591705322]</td>\n",
       "    </tr>\n",
       "  </tbody>\n",
       "</table>\n",
       "</div>"
      ],
      "text/plain": [
       "          keywords_sims\n",
       "0  [0.5822271108627319]\n",
       "1                   [0]\n",
       "2  [0.5936777591705322]"
      ]
     },
     "metadata": {},
     "output_type": "display_data"
    },
    {
     "name": "stdout",
     "output_type": "stream",
     "text": [
      "yi ba suo ha...\n"
     ]
    },
    {
     "data": {
      "text/html": [
       "<div>\n",
       "<style scoped>\n",
       "    .dataframe tbody tr th:only-of-type {\n",
       "        vertical-align: middle;\n",
       "    }\n",
       "\n",
       "    .dataframe tbody tr th {\n",
       "        vertical-align: top;\n",
       "    }\n",
       "\n",
       "    .dataframe thead th {\n",
       "        text-align: right;\n",
       "    }\n",
       "</style>\n",
       "<table border=\"1\" class=\"dataframe\">\n",
       "  <thead>\n",
       "    <tr style=\"text-align: right;\">\n",
       "      <th></th>\n",
       "      <th>keywords_sims</th>\n",
       "      <th>keywords_sims_min</th>\n",
       "      <th>keywords_sims_max</th>\n",
       "      <th>keywords_sims_mean</th>\n",
       "      <th>keywords_sims_std</th>\n",
       "      <th>keywords_sims_mm2</th>\n",
       "    </tr>\n",
       "  </thead>\n",
       "  <tbody>\n",
       "    <tr>\n",
       "      <th>0</th>\n",
       "      <td>[0.5822271108627319]</td>\n",
       "      <td>0.582227</td>\n",
       "      <td>0.582227</td>\n",
       "      <td>0.582227</td>\n",
       "      <td>0.0</td>\n",
       "      <td>0.582227</td>\n",
       "    </tr>\n",
       "    <tr>\n",
       "      <th>1</th>\n",
       "      <td>[0]</td>\n",
       "      <td>0.000000</td>\n",
       "      <td>0.000000</td>\n",
       "      <td>0.000000</td>\n",
       "      <td>0.0</td>\n",
       "      <td>0.000000</td>\n",
       "    </tr>\n",
       "    <tr>\n",
       "      <th>2</th>\n",
       "      <td>[0.5936777591705322]</td>\n",
       "      <td>0.593678</td>\n",
       "      <td>0.593678</td>\n",
       "      <td>0.593678</td>\n",
       "      <td>0.0</td>\n",
       "      <td>0.593678</td>\n",
       "    </tr>\n",
       "  </tbody>\n",
       "</table>\n",
       "</div>"
      ],
      "text/plain": [
       "          keywords_sims  keywords_sims_min  keywords_sims_max  \\\n",
       "0  [0.5822271108627319]           0.582227           0.582227   \n",
       "1                   [0]           0.000000           0.000000   \n",
       "2  [0.5936777591705322]           0.593678           0.593678   \n",
       "\n",
       "   keywords_sims_mean  keywords_sims_std  keywords_sims_mm2  \n",
       "0            0.582227                0.0           0.582227  \n",
       "1            0.000000                0.0           0.000000  \n",
       "2            0.593678                0.0           0.593678  "
      ]
     },
     "metadata": {},
     "output_type": "display_data"
    },
    {
     "name": "stdout",
     "output_type": "stream",
     "text": [
      "title\n",
      "load data...\n",
      "find idx...\n"
     ]
    },
    {
     "data": {
      "text/html": [
       "<div>\n",
       "<style scoped>\n",
       "    .dataframe tbody tr th:only-of-type {\n",
       "        vertical-align: middle;\n",
       "    }\n",
       "\n",
       "    .dataframe tbody tr th {\n",
       "        vertical-align: top;\n",
       "    }\n",
       "\n",
       "    .dataframe thead th {\n",
       "        text-align: right;\n",
       "    }\n",
       "</style>\n",
       "<table border=\"1\" class=\"dataframe\">\n",
       "  <thead>\n",
       "    <tr style=\"text-align: right;\">\n",
       "      <th></th>\n",
       "      <th>author_id</th>\n",
       "      <th>author_name</th>\n",
       "      <th>author_org</th>\n",
       "      <th>label</th>\n",
       "      <th>paper_id</th>\n",
       "      <th>title_a</th>\n",
       "      <th>paper_ids</th>\n",
       "      <th>title_b</th>\n",
       "      <th>idx</th>\n",
       "    </tr>\n",
       "  </thead>\n",
       "  <tbody>\n",
       "    <tr>\n",
       "      <th>0</th>\n",
       "      <td>8GjtUmBs</td>\n",
       "      <td>li_guo</td>\n",
       "      <td>Institute of Pharmacology and Toxicology</td>\n",
       "      <td>0.0</td>\n",
       "      <td>P9a1gcvg</td>\n",
       "      <td>[0.14829586, -0.3416466, 0.32149202, 0.5111360...</td>\n",
       "      <td>[J5KPOi3Y]</td>\n",
       "      <td>[[-0.30822247, 0.7664902, 0.48895568, -0.64471...</td>\n",
       "      <td>NaN</td>\n",
       "    </tr>\n",
       "    <tr>\n",
       "      <th>1</th>\n",
       "      <td>EShnTfSe</td>\n",
       "      <td>li_guo</td>\n",
       "      <td>Institute of Pharmacology and Toxicology</td>\n",
       "      <td>1.0</td>\n",
       "      <td>P9a1gcvg</td>\n",
       "      <td>[0.14829586, -0.3416466, 0.32149202, 0.5111360...</td>\n",
       "      <td>[P9a1gcvg]</td>\n",
       "      <td>[[0.14829586, -0.3416466, 0.32149202, 0.511136...</td>\n",
       "      <td>0.0</td>\n",
       "    </tr>\n",
       "    <tr>\n",
       "      <th>2</th>\n",
       "      <td>t1ruuB9N</td>\n",
       "      <td>li_guo</td>\n",
       "      <td>Institute of Pharmacology and Toxicology</td>\n",
       "      <td>0.0</td>\n",
       "      <td>P9a1gcvg</td>\n",
       "      <td>[0.14829586, -0.3416466, 0.32149202, 0.5111360...</td>\n",
       "      <td>[T35c9ZAd]</td>\n",
       "      <td>[[-0.069247484, 0.033746295, 0.5316468, -0.236...</td>\n",
       "      <td>NaN</td>\n",
       "    </tr>\n",
       "  </tbody>\n",
       "</table>\n",
       "</div>"
      ],
      "text/plain": [
       "  author_id author_name                                author_org  label  \\\n",
       "0  8GjtUmBs      li_guo  Institute of Pharmacology and Toxicology    0.0   \n",
       "1  EShnTfSe      li_guo  Institute of Pharmacology and Toxicology    1.0   \n",
       "2  t1ruuB9N      li_guo  Institute of Pharmacology and Toxicology    0.0   \n",
       "\n",
       "   paper_id                                            title_a   paper_ids  \\\n",
       "0  P9a1gcvg  [0.14829586, -0.3416466, 0.32149202, 0.5111360...  [J5KPOi3Y]   \n",
       "1  P9a1gcvg  [0.14829586, -0.3416466, 0.32149202, 0.5111360...  [P9a1gcvg]   \n",
       "2  P9a1gcvg  [0.14829586, -0.3416466, 0.32149202, 0.5111360...  [T35c9ZAd]   \n",
       "\n",
       "                                             title_b  idx  \n",
       "0  [[-0.30822247, 0.7664902, 0.48895568, -0.64471...  NaN  \n",
       "1  [[0.14829586, -0.3416466, 0.32149202, 0.511136...  0.0  \n",
       "2  [[-0.069247484, 0.033746295, 0.5316468, -0.236...  NaN  "
      ]
     },
     "metadata": {},
     "output_type": "display_data"
    },
    {
     "name": "stdout",
     "output_type": "stream",
     "text": [
      "del...\n"
     ]
    },
    {
     "data": {
      "application/vnd.jupyter.widget-view+json": {
       "model_id": "a4d1d0d199be46d58ef161e05b11c23f",
       "version_major": 2,
       "version_minor": 0
      },
      "text/plain": [
       "HBox(children=(IntProgress(value=0, max=1647782), HTML(value='')))"
      ]
     },
     "metadata": {},
     "output_type": "display_data"
    },
    {
     "name": "stdout",
     "output_type": "stream",
     "text": [
      "\n"
     ]
    },
    {
     "data": {
      "text/html": [
       "<div>\n",
       "<style scoped>\n",
       "    .dataframe tbody tr th:only-of-type {\n",
       "        vertical-align: middle;\n",
       "    }\n",
       "\n",
       "    .dataframe tbody tr th {\n",
       "        vertical-align: top;\n",
       "    }\n",
       "\n",
       "    .dataframe thead th {\n",
       "        text-align: right;\n",
       "    }\n",
       "</style>\n",
       "<table border=\"1\" class=\"dataframe\">\n",
       "  <thead>\n",
       "    <tr style=\"text-align: right;\">\n",
       "      <th></th>\n",
       "      <th>title_a</th>\n",
       "      <th>title_b</th>\n",
       "    </tr>\n",
       "  </thead>\n",
       "  <tbody>\n",
       "    <tr>\n",
       "      <th>0</th>\n",
       "      <td>[0.14829586, -0.3416466, 0.32149202, 0.5111360...</td>\n",
       "      <td>[[-0.30822247, 0.7664902, 0.48895568, -0.64471...</td>\n",
       "    </tr>\n",
       "    <tr>\n",
       "      <th>1</th>\n",
       "      <td>[0.14829586, -0.3416466, 0.32149202, 0.5111360...</td>\n",
       "      <td>[]</td>\n",
       "    </tr>\n",
       "    <tr>\n",
       "      <th>2</th>\n",
       "      <td>[0.14829586, -0.3416466, 0.32149202, 0.5111360...</td>\n",
       "      <td>[[-0.069247484, 0.033746295, 0.5316468, -0.236...</td>\n",
       "    </tr>\n",
       "  </tbody>\n",
       "</table>\n",
       "</div>"
      ],
      "text/plain": [
       "                                             title_a  \\\n",
       "0  [0.14829586, -0.3416466, 0.32149202, 0.5111360...   \n",
       "1  [0.14829586, -0.3416466, 0.32149202, 0.5111360...   \n",
       "2  [0.14829586, -0.3416466, 0.32149202, 0.5111360...   \n",
       "\n",
       "                                             title_b  \n",
       "0  [[-0.30822247, 0.7664902, 0.48895568, -0.64471...  \n",
       "1                                                 []  \n",
       "2  [[-0.069247484, 0.033746295, 0.5316468, -0.236...  "
      ]
     },
     "metadata": {},
     "output_type": "display_data"
    },
    {
     "name": "stdout",
     "output_type": "stream",
     "text": [
      "cal sim...\n"
     ]
    },
    {
     "data": {
      "application/vnd.jupyter.widget-view+json": {
       "model_id": "a79087625ac84fb3a8be813ac7dabf19",
       "version_major": 2,
       "version_minor": 0
      },
      "text/plain": [
       "HBox(children=(IntProgress(value=0, max=1647782), HTML(value='')))"
      ]
     },
     "metadata": {},
     "output_type": "display_data"
    },
    {
     "name": "stdout",
     "output_type": "stream",
     "text": [
      "\n"
     ]
    },
    {
     "data": {
      "text/html": [
       "<div>\n",
       "<style scoped>\n",
       "    .dataframe tbody tr th:only-of-type {\n",
       "        vertical-align: middle;\n",
       "    }\n",
       "\n",
       "    .dataframe tbody tr th {\n",
       "        vertical-align: top;\n",
       "    }\n",
       "\n",
       "    .dataframe thead th {\n",
       "        text-align: right;\n",
       "    }\n",
       "</style>\n",
       "<table border=\"1\" class=\"dataframe\">\n",
       "  <thead>\n",
       "    <tr style=\"text-align: right;\">\n",
       "      <th></th>\n",
       "      <th>title_sims</th>\n",
       "    </tr>\n",
       "  </thead>\n",
       "  <tbody>\n",
       "    <tr>\n",
       "      <th>0</th>\n",
       "      <td>[0.3874906301498413]</td>\n",
       "    </tr>\n",
       "    <tr>\n",
       "      <th>1</th>\n",
       "      <td>[0]</td>\n",
       "    </tr>\n",
       "    <tr>\n",
       "      <th>2</th>\n",
       "      <td>[0.5177165865898132]</td>\n",
       "    </tr>\n",
       "  </tbody>\n",
       "</table>\n",
       "</div>"
      ],
      "text/plain": [
       "             title_sims\n",
       "0  [0.3874906301498413]\n",
       "1                   [0]\n",
       "2  [0.5177165865898132]"
      ]
     },
     "metadata": {},
     "output_type": "display_data"
    },
    {
     "name": "stdout",
     "output_type": "stream",
     "text": [
      "yi ba suo ha...\n"
     ]
    },
    {
     "data": {
      "text/html": [
       "<div>\n",
       "<style scoped>\n",
       "    .dataframe tbody tr th:only-of-type {\n",
       "        vertical-align: middle;\n",
       "    }\n",
       "\n",
       "    .dataframe tbody tr th {\n",
       "        vertical-align: top;\n",
       "    }\n",
       "\n",
       "    .dataframe thead th {\n",
       "        text-align: right;\n",
       "    }\n",
       "</style>\n",
       "<table border=\"1\" class=\"dataframe\">\n",
       "  <thead>\n",
       "    <tr style=\"text-align: right;\">\n",
       "      <th></th>\n",
       "      <th>title_sims</th>\n",
       "      <th>title_sims_min</th>\n",
       "      <th>title_sims_max</th>\n",
       "      <th>title_sims_mean</th>\n",
       "      <th>title_sims_std</th>\n",
       "      <th>title_sims_mm2</th>\n",
       "    </tr>\n",
       "  </thead>\n",
       "  <tbody>\n",
       "    <tr>\n",
       "      <th>0</th>\n",
       "      <td>[0.3874906301498413]</td>\n",
       "      <td>0.387491</td>\n",
       "      <td>0.387491</td>\n",
       "      <td>0.387491</td>\n",
       "      <td>0.0</td>\n",
       "      <td>0.387491</td>\n",
       "    </tr>\n",
       "    <tr>\n",
       "      <th>1</th>\n",
       "      <td>[0]</td>\n",
       "      <td>0.000000</td>\n",
       "      <td>0.000000</td>\n",
       "      <td>0.000000</td>\n",
       "      <td>0.0</td>\n",
       "      <td>0.000000</td>\n",
       "    </tr>\n",
       "    <tr>\n",
       "      <th>2</th>\n",
       "      <td>[0.5177165865898132]</td>\n",
       "      <td>0.517717</td>\n",
       "      <td>0.517717</td>\n",
       "      <td>0.517717</td>\n",
       "      <td>0.0</td>\n",
       "      <td>0.517717</td>\n",
       "    </tr>\n",
       "  </tbody>\n",
       "</table>\n",
       "</div>"
      ],
      "text/plain": [
       "             title_sims  title_sims_min  title_sims_max  title_sims_mean  \\\n",
       "0  [0.3874906301498413]        0.387491        0.387491         0.387491   \n",
       "1                   [0]        0.000000        0.000000         0.000000   \n",
       "2  [0.5177165865898132]        0.517717        0.517717         0.517717   \n",
       "\n",
       "   title_sims_std  title_sims_mm2  \n",
       "0             0.0        0.387491  \n",
       "1             0.0        0.000000  \n",
       "2             0.0        0.517717  "
      ]
     },
     "metadata": {},
     "output_type": "display_data"
    },
    {
     "name": "stdout",
     "output_type": "stream",
     "text": [
      "venue\n",
      "load data...\n",
      "find idx...\n"
     ]
    },
    {
     "data": {
      "text/html": [
       "<div>\n",
       "<style scoped>\n",
       "    .dataframe tbody tr th:only-of-type {\n",
       "        vertical-align: middle;\n",
       "    }\n",
       "\n",
       "    .dataframe tbody tr th {\n",
       "        vertical-align: top;\n",
       "    }\n",
       "\n",
       "    .dataframe thead th {\n",
       "        text-align: right;\n",
       "    }\n",
       "</style>\n",
       "<table border=\"1\" class=\"dataframe\">\n",
       "  <thead>\n",
       "    <tr style=\"text-align: right;\">\n",
       "      <th></th>\n",
       "      <th>author_id</th>\n",
       "      <th>author_name</th>\n",
       "      <th>author_org</th>\n",
       "      <th>label</th>\n",
       "      <th>paper_id</th>\n",
       "      <th>venue_a</th>\n",
       "      <th>paper_ids</th>\n",
       "      <th>venue_b</th>\n",
       "      <th>idx</th>\n",
       "    </tr>\n",
       "  </thead>\n",
       "  <tbody>\n",
       "    <tr>\n",
       "      <th>0</th>\n",
       "      <td>8GjtUmBs</td>\n",
       "      <td>li_guo</td>\n",
       "      <td>Institute of Pharmacology and Toxicology</td>\n",
       "      <td>0.0</td>\n",
       "      <td>P9a1gcvg</td>\n",
       "      <td>[-0.71149194, -0.53670865, 0.9174965, -0.53091...</td>\n",
       "      <td>[J5KPOi3Y]</td>\n",
       "      <td>[[-0.16054878, 0.017416, 0.70596296, -0.840550...</td>\n",
       "      <td>NaN</td>\n",
       "    </tr>\n",
       "    <tr>\n",
       "      <th>1</th>\n",
       "      <td>EShnTfSe</td>\n",
       "      <td>li_guo</td>\n",
       "      <td>Institute of Pharmacology and Toxicology</td>\n",
       "      <td>1.0</td>\n",
       "      <td>P9a1gcvg</td>\n",
       "      <td>[-0.71149194, -0.53670865, 0.9174965, -0.53091...</td>\n",
       "      <td>[P9a1gcvg]</td>\n",
       "      <td>[[-0.71149194, -0.53670865, 0.9174965, -0.5309...</td>\n",
       "      <td>0.0</td>\n",
       "    </tr>\n",
       "    <tr>\n",
       "      <th>2</th>\n",
       "      <td>t1ruuB9N</td>\n",
       "      <td>li_guo</td>\n",
       "      <td>Institute of Pharmacology and Toxicology</td>\n",
       "      <td>0.0</td>\n",
       "      <td>P9a1gcvg</td>\n",
       "      <td>[-0.71149194, -0.53670865, 0.9174965, -0.53091...</td>\n",
       "      <td>[T35c9ZAd]</td>\n",
       "      <td>[[-0.13513252, 0.24717042, 0.6410622, -0.63363...</td>\n",
       "      <td>NaN</td>\n",
       "    </tr>\n",
       "  </tbody>\n",
       "</table>\n",
       "</div>"
      ],
      "text/plain": [
       "  author_id author_name                                author_org  label  \\\n",
       "0  8GjtUmBs      li_guo  Institute of Pharmacology and Toxicology    0.0   \n",
       "1  EShnTfSe      li_guo  Institute of Pharmacology and Toxicology    1.0   \n",
       "2  t1ruuB9N      li_guo  Institute of Pharmacology and Toxicology    0.0   \n",
       "\n",
       "   paper_id                                            venue_a   paper_ids  \\\n",
       "0  P9a1gcvg  [-0.71149194, -0.53670865, 0.9174965, -0.53091...  [J5KPOi3Y]   \n",
       "1  P9a1gcvg  [-0.71149194, -0.53670865, 0.9174965, -0.53091...  [P9a1gcvg]   \n",
       "2  P9a1gcvg  [-0.71149194, -0.53670865, 0.9174965, -0.53091...  [T35c9ZAd]   \n",
       "\n",
       "                                             venue_b  idx  \n",
       "0  [[-0.16054878, 0.017416, 0.70596296, -0.840550...  NaN  \n",
       "1  [[-0.71149194, -0.53670865, 0.9174965, -0.5309...  0.0  \n",
       "2  [[-0.13513252, 0.24717042, 0.6410622, -0.63363...  NaN  "
      ]
     },
     "metadata": {},
     "output_type": "display_data"
    },
    {
     "name": "stdout",
     "output_type": "stream",
     "text": [
      "del...\n"
     ]
    },
    {
     "data": {
      "application/vnd.jupyter.widget-view+json": {
       "model_id": "a3b6cf9164264ed785c05a1d42706a33",
       "version_major": 2,
       "version_minor": 0
      },
      "text/plain": [
       "HBox(children=(IntProgress(value=0, max=1647782), HTML(value='')))"
      ]
     },
     "metadata": {},
     "output_type": "display_data"
    },
    {
     "name": "stdout",
     "output_type": "stream",
     "text": [
      "\n"
     ]
    },
    {
     "data": {
      "text/html": [
       "<div>\n",
       "<style scoped>\n",
       "    .dataframe tbody tr th:only-of-type {\n",
       "        vertical-align: middle;\n",
       "    }\n",
       "\n",
       "    .dataframe tbody tr th {\n",
       "        vertical-align: top;\n",
       "    }\n",
       "\n",
       "    .dataframe thead th {\n",
       "        text-align: right;\n",
       "    }\n",
       "</style>\n",
       "<table border=\"1\" class=\"dataframe\">\n",
       "  <thead>\n",
       "    <tr style=\"text-align: right;\">\n",
       "      <th></th>\n",
       "      <th>venue_a</th>\n",
       "      <th>venue_b</th>\n",
       "    </tr>\n",
       "  </thead>\n",
       "  <tbody>\n",
       "    <tr>\n",
       "      <th>0</th>\n",
       "      <td>[-0.71149194, -0.53670865, 0.9174965, -0.53091...</td>\n",
       "      <td>[[-0.16054878, 0.017416, 0.70596296, -0.840550...</td>\n",
       "    </tr>\n",
       "    <tr>\n",
       "      <th>1</th>\n",
       "      <td>[-0.71149194, -0.53670865, 0.9174965, -0.53091...</td>\n",
       "      <td>[]</td>\n",
       "    </tr>\n",
       "    <tr>\n",
       "      <th>2</th>\n",
       "      <td>[-0.71149194, -0.53670865, 0.9174965, -0.53091...</td>\n",
       "      <td>[[-0.13513252, 0.24717042, 0.6410622, -0.63363...</td>\n",
       "    </tr>\n",
       "  </tbody>\n",
       "</table>\n",
       "</div>"
      ],
      "text/plain": [
       "                                             venue_a  \\\n",
       "0  [-0.71149194, -0.53670865, 0.9174965, -0.53091...   \n",
       "1  [-0.71149194, -0.53670865, 0.9174965, -0.53091...   \n",
       "2  [-0.71149194, -0.53670865, 0.9174965, -0.53091...   \n",
       "\n",
       "                                             venue_b  \n",
       "0  [[-0.16054878, 0.017416, 0.70596296, -0.840550...  \n",
       "1                                                 []  \n",
       "2  [[-0.13513252, 0.24717042, 0.6410622, -0.63363...  "
      ]
     },
     "metadata": {},
     "output_type": "display_data"
    },
    {
     "name": "stdout",
     "output_type": "stream",
     "text": [
      "cal sim...\n"
     ]
    },
    {
     "data": {
      "application/vnd.jupyter.widget-view+json": {
       "model_id": "7a337d06b7e8448287cc574e24354af4",
       "version_major": 2,
       "version_minor": 0
      },
      "text/plain": [
       "HBox(children=(IntProgress(value=0, max=1647782), HTML(value='')))"
      ]
     },
     "metadata": {},
     "output_type": "display_data"
    },
    {
     "name": "stdout",
     "output_type": "stream",
     "text": [
      "\n"
     ]
    },
    {
     "data": {
      "text/html": [
       "<div>\n",
       "<style scoped>\n",
       "    .dataframe tbody tr th:only-of-type {\n",
       "        vertical-align: middle;\n",
       "    }\n",
       "\n",
       "    .dataframe tbody tr th {\n",
       "        vertical-align: top;\n",
       "    }\n",
       "\n",
       "    .dataframe thead th {\n",
       "        text-align: right;\n",
       "    }\n",
       "</style>\n",
       "<table border=\"1\" class=\"dataframe\">\n",
       "  <thead>\n",
       "    <tr style=\"text-align: right;\">\n",
       "      <th></th>\n",
       "      <th>venue_sims</th>\n",
       "    </tr>\n",
       "  </thead>\n",
       "  <tbody>\n",
       "    <tr>\n",
       "      <th>0</th>\n",
       "      <td>[0.5665073990821838]</td>\n",
       "    </tr>\n",
       "    <tr>\n",
       "      <th>1</th>\n",
       "      <td>[0]</td>\n",
       "    </tr>\n",
       "    <tr>\n",
       "      <th>2</th>\n",
       "      <td>[0.7127783894538879]</td>\n",
       "    </tr>\n",
       "  </tbody>\n",
       "</table>\n",
       "</div>"
      ],
      "text/plain": [
       "             venue_sims\n",
       "0  [0.5665073990821838]\n",
       "1                   [0]\n",
       "2  [0.7127783894538879]"
      ]
     },
     "metadata": {},
     "output_type": "display_data"
    },
    {
     "name": "stdout",
     "output_type": "stream",
     "text": [
      "yi ba suo ha...\n"
     ]
    },
    {
     "data": {
      "text/html": [
       "<div>\n",
       "<style scoped>\n",
       "    .dataframe tbody tr th:only-of-type {\n",
       "        vertical-align: middle;\n",
       "    }\n",
       "\n",
       "    .dataframe tbody tr th {\n",
       "        vertical-align: top;\n",
       "    }\n",
       "\n",
       "    .dataframe thead th {\n",
       "        text-align: right;\n",
       "    }\n",
       "</style>\n",
       "<table border=\"1\" class=\"dataframe\">\n",
       "  <thead>\n",
       "    <tr style=\"text-align: right;\">\n",
       "      <th></th>\n",
       "      <th>venue_sims</th>\n",
       "      <th>venue_sims_min</th>\n",
       "      <th>venue_sims_max</th>\n",
       "      <th>venue_sims_mean</th>\n",
       "      <th>venue_sims_std</th>\n",
       "      <th>venue_sims_mm2</th>\n",
       "    </tr>\n",
       "  </thead>\n",
       "  <tbody>\n",
       "    <tr>\n",
       "      <th>0</th>\n",
       "      <td>[0.5665073990821838]</td>\n",
       "      <td>0.566507</td>\n",
       "      <td>0.566507</td>\n",
       "      <td>0.566507</td>\n",
       "      <td>0.0</td>\n",
       "      <td>0.566507</td>\n",
       "    </tr>\n",
       "    <tr>\n",
       "      <th>1</th>\n",
       "      <td>[0]</td>\n",
       "      <td>0.000000</td>\n",
       "      <td>0.000000</td>\n",
       "      <td>0.000000</td>\n",
       "      <td>0.0</td>\n",
       "      <td>0.000000</td>\n",
       "    </tr>\n",
       "    <tr>\n",
       "      <th>2</th>\n",
       "      <td>[0.7127783894538879]</td>\n",
       "      <td>0.712778</td>\n",
       "      <td>0.712778</td>\n",
       "      <td>0.712778</td>\n",
       "      <td>0.0</td>\n",
       "      <td>0.712778</td>\n",
       "    </tr>\n",
       "  </tbody>\n",
       "</table>\n",
       "</div>"
      ],
      "text/plain": [
       "             venue_sims  venue_sims_min  venue_sims_max  venue_sims_mean  \\\n",
       "0  [0.5665073990821838]        0.566507        0.566507         0.566507   \n",
       "1                   [0]        0.000000        0.000000         0.000000   \n",
       "2  [0.7127783894538879]        0.712778        0.712778         0.712778   \n",
       "\n",
       "   venue_sims_std  venue_sims_mm2  \n",
       "0             0.0        0.566507  \n",
       "1             0.0        0.000000  \n",
       "2             0.0        0.712778  "
      ]
     },
     "metadata": {},
     "output_type": "display_data"
    },
    {
     "name": "stdout",
     "output_type": "stream",
     "text": [
      "authors\n",
      "load data...\n",
      "find idx...\n"
     ]
    },
    {
     "data": {
      "text/html": [
       "<div>\n",
       "<style scoped>\n",
       "    .dataframe tbody tr th:only-of-type {\n",
       "        vertical-align: middle;\n",
       "    }\n",
       "\n",
       "    .dataframe tbody tr th {\n",
       "        vertical-align: top;\n",
       "    }\n",
       "\n",
       "    .dataframe thead th {\n",
       "        text-align: right;\n",
       "    }\n",
       "</style>\n",
       "<table border=\"1\" class=\"dataframe\">\n",
       "  <thead>\n",
       "    <tr style=\"text-align: right;\">\n",
       "      <th></th>\n",
       "      <th>author_id</th>\n",
       "      <th>author_name</th>\n",
       "      <th>author_org</th>\n",
       "      <th>label</th>\n",
       "      <th>paper_id</th>\n",
       "      <th>authors_a</th>\n",
       "      <th>paper_ids</th>\n",
       "      <th>authors_b</th>\n",
       "      <th>idx</th>\n",
       "    </tr>\n",
       "  </thead>\n",
       "  <tbody>\n",
       "    <tr>\n",
       "      <th>0</th>\n",
       "      <td>8GjtUmBs</td>\n",
       "      <td>li_guo</td>\n",
       "      <td>Institute of Pharmacology and Toxicology</td>\n",
       "      <td>0.0</td>\n",
       "      <td>P9a1gcvg</td>\n",
       "      <td>[-0.68291205, -0.3545693, 1.0175194, -0.266227...</td>\n",
       "      <td>[J5KPOi3Y]</td>\n",
       "      <td>[[-0.23130979, -0.40350914, 0.65237004, -0.000...</td>\n",
       "      <td>NaN</td>\n",
       "    </tr>\n",
       "    <tr>\n",
       "      <th>1</th>\n",
       "      <td>EShnTfSe</td>\n",
       "      <td>li_guo</td>\n",
       "      <td>Institute of Pharmacology and Toxicology</td>\n",
       "      <td>1.0</td>\n",
       "      <td>P9a1gcvg</td>\n",
       "      <td>[-0.68291205, -0.3545693, 1.0175194, -0.266227...</td>\n",
       "      <td>[P9a1gcvg]</td>\n",
       "      <td>[[-0.68291205, -0.3545693, 1.0175194, -0.26622...</td>\n",
       "      <td>0.0</td>\n",
       "    </tr>\n",
       "    <tr>\n",
       "      <th>2</th>\n",
       "      <td>t1ruuB9N</td>\n",
       "      <td>li_guo</td>\n",
       "      <td>Institute of Pharmacology and Toxicology</td>\n",
       "      <td>0.0</td>\n",
       "      <td>P9a1gcvg</td>\n",
       "      <td>[-0.68291205, -0.3545693, 1.0175194, -0.266227...</td>\n",
       "      <td>[T35c9ZAd]</td>\n",
       "      <td>[[-0.19042943, -0.34485796, 0.9125688, 0.43477...</td>\n",
       "      <td>NaN</td>\n",
       "    </tr>\n",
       "  </tbody>\n",
       "</table>\n",
       "</div>"
      ],
      "text/plain": [
       "  author_id author_name                                author_org  label  \\\n",
       "0  8GjtUmBs      li_guo  Institute of Pharmacology and Toxicology    0.0   \n",
       "1  EShnTfSe      li_guo  Institute of Pharmacology and Toxicology    1.0   \n",
       "2  t1ruuB9N      li_guo  Institute of Pharmacology and Toxicology    0.0   \n",
       "\n",
       "   paper_id                                          authors_a   paper_ids  \\\n",
       "0  P9a1gcvg  [-0.68291205, -0.3545693, 1.0175194, -0.266227...  [J5KPOi3Y]   \n",
       "1  P9a1gcvg  [-0.68291205, -0.3545693, 1.0175194, -0.266227...  [P9a1gcvg]   \n",
       "2  P9a1gcvg  [-0.68291205, -0.3545693, 1.0175194, -0.266227...  [T35c9ZAd]   \n",
       "\n",
       "                                           authors_b  idx  \n",
       "0  [[-0.23130979, -0.40350914, 0.65237004, -0.000...  NaN  \n",
       "1  [[-0.68291205, -0.3545693, 1.0175194, -0.26622...  0.0  \n",
       "2  [[-0.19042943, -0.34485796, 0.9125688, 0.43477...  NaN  "
      ]
     },
     "metadata": {},
     "output_type": "display_data"
    },
    {
     "name": "stdout",
     "output_type": "stream",
     "text": [
      "del...\n"
     ]
    },
    {
     "data": {
      "application/vnd.jupyter.widget-view+json": {
       "model_id": "0a876ee541b64630b881ebf02526d14b",
       "version_major": 2,
       "version_minor": 0
      },
      "text/plain": [
       "HBox(children=(IntProgress(value=0, max=1647782), HTML(value='')))"
      ]
     },
     "metadata": {},
     "output_type": "display_data"
    },
    {
     "name": "stdout",
     "output_type": "stream",
     "text": [
      "\n"
     ]
    },
    {
     "data": {
      "text/html": [
       "<div>\n",
       "<style scoped>\n",
       "    .dataframe tbody tr th:only-of-type {\n",
       "        vertical-align: middle;\n",
       "    }\n",
       "\n",
       "    .dataframe tbody tr th {\n",
       "        vertical-align: top;\n",
       "    }\n",
       "\n",
       "    .dataframe thead th {\n",
       "        text-align: right;\n",
       "    }\n",
       "</style>\n",
       "<table border=\"1\" class=\"dataframe\">\n",
       "  <thead>\n",
       "    <tr style=\"text-align: right;\">\n",
       "      <th></th>\n",
       "      <th>authors_a</th>\n",
       "      <th>authors_b</th>\n",
       "    </tr>\n",
       "  </thead>\n",
       "  <tbody>\n",
       "    <tr>\n",
       "      <th>0</th>\n",
       "      <td>[-0.68291205, -0.3545693, 1.0175194, -0.266227...</td>\n",
       "      <td>[[-0.23130979, -0.40350914, 0.65237004, -0.000...</td>\n",
       "    </tr>\n",
       "    <tr>\n",
       "      <th>1</th>\n",
       "      <td>[-0.68291205, -0.3545693, 1.0175194, -0.266227...</td>\n",
       "      <td>[]</td>\n",
       "    </tr>\n",
       "    <tr>\n",
       "      <th>2</th>\n",
       "      <td>[-0.68291205, -0.3545693, 1.0175194, -0.266227...</td>\n",
       "      <td>[[-0.19042943, -0.34485796, 0.9125688, 0.43477...</td>\n",
       "    </tr>\n",
       "  </tbody>\n",
       "</table>\n",
       "</div>"
      ],
      "text/plain": [
       "                                           authors_a  \\\n",
       "0  [-0.68291205, -0.3545693, 1.0175194, -0.266227...   \n",
       "1  [-0.68291205, -0.3545693, 1.0175194, -0.266227...   \n",
       "2  [-0.68291205, -0.3545693, 1.0175194, -0.266227...   \n",
       "\n",
       "                                           authors_b  \n",
       "0  [[-0.23130979, -0.40350914, 0.65237004, -0.000...  \n",
       "1                                                 []  \n",
       "2  [[-0.19042943, -0.34485796, 0.9125688, 0.43477...  "
      ]
     },
     "metadata": {},
     "output_type": "display_data"
    },
    {
     "name": "stdout",
     "output_type": "stream",
     "text": [
      "cal sim...\n"
     ]
    },
    {
     "data": {
      "application/vnd.jupyter.widget-view+json": {
       "model_id": "29614b3e15614cbda0f71713bd582645",
       "version_major": 2,
       "version_minor": 0
      },
      "text/plain": [
       "HBox(children=(IntProgress(value=0, max=1647782), HTML(value='')))"
      ]
     },
     "metadata": {},
     "output_type": "display_data"
    },
    {
     "name": "stdout",
     "output_type": "stream",
     "text": [
      "\n"
     ]
    },
    {
     "data": {
      "text/html": [
       "<div>\n",
       "<style scoped>\n",
       "    .dataframe tbody tr th:only-of-type {\n",
       "        vertical-align: middle;\n",
       "    }\n",
       "\n",
       "    .dataframe tbody tr th {\n",
       "        vertical-align: top;\n",
       "    }\n",
       "\n",
       "    .dataframe thead th {\n",
       "        text-align: right;\n",
       "    }\n",
       "</style>\n",
       "<table border=\"1\" class=\"dataframe\">\n",
       "  <thead>\n",
       "    <tr style=\"text-align: right;\">\n",
       "      <th></th>\n",
       "      <th>authors_sims</th>\n",
       "    </tr>\n",
       "  </thead>\n",
       "  <tbody>\n",
       "    <tr>\n",
       "      <th>0</th>\n",
       "      <td>[0.8089112043380737]</td>\n",
       "    </tr>\n",
       "    <tr>\n",
       "      <th>1</th>\n",
       "      <td>[0]</td>\n",
       "    </tr>\n",
       "    <tr>\n",
       "      <th>2</th>\n",
       "      <td>[0.8410670161247253]</td>\n",
       "    </tr>\n",
       "  </tbody>\n",
       "</table>\n",
       "</div>"
      ],
      "text/plain": [
       "           authors_sims\n",
       "0  [0.8089112043380737]\n",
       "1                   [0]\n",
       "2  [0.8410670161247253]"
      ]
     },
     "metadata": {},
     "output_type": "display_data"
    },
    {
     "name": "stdout",
     "output_type": "stream",
     "text": [
      "yi ba suo ha...\n"
     ]
    },
    {
     "data": {
      "text/html": [
       "<div>\n",
       "<style scoped>\n",
       "    .dataframe tbody tr th:only-of-type {\n",
       "        vertical-align: middle;\n",
       "    }\n",
       "\n",
       "    .dataframe tbody tr th {\n",
       "        vertical-align: top;\n",
       "    }\n",
       "\n",
       "    .dataframe thead th {\n",
       "        text-align: right;\n",
       "    }\n",
       "</style>\n",
       "<table border=\"1\" class=\"dataframe\">\n",
       "  <thead>\n",
       "    <tr style=\"text-align: right;\">\n",
       "      <th></th>\n",
       "      <th>authors_sims</th>\n",
       "      <th>authors_sims_min</th>\n",
       "      <th>authors_sims_max</th>\n",
       "      <th>authors_sims_mean</th>\n",
       "      <th>authors_sims_std</th>\n",
       "      <th>authors_sims_mm2</th>\n",
       "    </tr>\n",
       "  </thead>\n",
       "  <tbody>\n",
       "    <tr>\n",
       "      <th>0</th>\n",
       "      <td>[0.8089112043380737]</td>\n",
       "      <td>0.808911</td>\n",
       "      <td>0.808911</td>\n",
       "      <td>0.808911</td>\n",
       "      <td>0.0</td>\n",
       "      <td>0.808911</td>\n",
       "    </tr>\n",
       "    <tr>\n",
       "      <th>1</th>\n",
       "      <td>[0]</td>\n",
       "      <td>0.000000</td>\n",
       "      <td>0.000000</td>\n",
       "      <td>0.000000</td>\n",
       "      <td>0.0</td>\n",
       "      <td>0.000000</td>\n",
       "    </tr>\n",
       "    <tr>\n",
       "      <th>2</th>\n",
       "      <td>[0.8410670161247253]</td>\n",
       "      <td>0.841067</td>\n",
       "      <td>0.841067</td>\n",
       "      <td>0.841067</td>\n",
       "      <td>0.0</td>\n",
       "      <td>0.841067</td>\n",
       "    </tr>\n",
       "  </tbody>\n",
       "</table>\n",
       "</div>"
      ],
      "text/plain": [
       "           authors_sims  authors_sims_min  authors_sims_max  \\\n",
       "0  [0.8089112043380737]          0.808911          0.808911   \n",
       "1                   [0]          0.000000          0.000000   \n",
       "2  [0.8410670161247253]          0.841067          0.841067   \n",
       "\n",
       "   authors_sims_mean  authors_sims_std  authors_sims_mm2  \n",
       "0           0.808911               0.0          0.808911  \n",
       "1           0.000000               0.0          0.000000  \n",
       "2           0.841067               0.0          0.841067  "
      ]
     },
     "metadata": {},
     "output_type": "display_data"
    },
    {
     "name": "stdout",
     "output_type": "stream",
     "text": [
      "orgs\n",
      "load data...\n",
      "find idx...\n"
     ]
    },
    {
     "data": {
      "text/html": [
       "<div>\n",
       "<style scoped>\n",
       "    .dataframe tbody tr th:only-of-type {\n",
       "        vertical-align: middle;\n",
       "    }\n",
       "\n",
       "    .dataframe tbody tr th {\n",
       "        vertical-align: top;\n",
       "    }\n",
       "\n",
       "    .dataframe thead th {\n",
       "        text-align: right;\n",
       "    }\n",
       "</style>\n",
       "<table border=\"1\" class=\"dataframe\">\n",
       "  <thead>\n",
       "    <tr style=\"text-align: right;\">\n",
       "      <th></th>\n",
       "      <th>author_id</th>\n",
       "      <th>author_name</th>\n",
       "      <th>author_org</th>\n",
       "      <th>label</th>\n",
       "      <th>paper_id</th>\n",
       "      <th>orgs_a</th>\n",
       "      <th>paper_ids</th>\n",
       "      <th>orgs_b</th>\n",
       "      <th>idx</th>\n",
       "    </tr>\n",
       "  </thead>\n",
       "  <tbody>\n",
       "    <tr>\n",
       "      <th>0</th>\n",
       "      <td>8GjtUmBs</td>\n",
       "      <td>li_guo</td>\n",
       "      <td>Institute of Pharmacology and Toxicology</td>\n",
       "      <td>0.0</td>\n",
       "      <td>P9a1gcvg</td>\n",
       "      <td>[-0.37271369, -0.5907281, 0.47524145, -0.36693...</td>\n",
       "      <td>[J5KPOi3Y]</td>\n",
       "      <td>[[0.83142114, 0.2809167, 0.21847783, -0.387650...</td>\n",
       "      <td>NaN</td>\n",
       "    </tr>\n",
       "    <tr>\n",
       "      <th>1</th>\n",
       "      <td>EShnTfSe</td>\n",
       "      <td>li_guo</td>\n",
       "      <td>Institute of Pharmacology and Toxicology</td>\n",
       "      <td>1.0</td>\n",
       "      <td>P9a1gcvg</td>\n",
       "      <td>[-0.37271369, -0.5907281, 0.47524145, -0.36693...</td>\n",
       "      <td>[P9a1gcvg]</td>\n",
       "      <td>[[-0.37271369, -0.5907281, 0.47524145, -0.3669...</td>\n",
       "      <td>0.0</td>\n",
       "    </tr>\n",
       "    <tr>\n",
       "      <th>2</th>\n",
       "      <td>t1ruuB9N</td>\n",
       "      <td>li_guo</td>\n",
       "      <td>Institute of Pharmacology and Toxicology</td>\n",
       "      <td>0.0</td>\n",
       "      <td>P9a1gcvg</td>\n",
       "      <td>[-0.37271369, -0.5907281, 0.47524145, -0.36693...</td>\n",
       "      <td>[T35c9ZAd]</td>\n",
       "      <td>[[0.09807699, -0.5835178, 0.47167218, -0.36723...</td>\n",
       "      <td>NaN</td>\n",
       "    </tr>\n",
       "  </tbody>\n",
       "</table>\n",
       "</div>"
      ],
      "text/plain": [
       "  author_id author_name                                author_org  label  \\\n",
       "0  8GjtUmBs      li_guo  Institute of Pharmacology and Toxicology    0.0   \n",
       "1  EShnTfSe      li_guo  Institute of Pharmacology and Toxicology    1.0   \n",
       "2  t1ruuB9N      li_guo  Institute of Pharmacology and Toxicology    0.0   \n",
       "\n",
       "   paper_id                                             orgs_a   paper_ids  \\\n",
       "0  P9a1gcvg  [-0.37271369, -0.5907281, 0.47524145, -0.36693...  [J5KPOi3Y]   \n",
       "1  P9a1gcvg  [-0.37271369, -0.5907281, 0.47524145, -0.36693...  [P9a1gcvg]   \n",
       "2  P9a1gcvg  [-0.37271369, -0.5907281, 0.47524145, -0.36693...  [T35c9ZAd]   \n",
       "\n",
       "                                              orgs_b  idx  \n",
       "0  [[0.83142114, 0.2809167, 0.21847783, -0.387650...  NaN  \n",
       "1  [[-0.37271369, -0.5907281, 0.47524145, -0.3669...  0.0  \n",
       "2  [[0.09807699, -0.5835178, 0.47167218, -0.36723...  NaN  "
      ]
     },
     "metadata": {},
     "output_type": "display_data"
    },
    {
     "name": "stdout",
     "output_type": "stream",
     "text": [
      "del...\n"
     ]
    },
    {
     "data": {
      "application/vnd.jupyter.widget-view+json": {
       "model_id": "345e64bad8a149ed9785bac7130b5345",
       "version_major": 2,
       "version_minor": 0
      },
      "text/plain": [
       "HBox(children=(IntProgress(value=0, max=1647782), HTML(value='')))"
      ]
     },
     "metadata": {},
     "output_type": "display_data"
    },
    {
     "name": "stdout",
     "output_type": "stream",
     "text": [
      "\n"
     ]
    },
    {
     "data": {
      "text/html": [
       "<div>\n",
       "<style scoped>\n",
       "    .dataframe tbody tr th:only-of-type {\n",
       "        vertical-align: middle;\n",
       "    }\n",
       "\n",
       "    .dataframe tbody tr th {\n",
       "        vertical-align: top;\n",
       "    }\n",
       "\n",
       "    .dataframe thead th {\n",
       "        text-align: right;\n",
       "    }\n",
       "</style>\n",
       "<table border=\"1\" class=\"dataframe\">\n",
       "  <thead>\n",
       "    <tr style=\"text-align: right;\">\n",
       "      <th></th>\n",
       "      <th>orgs_a</th>\n",
       "      <th>orgs_b</th>\n",
       "    </tr>\n",
       "  </thead>\n",
       "  <tbody>\n",
       "    <tr>\n",
       "      <th>0</th>\n",
       "      <td>[-0.37271369, -0.5907281, 0.47524145, -0.36693...</td>\n",
       "      <td>[[0.83142114, 0.2809167, 0.21847783, -0.387650...</td>\n",
       "    </tr>\n",
       "    <tr>\n",
       "      <th>1</th>\n",
       "      <td>[-0.37271369, -0.5907281, 0.47524145, -0.36693...</td>\n",
       "      <td>[]</td>\n",
       "    </tr>\n",
       "    <tr>\n",
       "      <th>2</th>\n",
       "      <td>[-0.37271369, -0.5907281, 0.47524145, -0.36693...</td>\n",
       "      <td>[[0.09807699, -0.5835178, 0.47167218, -0.36723...</td>\n",
       "    </tr>\n",
       "  </tbody>\n",
       "</table>\n",
       "</div>"
      ],
      "text/plain": [
       "                                              orgs_a  \\\n",
       "0  [-0.37271369, -0.5907281, 0.47524145, -0.36693...   \n",
       "1  [-0.37271369, -0.5907281, 0.47524145, -0.36693...   \n",
       "2  [-0.37271369, -0.5907281, 0.47524145, -0.36693...   \n",
       "\n",
       "                                              orgs_b  \n",
       "0  [[0.83142114, 0.2809167, 0.21847783, -0.387650...  \n",
       "1                                                 []  \n",
       "2  [[0.09807699, -0.5835178, 0.47167218, -0.36723...  "
      ]
     },
     "metadata": {},
     "output_type": "display_data"
    },
    {
     "name": "stdout",
     "output_type": "stream",
     "text": [
      "cal sim...\n"
     ]
    },
    {
     "data": {
      "application/vnd.jupyter.widget-view+json": {
       "model_id": "07b54883e59f4ed894a19f8473841956",
       "version_major": 2,
       "version_minor": 0
      },
      "text/plain": [
       "HBox(children=(IntProgress(value=0, max=1647782), HTML(value='')))"
      ]
     },
     "metadata": {},
     "output_type": "display_data"
    },
    {
     "name": "stdout",
     "output_type": "stream",
     "text": [
      "\n"
     ]
    },
    {
     "data": {
      "text/html": [
       "<div>\n",
       "<style scoped>\n",
       "    .dataframe tbody tr th:only-of-type {\n",
       "        vertical-align: middle;\n",
       "    }\n",
       "\n",
       "    .dataframe tbody tr th {\n",
       "        vertical-align: top;\n",
       "    }\n",
       "\n",
       "    .dataframe thead th {\n",
       "        text-align: right;\n",
       "    }\n",
       "</style>\n",
       "<table border=\"1\" class=\"dataframe\">\n",
       "  <thead>\n",
       "    <tr style=\"text-align: right;\">\n",
       "      <th></th>\n",
       "      <th>orgs_sims</th>\n",
       "    </tr>\n",
       "  </thead>\n",
       "  <tbody>\n",
       "    <tr>\n",
       "      <th>0</th>\n",
       "      <td>[0.5488908886909485]</td>\n",
       "    </tr>\n",
       "    <tr>\n",
       "      <th>1</th>\n",
       "      <td>[0]</td>\n",
       "    </tr>\n",
       "    <tr>\n",
       "      <th>2</th>\n",
       "      <td>[0.5282562375068665]</td>\n",
       "    </tr>\n",
       "  </tbody>\n",
       "</table>\n",
       "</div>"
      ],
      "text/plain": [
       "              orgs_sims\n",
       "0  [0.5488908886909485]\n",
       "1                   [0]\n",
       "2  [0.5282562375068665]"
      ]
     },
     "metadata": {},
     "output_type": "display_data"
    },
    {
     "name": "stdout",
     "output_type": "stream",
     "text": [
      "yi ba suo ha...\n"
     ]
    },
    {
     "data": {
      "text/html": [
       "<div>\n",
       "<style scoped>\n",
       "    .dataframe tbody tr th:only-of-type {\n",
       "        vertical-align: middle;\n",
       "    }\n",
       "\n",
       "    .dataframe tbody tr th {\n",
       "        vertical-align: top;\n",
       "    }\n",
       "\n",
       "    .dataframe thead th {\n",
       "        text-align: right;\n",
       "    }\n",
       "</style>\n",
       "<table border=\"1\" class=\"dataframe\">\n",
       "  <thead>\n",
       "    <tr style=\"text-align: right;\">\n",
       "      <th></th>\n",
       "      <th>orgs_sims</th>\n",
       "      <th>orgs_sims_min</th>\n",
       "      <th>orgs_sims_max</th>\n",
       "      <th>orgs_sims_mean</th>\n",
       "      <th>orgs_sims_std</th>\n",
       "      <th>orgs_sims_mm2</th>\n",
       "    </tr>\n",
       "  </thead>\n",
       "  <tbody>\n",
       "    <tr>\n",
       "      <th>0</th>\n",
       "      <td>[0.5488908886909485]</td>\n",
       "      <td>0.548891</td>\n",
       "      <td>0.548891</td>\n",
       "      <td>0.548891</td>\n",
       "      <td>0.0</td>\n",
       "      <td>0.548891</td>\n",
       "    </tr>\n",
       "    <tr>\n",
       "      <th>1</th>\n",
       "      <td>[0]</td>\n",
       "      <td>0.000000</td>\n",
       "      <td>0.000000</td>\n",
       "      <td>0.000000</td>\n",
       "      <td>0.0</td>\n",
       "      <td>0.000000</td>\n",
       "    </tr>\n",
       "    <tr>\n",
       "      <th>2</th>\n",
       "      <td>[0.5282562375068665]</td>\n",
       "      <td>0.528256</td>\n",
       "      <td>0.528256</td>\n",
       "      <td>0.528256</td>\n",
       "      <td>0.0</td>\n",
       "      <td>0.528256</td>\n",
       "    </tr>\n",
       "  </tbody>\n",
       "</table>\n",
       "</div>"
      ],
      "text/plain": [
       "              orgs_sims  orgs_sims_min  orgs_sims_max  orgs_sims_mean  \\\n",
       "0  [0.5488908886909485]       0.548891       0.548891        0.548891   \n",
       "1                   [0]       0.000000       0.000000        0.000000   \n",
       "2  [0.5282562375068665]       0.528256       0.528256        0.528256   \n",
       "\n",
       "   orgs_sims_std  orgs_sims_mm2  \n",
       "0            0.0       0.548891  \n",
       "1            0.0       0.000000  \n",
       "2            0.0       0.528256  "
      ]
     },
     "metadata": {},
     "output_type": "display_data"
    }
   ],
   "source": [
    "train_data = pd.read_pickle('./pkl/train_data.pkl')\n",
    "test_data = pd.read_pickle('./pkl/valid_data.pkl')\n",
    "\n",
    "data = pd.concat([train_data, test_data]).reset_index(drop=True)\n",
    "\n",
    "def pidx(p, ps):\n",
    "    ans = np.nan\n",
    "    for i, p2 in enumerate(ps):\n",
    "        if p == p2:\n",
    "            ans = i\n",
    "            break\n",
    "    return ans\n",
    "\n",
    "from scipy import spatial\n",
    "def cos_sim(a, b):\n",
    "    return 1 - spatial.distance.cosine(a, b)\n",
    "\n",
    "from tqdm import tqdm_notebook\n",
    "\n",
    "pub_col = ['abstract', 'keywords', 'title', 'venue', 'authors', 'orgs']\n",
    "for pc in pub_col:\n",
    "    print(pc)\n",
    "    print('load data...')\n",
    "    pub_info = pd.read_pickle('./embed_bert/pub_info_%s.pkl' % pc)\n",
    "    author_pub_detail = pd.read_pickle('./embed_bert/author_pub_%s.pkl' % pc)\n",
    "    pub_info.columns = ['paper_id', pc+'_a']\n",
    "    author_pub_detail.columns = ['author_id', 'paper_ids', pc+'_b']\n",
    "    data_c = data.merge(pub_info, 'left', 'paper_id').merge(author_pub_detail, 'left', 'author_id')\n",
    "    print('find idx...')\n",
    "    data_c['idx'] = data_c.apply(lambda row: pidx(row['paper_id'], row['paper_ids']) if row['label'] == 1 else np.nan, axis=1)\n",
    "    display(data_c.head(3))\n",
    "    print('del...')\n",
    "    for i in tqdm_notebook(range(len(data_c))):\n",
    "        if pd.isna(data_c.loc[i, 'idx']):\n",
    "            continue\n",
    "        v = list(data_c.loc[i, pc+'_b'])\n",
    "        del v[data_c.loc[i, 'idx'].astype(int)]\n",
    "        data_c.set_value(i, pc+'_b', v)\n",
    "    data_c = data_c[[pc+'_a', pc+'_b']]\n",
    "    display(data_c.head(3))\n",
    "    print('cal sim...')\n",
    "    sims = []\n",
    "    for ca, cb in tqdm_notebook(data_c.values):\n",
    "        ss = []\n",
    "        for b in cb:\n",
    "            cs = cos_sim(ca, b)\n",
    "            ss.append(cs)\n",
    "        if len(ss) == 0:\n",
    "            ss.append(0)\n",
    "        sims.append(ss)\n",
    "#     sims_df = pd.DataFrame(sims, columns=[pc+'_sims'])\n",
    "    sims_df = pd.DataFrame()\n",
    "    sims_df[pc+'_sims'] = sims\n",
    "    display(sims_df.head(3))\n",
    "    print('yi ba suo ha...')\n",
    "    sims_df[pc+'_sims_'+'min'] = sims_df[pc+'_sims'].apply(np.min)\n",
    "    sims_df[pc+'_sims_'+'max'] = sims_df[pc+'_sims'].apply(np.max)\n",
    "    sims_df[pc+'_sims_'+'mean'] = sims_df[pc+'_sims'].apply(np.mean)\n",
    "    sims_df[pc+'_sims_'+'std'] = sims_df[pc+'_sims'].apply(np.std)\n",
    "    sims_df[pc+'_sims_'+'mm2'] = (sims_df[pc+'_sims_'+'min'] + sims_df[pc+'_sims_'+'max']) / 2\n",
    "    display(sims_df.head(3))\n",
    "    sims_df[[pc+'_sims_'+'min', pc+'_sims_'+'max', pc+'_sims_'+'mean', pc+'_sims_'+'std', pc+'_sims_'+'mm2']].to_pickle('./feat/%s_sims_st_bert.pkl' % (pc))\n",
    "    del pub_info, author_pub_detail, data_c, sims, sims_df\n",
    "    gc.collect()"
   ]
  }
 ],
 "metadata": {
  "kernelspec": {
   "display_name": "Python 3",
   "language": "python",
   "name": "python3"
  },
  "language_info": {
   "codemirror_mode": {
    "name": "ipython",
    "version": 3
   },
   "file_extension": ".py",
   "mimetype": "text/x-python",
   "name": "python",
   "nbconvert_exporter": "python",
   "pygments_lexer": "ipython3",
   "version": "3.6.7"
  }
 },
 "nbformat": 4,
 "nbformat_minor": 2
}
