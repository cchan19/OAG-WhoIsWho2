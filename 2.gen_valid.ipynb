{
 "cells": [
  {
   "cell_type": "code",
   "execution_count": 1,
   "metadata": {},
   "outputs": [],
   "source": [
    "import pandas as pd\n",
    "import numpy as np\n",
    "import os\n",
    "import sys\n",
    "from collections import OrderedDict\n",
    "import json"
   ]
  },
  {
   "cell_type": "markdown",
   "metadata": {},
   "source": [
    "### valid data"
   ]
  },
  {
   "cell_type": "code",
   "execution_count": 2,
   "metadata": {},
   "outputs": [],
   "source": [
    "valid_pub_info = pd.read_pickle('./pkl/valid_pub_info.pkl')\n",
    "cna_valid_unass = pd.read_pickle('./pkl/cna_valid_unass.pkl')"
   ]
  },
  {
   "cell_type": "code",
   "execution_count": 3,
   "metadata": {},
   "outputs": [],
   "source": [
    "valid_data = cna_valid_unass.merge(valid_pub_info, 'left', 'paper_id')"
   ]
  },
  {
   "cell_type": "code",
   "execution_count": 4,
   "metadata": {},
   "outputs": [
    {
     "name": "stdout",
     "output_type": "stream",
     "text": [
      "3028\n"
     ]
    }
   ],
   "source": [
    "valid_data['author_idx'] = valid_data['author_idx'].astype(int)\n",
    "print(valid_data['author_idx'].max())"
   ]
  },
  {
   "cell_type": "code",
   "execution_count": 5,
   "metadata": {},
   "outputs": [],
   "source": [
    "valid_data['author_name'] = valid_data.apply(lambda row: row['authors'][row['author_idx']]['name'], axis=1)"
   ]
  },
  {
   "cell_type": "code",
   "execution_count": 6,
   "metadata": {},
   "outputs": [],
   "source": [
    "valid_data['author_org'] = valid_data.apply(lambda row: row['authors'][row['author_idx']].get('org'), axis=1)"
   ]
  },
  {
   "cell_type": "code",
   "execution_count": 7,
   "metadata": {},
   "outputs": [],
   "source": [
    "valid_data = valid_data[['paper_id', 'author_name', 'author_org']]"
   ]
  },
  {
   "cell_type": "code",
   "execution_count": 8,
   "metadata": {},
   "outputs": [],
   "source": [
    "def convert(name):\n",
    "    name = name.lower()\n",
    "    name = name.replace('. ', '_').replace('.', '_').replace(' ', '_').replace('-', '')\n",
    "    if name in ['yang_jie', 'jie_yang_0002', 'jie\\xa0yang', 'jie_yang_0008']:\n",
    "        name = 'jie_yang'\n",
    "    if name in ['liu_bing']:\n",
    "        name = 'bing_liu'\n",
    "    return name\n",
    "\n",
    "valid_data['author_name'] = valid_data['author_name'].apply(convert)"
   ]
  },
  {
   "cell_type": "code",
   "execution_count": 9,
   "metadata": {},
   "outputs": [
    {
     "data": {
      "text/html": [
       "<div>\n",
       "<style scoped>\n",
       "    .dataframe tbody tr th:only-of-type {\n",
       "        vertical-align: middle;\n",
       "    }\n",
       "\n",
       "    .dataframe tbody tr th {\n",
       "        vertical-align: top;\n",
       "    }\n",
       "\n",
       "    .dataframe thead th {\n",
       "        text-align: right;\n",
       "    }\n",
       "</style>\n",
       "<table border=\"1\" class=\"dataframe\">\n",
       "  <thead>\n",
       "    <tr style=\"text-align: right;\">\n",
       "      <th></th>\n",
       "      <th>paper_id</th>\n",
       "      <th>author_name</th>\n",
       "      <th>author_org</th>\n",
       "    </tr>\n",
       "  </thead>\n",
       "  <tbody>\n",
       "    <tr>\n",
       "      <th>0</th>\n",
       "      <td>F3Mha4HG</td>\n",
       "      <td>lei_shi</td>\n",
       "      <td>State Key Laboratory of Catalysis</td>\n",
       "    </tr>\n",
       "    <tr>\n",
       "      <th>1</th>\n",
       "      <td>ZSS7tPJq</td>\n",
       "      <td>jing_yu</td>\n",
       "      <td>Department of Materials Science and Engineerin...</td>\n",
       "    </tr>\n",
       "    <tr>\n",
       "      <th>2</th>\n",
       "      <td>NkHR5dsF</td>\n",
       "      <td>c_h_chen</td>\n",
       "      <td>Department of Physics and Astronomy</td>\n",
       "    </tr>\n",
       "    <tr>\n",
       "      <th>3</th>\n",
       "      <td>ihHKyfah</td>\n",
       "      <td>li_he</td>\n",
       "      <td>School of Computer Science and Engineering, He...</td>\n",
       "    </tr>\n",
       "    <tr>\n",
       "      <th>4</th>\n",
       "      <td>iEZVdy9V</td>\n",
       "      <td>min_chen</td>\n",
       "      <td>Department of Materials Science, State Key Lab...</td>\n",
       "    </tr>\n",
       "  </tbody>\n",
       "</table>\n",
       "</div>"
      ],
      "text/plain": [
       "   paper_id author_name                                         author_org\n",
       "0  F3Mha4HG     lei_shi                  State Key Laboratory of Catalysis\n",
       "1  ZSS7tPJq     jing_yu  Department of Materials Science and Engineerin...\n",
       "2  NkHR5dsF    c_h_chen                Department of Physics and Astronomy\n",
       "3  ihHKyfah       li_he  School of Computer Science and Engineering, He...\n",
       "4  iEZVdy9V    min_chen  Department of Materials Science, State Key Lab..."
      ]
     },
     "execution_count": 9,
     "metadata": {},
     "output_type": "execute_result"
    }
   ],
   "source": [
    "valid_data.head()"
   ]
  },
  {
   "cell_type": "code",
   "execution_count": 10,
   "metadata": {},
   "outputs": [
    {
     "data": {
      "text/plain": [
       "36"
      ]
     },
     "execution_count": 10,
     "metadata": {},
     "output_type": "execute_result"
    }
   ],
   "source": [
    "valid_data['author_name'].nunique()"
   ]
  },
  {
   "cell_type": "code",
   "execution_count": 12,
   "metadata": {},
   "outputs": [
    {
     "data": {
      "text/html": [
       "<div>\n",
       "<style scoped>\n",
       "    .dataframe tbody tr th:only-of-type {\n",
       "        vertical-align: middle;\n",
       "    }\n",
       "\n",
       "    .dataframe tbody tr th {\n",
       "        vertical-align: top;\n",
       "    }\n",
       "\n",
       "    .dataframe thead th {\n",
       "        text-align: right;\n",
       "    }\n",
       "</style>\n",
       "<table border=\"1\" class=\"dataframe\">\n",
       "  <thead>\n",
       "    <tr style=\"text-align: right;\">\n",
       "      <th></th>\n",
       "      <th>paper_id</th>\n",
       "      <th>author_name</th>\n",
       "      <th>author_org</th>\n",
       "    </tr>\n",
       "  </thead>\n",
       "  <tbody>\n",
       "    <tr>\n",
       "      <th>5810</th>\n",
       "      <td>FyI9Y37Z</td>\n",
       "      <td>jie_yang</td>\n",
       "      <td>South China University of Technology</td>\n",
       "    </tr>\n",
       "    <tr>\n",
       "      <th>7036</th>\n",
       "      <td>trFiz7xt</td>\n",
       "      <td>rui_zhang</td>\n",
       "      <td>South China University of Technology</td>\n",
       "    </tr>\n",
       "    <tr>\n",
       "      <th>7431</th>\n",
       "      <td>BhUmfUOJ</td>\n",
       "      <td>qing_zhang</td>\n",
       "      <td>South China University of Technology</td>\n",
       "    </tr>\n",
       "  </tbody>\n",
       "</table>\n",
       "</div>"
      ],
      "text/plain": [
       "      paper_id author_name                            author_org\n",
       "5810  FyI9Y37Z    jie_yang  South China University of Technology\n",
       "7036  trFiz7xt   rui_zhang  South China University of Technology\n",
       "7431  BhUmfUOJ  qing_zhang  South China University of Technology"
      ]
     },
     "execution_count": 12,
     "metadata": {},
     "output_type": "execute_result"
    }
   ],
   "source": [
    "valid_data[valid_data['author_org'] == 'South China University of Technology']"
   ]
  },
  {
   "cell_type": "code",
   "execution_count": null,
   "metadata": {},
   "outputs": [],
   "source": []
  },
  {
   "cell_type": "code",
   "execution_count": 13,
   "metadata": {},
   "outputs": [],
   "source": [
    "whole_author_name_paper_ids = pd.read_pickle('./pkl/whole_author_name_paper_ids.pkl')"
   ]
  },
  {
   "cell_type": "code",
   "execution_count": 14,
   "metadata": {},
   "outputs": [
    {
     "data": {
      "text/html": [
       "<div>\n",
       "<style scoped>\n",
       "    .dataframe tbody tr th:only-of-type {\n",
       "        vertical-align: middle;\n",
       "    }\n",
       "\n",
       "    .dataframe tbody tr th {\n",
       "        vertical-align: top;\n",
       "    }\n",
       "\n",
       "    .dataframe thead th {\n",
       "        text-align: right;\n",
       "    }\n",
       "</style>\n",
       "<table border=\"1\" class=\"dataframe\">\n",
       "  <thead>\n",
       "    <tr style=\"text-align: right;\">\n",
       "      <th></th>\n",
       "      <th>author_id</th>\n",
       "      <th>author_name</th>\n",
       "      <th>paper_ids</th>\n",
       "    </tr>\n",
       "  </thead>\n",
       "  <tbody>\n",
       "    <tr>\n",
       "      <th>0</th>\n",
       "      <td>004mBKh6</td>\n",
       "      <td>changsheng_li</td>\n",
       "      <td>[lRl7m2tU, 1vUnZLES, 5IbEOTRh, dVAKsHla, TY0MY...</td>\n",
       "    </tr>\n",
       "    <tr>\n",
       "      <th>1</th>\n",
       "      <td>008b5hIc</td>\n",
       "      <td>yuanyuan_liu</td>\n",
       "      <td>[nPuf0kYs]</td>\n",
       "    </tr>\n",
       "    <tr>\n",
       "      <th>2</th>\n",
       "      <td>00BAgHFr</td>\n",
       "      <td>xi_li</td>\n",
       "      <td>[TuEkjf5i, kn6wo3ot, 0f2awX7U]</td>\n",
       "    </tr>\n",
       "    <tr>\n",
       "      <th>3</th>\n",
       "      <td>00M93JDI</td>\n",
       "      <td>weiping_cai</td>\n",
       "      <td>[mHDfYkqE, RWISo90R, FSsnfI0X, 4U4GvMmc, Yh45T...</td>\n",
       "    </tr>\n",
       "    <tr>\n",
       "      <th>4</th>\n",
       "      <td>00ShLPmg</td>\n",
       "      <td>hong_xiao</td>\n",
       "      <td>[inFGp3mc, uyJus3zu, o6poFI1m, KvHObx7O, vg64a...</td>\n",
       "    </tr>\n",
       "  </tbody>\n",
       "</table>\n",
       "</div>"
      ],
      "text/plain": [
       "  author_id    author_name                                          paper_ids\n",
       "0  004mBKh6  changsheng_li  [lRl7m2tU, 1vUnZLES, 5IbEOTRh, dVAKsHla, TY0MY...\n",
       "1  008b5hIc   yuanyuan_liu                                         [nPuf0kYs]\n",
       "2  00BAgHFr          xi_li                     [TuEkjf5i, kn6wo3ot, 0f2awX7U]\n",
       "3  00M93JDI    weiping_cai  [mHDfYkqE, RWISo90R, FSsnfI0X, 4U4GvMmc, Yh45T...\n",
       "4  00ShLPmg      hong_xiao  [inFGp3mc, uyJus3zu, o6poFI1m, KvHObx7O, vg64a..."
      ]
     },
     "execution_count": 14,
     "metadata": {},
     "output_type": "execute_result"
    }
   ],
   "source": [
    "whole_author_name_paper_ids.head()"
   ]
  },
  {
   "cell_type": "code",
   "execution_count": 15,
   "metadata": {},
   "outputs": [],
   "source": [
    "valid_data_ = valid_data.merge(whole_author_name_paper_ids[['author_name', 'author_id']], 'left', 'author_name')"
   ]
  },
  {
   "cell_type": "code",
   "execution_count": 16,
   "metadata": {},
   "outputs": [
    {
     "data": {
      "text/plain": [
       "paper_id       0.000000\n",
       "author_name    0.000000\n",
       "author_org     0.001193\n",
       "author_id      0.000000\n",
       "dtype: float64"
      ]
     },
     "execution_count": 16,
     "metadata": {},
     "output_type": "execute_result"
    }
   ],
   "source": [
    "valid_data_.isnull().sum() / len(valid_data_)"
   ]
  },
  {
   "cell_type": "code",
   "execution_count": 18,
   "metadata": {},
   "outputs": [
    {
     "data": {
      "text/html": [
       "<div>\n",
       "<style scoped>\n",
       "    .dataframe tbody tr th:only-of-type {\n",
       "        vertical-align: middle;\n",
       "    }\n",
       "\n",
       "    .dataframe tbody tr th {\n",
       "        vertical-align: top;\n",
       "    }\n",
       "\n",
       "    .dataframe thead th {\n",
       "        text-align: right;\n",
       "    }\n",
       "</style>\n",
       "<table border=\"1\" class=\"dataframe\">\n",
       "  <thead>\n",
       "    <tr style=\"text-align: right;\">\n",
       "      <th></th>\n",
       "      <th>paper_id</th>\n",
       "      <th>author_name</th>\n",
       "      <th>author_org</th>\n",
       "      <th>author_id</th>\n",
       "    </tr>\n",
       "  </thead>\n",
       "  <tbody>\n",
       "    <tr>\n",
       "      <th>0</th>\n",
       "      <td>F3Mha4HG</td>\n",
       "      <td>lei_shi</td>\n",
       "      <td>State Key Laboratory of Catalysis</td>\n",
       "      <td>0gL4hj4n</td>\n",
       "    </tr>\n",
       "    <tr>\n",
       "      <th>1</th>\n",
       "      <td>F3Mha4HG</td>\n",
       "      <td>lei_shi</td>\n",
       "      <td>State Key Laboratory of Catalysis</td>\n",
       "      <td>0jknXeWe</td>\n",
       "    </tr>\n",
       "    <tr>\n",
       "      <th>2</th>\n",
       "      <td>F3Mha4HG</td>\n",
       "      <td>lei_shi</td>\n",
       "      <td>State Key Laboratory of Catalysis</td>\n",
       "      <td>1vE3Drg0</td>\n",
       "    </tr>\n",
       "    <tr>\n",
       "      <th>3</th>\n",
       "      <td>F3Mha4HG</td>\n",
       "      <td>lei_shi</td>\n",
       "      <td>State Key Laboratory of Catalysis</td>\n",
       "      <td>2IVNIGb6</td>\n",
       "    </tr>\n",
       "    <tr>\n",
       "      <th>4</th>\n",
       "      <td>F3Mha4HG</td>\n",
       "      <td>lei_shi</td>\n",
       "      <td>State Key Laboratory of Catalysis</td>\n",
       "      <td>5QgbLXhl</td>\n",
       "    </tr>\n",
       "  </tbody>\n",
       "</table>\n",
       "</div>"
      ],
      "text/plain": [
       "   paper_id author_name                         author_org author_id\n",
       "0  F3Mha4HG     lei_shi  State Key Laboratory of Catalysis  0gL4hj4n\n",
       "1  F3Mha4HG     lei_shi  State Key Laboratory of Catalysis  0jknXeWe\n",
       "2  F3Mha4HG     lei_shi  State Key Laboratory of Catalysis  1vE3Drg0\n",
       "3  F3Mha4HG     lei_shi  State Key Laboratory of Catalysis  2IVNIGb6\n",
       "4  F3Mha4HG     lei_shi  State Key Laboratory of Catalysis  5QgbLXhl"
      ]
     },
     "execution_count": 18,
     "metadata": {},
     "output_type": "execute_result"
    }
   ],
   "source": [
    "valid_data_.head()"
   ]
  },
  {
   "cell_type": "code",
   "execution_count": 19,
   "metadata": {},
   "outputs": [],
   "source": [
    "valid_data_.to_pickle('./pkl/valid_data.pkl')"
   ]
  },
  {
   "cell_type": "code",
   "execution_count": null,
   "metadata": {},
   "outputs": [],
   "source": []
  }
 ],
 "metadata": {
  "kernelspec": {
   "display_name": "Python 3",
   "language": "python",
   "name": "python3"
  },
  "language_info": {
   "codemirror_mode": {
    "name": "ipython",
    "version": 3
   },
   "file_extension": ".py",
   "mimetype": "text/x-python",
   "name": "python",
   "nbconvert_exporter": "python",
   "pygments_lexer": "ipython3",
   "version": "3.6.7"
  }
 },
 "nbformat": 4,
 "nbformat_minor": 2
}
