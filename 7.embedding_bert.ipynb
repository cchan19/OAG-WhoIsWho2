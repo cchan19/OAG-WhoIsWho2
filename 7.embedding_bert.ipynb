{
 "cells": [
  {
   "cell_type": "code",
   "execution_count": 1,
   "metadata": {},
   "outputs": [],
   "source": [
    "# !pip install jieba"
   ]
  },
  {
   "cell_type": "code",
   "execution_count": 2,
   "metadata": {},
   "outputs": [],
   "source": [
    "import warnings\n",
    "warnings.filterwarnings('ignore')"
   ]
  },
  {
   "cell_type": "code",
   "execution_count": 3,
   "metadata": {},
   "outputs": [],
   "source": [
    "import pandas as pd\n",
    "import numpy as np\n",
    "import gc\n",
    "import time\n",
    "import os"
   ]
  },
  {
   "cell_type": "code",
   "execution_count": 4,
   "metadata": {},
   "outputs": [],
   "source": [
    "from random import randint\n",
    "\n",
    "import numpy as np\n",
    "import torch\n",
    "import pandas as pd\n",
    "import re\n",
    "import os\n",
    "os.environ[\"CUDA_VISIBLE_DEVICES\"] ='0'"
   ]
  },
  {
   "cell_type": "code",
   "execution_count": 5,
   "metadata": {},
   "outputs": [],
   "source": [
    "pub_info = pd.read_pickle('./pkl/pub_info.pkl')"
   ]
  },
  {
   "cell_type": "code",
   "execution_count": 6,
   "metadata": {},
   "outputs": [
    {
     "data": {
      "text/html": [
       "<div>\n",
       "<style scoped>\n",
       "    .dataframe tbody tr th:only-of-type {\n",
       "        vertical-align: middle;\n",
       "    }\n",
       "\n",
       "    .dataframe tbody tr th {\n",
       "        vertical-align: top;\n",
       "    }\n",
       "\n",
       "    .dataframe thead th {\n",
       "        text-align: right;\n",
       "    }\n",
       "</style>\n",
       "<table border=\"1\" class=\"dataframe\">\n",
       "  <thead>\n",
       "    <tr style=\"text-align: right;\">\n",
       "      <th></th>\n",
       "      <th>abstract</th>\n",
       "      <th>authors</th>\n",
       "      <th>keywords</th>\n",
       "      <th>paper_id</th>\n",
       "      <th>title</th>\n",
       "      <th>venue</th>\n",
       "      <th>year</th>\n",
       "      <th>orgs</th>\n",
       "    </tr>\n",
       "  </thead>\n",
       "  <tbody>\n",
       "    <tr>\n",
       "      <th>0</th>\n",
       "      <td>Extremely long states of bound solitons consis...</td>\n",
       "      <td>[Ya Liu, Xin Zhao, Jiansheng Liu, Guoqing Hu]</td>\n",
       "      <td>[carbon nanotubes, fibre lasers, laser cavity ...</td>\n",
       "      <td>0009qJgC</td>\n",
       "      <td>Generating ultra-long bound soliton sequences ...</td>\n",
       "      <td>Lasers and Electro-Optics</td>\n",
       "      <td>2014</td>\n",
       "      <td>[Sch. of Electron. &amp; Inf. Eng., Beihang Univ.,...</td>\n",
       "    </tr>\n",
       "    <tr>\n",
       "      <th>1</th>\n",
       "      <td></td>\n",
       "      <td>[Hao He, Jun Yang]</td>\n",
       "      <td>[different part, data graph, variety ofstructu...</td>\n",
       "      <td>000BMUBY</td>\n",
       "      <td>Multiresolution Indexing of XML for Frequent Q...</td>\n",
       "      <td>icde</td>\n",
       "      <td>2004</td>\n",
       "      <td>[]</td>\n",
       "    </tr>\n",
       "    <tr>\n",
       "      <th>2</th>\n",
       "      <td>The Yellow River (YR) supplies a large amount ...</td>\n",
       "      <td>[Weifeng Yang, Min Chen, Guangxue Li, Jianping...</td>\n",
       "      <td>[13C, 15N, East China Sea, Trace element, Yell...</td>\n",
       "      <td>000Fmw78</td>\n",
       "      <td>Relocation of the Yellow River as revealed by ...</td>\n",
       "      <td>Marine Pollution Bulletin</td>\n",
       "      <td>2009</td>\n",
       "      <td>[State Key Laboratory of Marine Environmental ...</td>\n",
       "    </tr>\n",
       "    <tr>\n",
       "      <th>3</th>\n",
       "      <td>Our findings suggest that Th17 cells may be in...</td>\n",
       "      <td>[Xiaowei Wang, Xiaojun Chen, Heng Tang, Jifeng...</td>\n",
       "      <td>[Mycoplasma Pneumoniae, Th17 cells, children, ...</td>\n",
       "      <td>000HsdYy</td>\n",
       "      <td>Increased Frequency of Th17 Cells in Children ...</td>\n",
       "      <td>Journal of clinical laboratory analysis</td>\n",
       "      <td>2016</td>\n",
       "      <td>[Department of Blood Transfusion, Nanjing Chil...</td>\n",
       "    </tr>\n",
       "    <tr>\n",
       "      <th>4</th>\n",
       "      <td></td>\n",
       "      <td>[jun chen, xianran xing, andrew d watson, wei ...</td>\n",
       "      <td>[]</td>\n",
       "      <td>000NKgQT</td>\n",
       "      <td>Rapid Synthesis of Multiferroic BiFeO 3 Single...</td>\n",
       "      <td>Chemistry of Materials</td>\n",
       "      <td>2007</td>\n",
       "      <td>[, , , , , , , , ]</td>\n",
       "    </tr>\n",
       "  </tbody>\n",
       "</table>\n",
       "</div>"
      ],
      "text/plain": [
       "                                            abstract  \\\n",
       "0  Extremely long states of bound solitons consis...   \n",
       "1                                                      \n",
       "2  The Yellow River (YR) supplies a large amount ...   \n",
       "3  Our findings suggest that Th17 cells may be in...   \n",
       "4                                                      \n",
       "\n",
       "                                             authors  \\\n",
       "0      [Ya Liu, Xin Zhao, Jiansheng Liu, Guoqing Hu]   \n",
       "1                                 [Hao He, Jun Yang]   \n",
       "2  [Weifeng Yang, Min Chen, Guangxue Li, Jianping...   \n",
       "3  [Xiaowei Wang, Xiaojun Chen, Heng Tang, Jifeng...   \n",
       "4  [jun chen, xianran xing, andrew d watson, wei ...   \n",
       "\n",
       "                                            keywords  paper_id  \\\n",
       "0  [carbon nanotubes, fibre lasers, laser cavity ...  0009qJgC   \n",
       "1  [different part, data graph, variety ofstructu...  000BMUBY   \n",
       "2  [13C, 15N, East China Sea, Trace element, Yell...  000Fmw78   \n",
       "3  [Mycoplasma Pneumoniae, Th17 cells, children, ...  000HsdYy   \n",
       "4                                                 []  000NKgQT   \n",
       "\n",
       "                                               title  \\\n",
       "0  Generating ultra-long bound soliton sequences ...   \n",
       "1  Multiresolution Indexing of XML for Frequent Q...   \n",
       "2  Relocation of the Yellow River as revealed by ...   \n",
       "3  Increased Frequency of Th17 Cells in Children ...   \n",
       "4  Rapid Synthesis of Multiferroic BiFeO 3 Single...   \n",
       "\n",
       "                                     venue  year  \\\n",
       "0                Lasers and Electro-Optics  2014   \n",
       "1                                     icde  2004   \n",
       "2                Marine Pollution Bulletin  2009   \n",
       "3  Journal of clinical laboratory analysis  2016   \n",
       "4                   Chemistry of Materials  2007   \n",
       "\n",
       "                                                orgs  \n",
       "0  [Sch. of Electron. & Inf. Eng., Beihang Univ.,...  \n",
       "1                                                 []  \n",
       "2  [State Key Laboratory of Marine Environmental ...  \n",
       "3  [Department of Blood Transfusion, Nanjing Chil...  \n",
       "4                                 [, , , , , , , , ]  "
      ]
     },
     "execution_count": 6,
     "metadata": {},
     "output_type": "execute_result"
    }
   ],
   "source": [
    "pub_info.head()"
   ]
  },
  {
   "cell_type": "markdown",
   "metadata": {},
   "source": [
    "### prepare"
   ]
  },
  {
   "cell_type": "code",
   "execution_count": 7,
   "metadata": {},
   "outputs": [
    {
     "data": {
      "text/plain": [
       "abstract     0\n",
       "authors      0\n",
       "keywords    70\n",
       "paper_id     0\n",
       "title        0\n",
       "venue        0\n",
       "year         0\n",
       "orgs         0\n",
       "dtype: int64"
      ]
     },
     "execution_count": 7,
     "metadata": {},
     "output_type": "execute_result"
    }
   ],
   "source": [
    "pub_info.isnull().sum()"
   ]
  },
  {
   "cell_type": "code",
   "execution_count": 8,
   "metadata": {},
   "outputs": [],
   "source": [
    "pub_info['keywords'] = pub_info['keywords'].apply(lambda x: [] if type(x) == float else x)"
   ]
  },
  {
   "cell_type": "code",
   "execution_count": 9,
   "metadata": {},
   "outputs": [],
   "source": [
    "# max_len=256\n",
    "# def func(s):\n",
    "#     s = re.sub(r'[^\\w\\s]', ' ', s)\n",
    "#     wds = s.split()[:max_len]\n",
    "#     return ' '.join(wds)"
   ]
  },
  {
   "cell_type": "code",
   "execution_count": 10,
   "metadata": {},
   "outputs": [],
   "source": [
    "# cols = ['abstract', 'title', 'venue']\n",
    "# for c in cols:\n",
    "#     print(c)\n",
    "#     pub_info[c] = pub_info[c].apply(func)"
   ]
  },
  {
   "cell_type": "code",
   "execution_count": 11,
   "metadata": {},
   "outputs": [],
   "source": [
    "def func2(l):\n",
    "    return ', '.join(l)"
   ]
  },
  {
   "cell_type": "code",
   "execution_count": 12,
   "metadata": {},
   "outputs": [
    {
     "name": "stdout",
     "output_type": "stream",
     "text": [
      "authors\n",
      "keywords\n",
      "orgs\n"
     ]
    }
   ],
   "source": [
    "cols = ['authors', 'keywords', 'orgs']\n",
    "for c in cols:\n",
    "    print(c)\n",
    "    pub_info[c] = pub_info[c].apply(func2)"
   ]
  },
  {
   "cell_type": "code",
   "execution_count": 13,
   "metadata": {},
   "outputs": [
    {
     "data": {
      "text/html": [
       "<div>\n",
       "<style scoped>\n",
       "    .dataframe tbody tr th:only-of-type {\n",
       "        vertical-align: middle;\n",
       "    }\n",
       "\n",
       "    .dataframe tbody tr th {\n",
       "        vertical-align: top;\n",
       "    }\n",
       "\n",
       "    .dataframe thead th {\n",
       "        text-align: right;\n",
       "    }\n",
       "</style>\n",
       "<table border=\"1\" class=\"dataframe\">\n",
       "  <thead>\n",
       "    <tr style=\"text-align: right;\">\n",
       "      <th></th>\n",
       "      <th>abstract</th>\n",
       "      <th>authors</th>\n",
       "      <th>keywords</th>\n",
       "      <th>paper_id</th>\n",
       "      <th>title</th>\n",
       "      <th>venue</th>\n",
       "      <th>year</th>\n",
       "      <th>orgs</th>\n",
       "    </tr>\n",
       "  </thead>\n",
       "  <tbody>\n",
       "    <tr>\n",
       "      <th>0</th>\n",
       "      <td>Extremely long states of bound solitons consis...</td>\n",
       "      <td>Ya Liu, Xin Zhao, Jiansheng Liu, Guoqing Hu</td>\n",
       "      <td>carbon nanotubes, fibre lasers, laser cavity r...</td>\n",
       "      <td>0009qJgC</td>\n",
       "      <td>Generating ultra-long bound soliton sequences ...</td>\n",
       "      <td>Lasers and Electro-Optics</td>\n",
       "      <td>2014</td>\n",
       "      <td>Sch. of Electron. &amp; Inf. Eng., Beihang Univ., ...</td>\n",
       "    </tr>\n",
       "    <tr>\n",
       "      <th>1</th>\n",
       "      <td></td>\n",
       "      <td>Hao He, Jun Yang</td>\n",
       "      <td>different part, data graph, variety ofstructur...</td>\n",
       "      <td>000BMUBY</td>\n",
       "      <td>Multiresolution Indexing of XML for Frequent Q...</td>\n",
       "      <td>icde</td>\n",
       "      <td>2004</td>\n",
       "      <td></td>\n",
       "    </tr>\n",
       "    <tr>\n",
       "      <th>2</th>\n",
       "      <td>The Yellow River (YR) supplies a large amount ...</td>\n",
       "      <td>Weifeng Yang, Min Chen, Guangxue Li, Jianping ...</td>\n",
       "      <td>13C, 15N, East China Sea, Trace element, Yello...</td>\n",
       "      <td>000Fmw78</td>\n",
       "      <td>Relocation of the Yellow River as revealed by ...</td>\n",
       "      <td>Marine Pollution Bulletin</td>\n",
       "      <td>2009</td>\n",
       "      <td>State Key Laboratory of Marine Environmental S...</td>\n",
       "    </tr>\n",
       "    <tr>\n",
       "      <th>3</th>\n",
       "      <td>Our findings suggest that Th17 cells may be in...</td>\n",
       "      <td>Xiaowei Wang, Xiaojun Chen, Heng Tang, Jifeng ...</td>\n",
       "      <td>Mycoplasma Pneumoniae, Th17 cells, children, r...</td>\n",
       "      <td>000HsdYy</td>\n",
       "      <td>Increased Frequency of Th17 Cells in Children ...</td>\n",
       "      <td>Journal of clinical laboratory analysis</td>\n",
       "      <td>2016</td>\n",
       "      <td>Department of Blood Transfusion, Nanjing Child...</td>\n",
       "    </tr>\n",
       "    <tr>\n",
       "      <th>4</th>\n",
       "      <td></td>\n",
       "      <td>jun chen, xianran xing, andrew d watson, wei w...</td>\n",
       "      <td></td>\n",
       "      <td>000NKgQT</td>\n",
       "      <td>Rapid Synthesis of Multiferroic BiFeO 3 Single...</td>\n",
       "      <td>Chemistry of Materials</td>\n",
       "      <td>2007</td>\n",
       "      <td>, , , , , , , ,</td>\n",
       "    </tr>\n",
       "  </tbody>\n",
       "</table>\n",
       "</div>"
      ],
      "text/plain": [
       "                                            abstract  \\\n",
       "0  Extremely long states of bound solitons consis...   \n",
       "1                                                      \n",
       "2  The Yellow River (YR) supplies a large amount ...   \n",
       "3  Our findings suggest that Th17 cells may be in...   \n",
       "4                                                      \n",
       "\n",
       "                                             authors  \\\n",
       "0        Ya Liu, Xin Zhao, Jiansheng Liu, Guoqing Hu   \n",
       "1                                   Hao He, Jun Yang   \n",
       "2  Weifeng Yang, Min Chen, Guangxue Li, Jianping ...   \n",
       "3  Xiaowei Wang, Xiaojun Chen, Heng Tang, Jifeng ...   \n",
       "4  jun chen, xianran xing, andrew d watson, wei w...   \n",
       "\n",
       "                                            keywords  paper_id  \\\n",
       "0  carbon nanotubes, fibre lasers, laser cavity r...  0009qJgC   \n",
       "1  different part, data graph, variety ofstructur...  000BMUBY   \n",
       "2  13C, 15N, East China Sea, Trace element, Yello...  000Fmw78   \n",
       "3  Mycoplasma Pneumoniae, Th17 cells, children, r...  000HsdYy   \n",
       "4                                                     000NKgQT   \n",
       "\n",
       "                                               title  \\\n",
       "0  Generating ultra-long bound soliton sequences ...   \n",
       "1  Multiresolution Indexing of XML for Frequent Q...   \n",
       "2  Relocation of the Yellow River as revealed by ...   \n",
       "3  Increased Frequency of Th17 Cells in Children ...   \n",
       "4  Rapid Synthesis of Multiferroic BiFeO 3 Single...   \n",
       "\n",
       "                                     venue  year  \\\n",
       "0                Lasers and Electro-Optics  2014   \n",
       "1                                     icde  2004   \n",
       "2                Marine Pollution Bulletin  2009   \n",
       "3  Journal of clinical laboratory analysis  2016   \n",
       "4                   Chemistry of Materials  2007   \n",
       "\n",
       "                                                orgs  \n",
       "0  Sch. of Electron. & Inf. Eng., Beihang Univ., ...  \n",
       "1                                                     \n",
       "2  State Key Laboratory of Marine Environmental S...  \n",
       "3  Department of Blood Transfusion, Nanjing Child...  \n",
       "4                                   , , , , , , , ,   "
      ]
     },
     "execution_count": 13,
     "metadata": {},
     "output_type": "execute_result"
    }
   ],
   "source": [
    "pub_info.head()"
   ]
  },
  {
   "cell_type": "markdown",
   "metadata": {},
   "source": [
    "### embedding"
   ]
  },
  {
   "cell_type": "code",
   "execution_count": 14,
   "metadata": {},
   "outputs": [],
   "source": [
    "# !unzip ../../../multi/bert-large-nli-mean-tokens.zip -d ./bert-large-nli-mean-tokens/"
   ]
  },
  {
   "cell_type": "code",
   "execution_count": 15,
   "metadata": {},
   "outputs": [
    {
     "data": {
      "text/plain": [
       "True"
      ]
     },
     "execution_count": 15,
     "metadata": {},
     "output_type": "execute_result"
    }
   ],
   "source": [
    "import torch\n",
    "torch.cuda.is_available()"
   ]
  },
  {
   "cell_type": "code",
   "execution_count": 16,
   "metadata": {},
   "outputs": [],
   "source": [
    "from sentence_transformers import SentenceTransformer\n",
    "model = SentenceTransformer('./bert-large-nli-mean-tokens')"
   ]
  },
  {
   "cell_type": "code",
   "execution_count": 17,
   "metadata": {},
   "outputs": [],
   "source": [
    "# model = model.cuda()"
   ]
  },
  {
   "cell_type": "code",
   "execution_count": 18,
   "metadata": {},
   "outputs": [],
   "source": [
    "pub_info_embed = pd.DataFrame()"
   ]
  },
  {
   "cell_type": "code",
   "execution_count": 19,
   "metadata": {
    "scrolled": true
   },
   "outputs": [
    {
     "name": "stderr",
     "output_type": "stream",
     "text": [
      "\r",
      "Batches:   0%|          | 0/2119 [00:00<?, ?it/s]"
     ]
    },
    {
     "name": "stdout",
     "output_type": "stream",
     "text": [
      "abstract\n"
     ]
    },
    {
     "name": "stderr",
     "output_type": "stream",
     "text": [
      "Batches: 100%|██████████| 2119/2119 [1:01:41<00:00, 23.88s/it]\n"
     ]
    },
    {
     "data": {
      "text/html": [
       "<div>\n",
       "<style scoped>\n",
       "    .dataframe tbody tr th:only-of-type {\n",
       "        vertical-align: middle;\n",
       "    }\n",
       "\n",
       "    .dataframe tbody tr th {\n",
       "        vertical-align: top;\n",
       "    }\n",
       "\n",
       "    .dataframe thead th {\n",
       "        text-align: right;\n",
       "    }\n",
       "</style>\n",
       "<table border=\"1\" class=\"dataframe\">\n",
       "  <thead>\n",
       "    <tr style=\"text-align: right;\">\n",
       "      <th></th>\n",
       "      <th>abstract</th>\n",
       "    </tr>\n",
       "  </thead>\n",
       "  <tbody>\n",
       "    <tr>\n",
       "      <th>0</th>\n",
       "      <td>[0.79583216, -0.29403698, 0.26839104, 0.358583...</td>\n",
       "    </tr>\n",
       "    <tr>\n",
       "      <th>1</th>\n",
       "      <td>[-0.8647487, 0.53667474, 0.43480504, 0.0010895...</td>\n",
       "    </tr>\n",
       "  </tbody>\n",
       "</table>\n",
       "</div>"
      ],
      "text/plain": [
       "                                            abstract\n",
       "0  [0.79583216, -0.29403698, 0.26839104, 0.358583...\n",
       "1  [-0.8647487, 0.53667474, 0.43480504, 0.0010895..."
      ]
     },
     "metadata": {},
     "output_type": "display_data"
    },
    {
     "name": "stderr",
     "output_type": "stream",
     "text": [
      "\r",
      "Batches:   0%|          | 0/2119 [00:00<?, ?it/s]"
     ]
    },
    {
     "name": "stdout",
     "output_type": "stream",
     "text": [
      "authors\n"
     ]
    },
    {
     "name": "stderr",
     "output_type": "stream",
     "text": [
      "Batches: 100%|██████████| 2119/2119 [35:49<00:00, 35.57s/it]\n"
     ]
    },
    {
     "data": {
      "text/html": [
       "<div>\n",
       "<style scoped>\n",
       "    .dataframe tbody tr th:only-of-type {\n",
       "        vertical-align: middle;\n",
       "    }\n",
       "\n",
       "    .dataframe tbody tr th {\n",
       "        vertical-align: top;\n",
       "    }\n",
       "\n",
       "    .dataframe thead th {\n",
       "        text-align: right;\n",
       "    }\n",
       "</style>\n",
       "<table border=\"1\" class=\"dataframe\">\n",
       "  <thead>\n",
       "    <tr style=\"text-align: right;\">\n",
       "      <th></th>\n",
       "      <th>abstract</th>\n",
       "      <th>authors</th>\n",
       "    </tr>\n",
       "  </thead>\n",
       "  <tbody>\n",
       "    <tr>\n",
       "      <th>0</th>\n",
       "      <td>[0.79583216, -0.29403698, 0.26839104, 0.358583...</td>\n",
       "      <td>[-0.48936775, -0.57858217, 0.71193564, -0.1749...</td>\n",
       "    </tr>\n",
       "    <tr>\n",
       "      <th>1</th>\n",
       "      <td>[-0.8647487, 0.53667474, 0.43480504, 0.0010895...</td>\n",
       "      <td>[-0.3726856, -0.067486644, 0.4936543, -0.15705...</td>\n",
       "    </tr>\n",
       "  </tbody>\n",
       "</table>\n",
       "</div>"
      ],
      "text/plain": [
       "                                            abstract  \\\n",
       "0  [0.79583216, -0.29403698, 0.26839104, 0.358583...   \n",
       "1  [-0.8647487, 0.53667474, 0.43480504, 0.0010895...   \n",
       "\n",
       "                                             authors  \n",
       "0  [-0.48936775, -0.57858217, 0.71193564, -0.1749...  \n",
       "1  [-0.3726856, -0.067486644, 0.4936543, -0.15705...  "
      ]
     },
     "metadata": {},
     "output_type": "display_data"
    },
    {
     "name": "stderr",
     "output_type": "stream",
     "text": [
      "\r",
      "Batches:   0%|          | 0/2119 [00:00<?, ?it/s]"
     ]
    },
    {
     "name": "stdout",
     "output_type": "stream",
     "text": [
      "keywords\n"
     ]
    },
    {
     "name": "stderr",
     "output_type": "stream",
     "text": [
      "Batches: 100%|██████████| 2119/2119 [12:44<00:00,  1.64s/it]\n"
     ]
    },
    {
     "data": {
      "text/html": [
       "<div>\n",
       "<style scoped>\n",
       "    .dataframe tbody tr th:only-of-type {\n",
       "        vertical-align: middle;\n",
       "    }\n",
       "\n",
       "    .dataframe tbody tr th {\n",
       "        vertical-align: top;\n",
       "    }\n",
       "\n",
       "    .dataframe thead th {\n",
       "        text-align: right;\n",
       "    }\n",
       "</style>\n",
       "<table border=\"1\" class=\"dataframe\">\n",
       "  <thead>\n",
       "    <tr style=\"text-align: right;\">\n",
       "      <th></th>\n",
       "      <th>abstract</th>\n",
       "      <th>authors</th>\n",
       "      <th>keywords</th>\n",
       "    </tr>\n",
       "  </thead>\n",
       "  <tbody>\n",
       "    <tr>\n",
       "      <th>0</th>\n",
       "      <td>[0.79583216, -0.29403698, 0.26839104, 0.358583...</td>\n",
       "      <td>[-0.48936775, -0.57858217, 0.71193564, -0.1749...</td>\n",
       "      <td>[0.43632925, -0.9237635, 0.40525427, 0.2522947...</td>\n",
       "    </tr>\n",
       "    <tr>\n",
       "      <th>1</th>\n",
       "      <td>[-0.8647487, 0.53667474, 0.43480504, 0.0010895...</td>\n",
       "      <td>[-0.3726856, -0.067486644, 0.4936543, -0.15705...</td>\n",
       "      <td>[-0.03109114, -0.5499945, 0.5445511, -0.013458...</td>\n",
       "    </tr>\n",
       "  </tbody>\n",
       "</table>\n",
       "</div>"
      ],
      "text/plain": [
       "                                            abstract  \\\n",
       "0  [0.79583216, -0.29403698, 0.26839104, 0.358583...   \n",
       "1  [-0.8647487, 0.53667474, 0.43480504, 0.0010895...   \n",
       "\n",
       "                                             authors  \\\n",
       "0  [-0.48936775, -0.57858217, 0.71193564, -0.1749...   \n",
       "1  [-0.3726856, -0.067486644, 0.4936543, -0.15705...   \n",
       "\n",
       "                                            keywords  \n",
       "0  [0.43632925, -0.9237635, 0.40525427, 0.2522947...  \n",
       "1  [-0.03109114, -0.5499945, 0.5445511, -0.013458...  "
      ]
     },
     "metadata": {},
     "output_type": "display_data"
    },
    {
     "name": "stderr",
     "output_type": "stream",
     "text": [
      "Batches:   0%|          | 1/2119 [00:00<04:23,  8.03it/s]"
     ]
    },
    {
     "name": "stdout",
     "output_type": "stream",
     "text": [
      "title\n"
     ]
    },
    {
     "name": "stderr",
     "output_type": "stream",
     "text": [
      "Batches: 100%|██████████| 2119/2119 [19:07<00:00,  1.11s/it]\n"
     ]
    },
    {
     "data": {
      "text/html": [
       "<div>\n",
       "<style scoped>\n",
       "    .dataframe tbody tr th:only-of-type {\n",
       "        vertical-align: middle;\n",
       "    }\n",
       "\n",
       "    .dataframe tbody tr th {\n",
       "        vertical-align: top;\n",
       "    }\n",
       "\n",
       "    .dataframe thead th {\n",
       "        text-align: right;\n",
       "    }\n",
       "</style>\n",
       "<table border=\"1\" class=\"dataframe\">\n",
       "  <thead>\n",
       "    <tr style=\"text-align: right;\">\n",
       "      <th></th>\n",
       "      <th>abstract</th>\n",
       "      <th>authors</th>\n",
       "      <th>keywords</th>\n",
       "      <th>title</th>\n",
       "    </tr>\n",
       "  </thead>\n",
       "  <tbody>\n",
       "    <tr>\n",
       "      <th>0</th>\n",
       "      <td>[0.79583216, -0.29403698, 0.26839104, 0.358583...</td>\n",
       "      <td>[-0.48936775, -0.57858217, 0.71193564, -0.1749...</td>\n",
       "      <td>[0.43632925, -0.9237635, 0.40525427, 0.2522947...</td>\n",
       "      <td>[0.3280066, -0.050479, 0.42760244, 0.051524464...</td>\n",
       "    </tr>\n",
       "    <tr>\n",
       "      <th>1</th>\n",
       "      <td>[-0.8647487, 0.53667474, 0.43480504, 0.0010895...</td>\n",
       "      <td>[-0.3726856, -0.067486644, 0.4936543, -0.15705...</td>\n",
       "      <td>[-0.03109114, -0.5499945, 0.5445511, -0.013458...</td>\n",
       "      <td>[-0.1385318, -0.29783824, 0.8824967, -0.348692...</td>\n",
       "    </tr>\n",
       "  </tbody>\n",
       "</table>\n",
       "</div>"
      ],
      "text/plain": [
       "                                            abstract  \\\n",
       "0  [0.79583216, -0.29403698, 0.26839104, 0.358583...   \n",
       "1  [-0.8647487, 0.53667474, 0.43480504, 0.0010895...   \n",
       "\n",
       "                                             authors  \\\n",
       "0  [-0.48936775, -0.57858217, 0.71193564, -0.1749...   \n",
       "1  [-0.3726856, -0.067486644, 0.4936543, -0.15705...   \n",
       "\n",
       "                                            keywords  \\\n",
       "0  [0.43632925, -0.9237635, 0.40525427, 0.2522947...   \n",
       "1  [-0.03109114, -0.5499945, 0.5445511, -0.013458...   \n",
       "\n",
       "                                               title  \n",
       "0  [0.3280066, -0.050479, 0.42760244, 0.051524464...  \n",
       "1  [-0.1385318, -0.29783824, 0.8824967, -0.348692...  "
      ]
     },
     "metadata": {},
     "output_type": "display_data"
    },
    {
     "name": "stderr",
     "output_type": "stream",
     "text": [
      "\r",
      "Batches:   0%|          | 0/2119 [00:00<?, ?it/s]"
     ]
    },
    {
     "name": "stdout",
     "output_type": "stream",
     "text": [
      "venue\n"
     ]
    },
    {
     "name": "stderr",
     "output_type": "stream",
     "text": [
      "Batches: 100%|██████████| 2119/2119 [07:05<00:00,  4.98it/s]\n"
     ]
    },
    {
     "data": {
      "text/html": [
       "<div>\n",
       "<style scoped>\n",
       "    .dataframe tbody tr th:only-of-type {\n",
       "        vertical-align: middle;\n",
       "    }\n",
       "\n",
       "    .dataframe tbody tr th {\n",
       "        vertical-align: top;\n",
       "    }\n",
       "\n",
       "    .dataframe thead th {\n",
       "        text-align: right;\n",
       "    }\n",
       "</style>\n",
       "<table border=\"1\" class=\"dataframe\">\n",
       "  <thead>\n",
       "    <tr style=\"text-align: right;\">\n",
       "      <th></th>\n",
       "      <th>abstract</th>\n",
       "      <th>authors</th>\n",
       "      <th>keywords</th>\n",
       "      <th>title</th>\n",
       "      <th>venue</th>\n",
       "    </tr>\n",
       "  </thead>\n",
       "  <tbody>\n",
       "    <tr>\n",
       "      <th>0</th>\n",
       "      <td>[0.79583216, -0.29403698, 0.26839104, 0.358583...</td>\n",
       "      <td>[-0.48936775, -0.57858217, 0.71193564, -0.1749...</td>\n",
       "      <td>[0.43632925, -0.9237635, 0.40525427, 0.2522947...</td>\n",
       "      <td>[0.3280066, -0.050479, 0.42760244, 0.051524464...</td>\n",
       "      <td>[-0.26035744, -0.79420173, -0.41245815, -0.312...</td>\n",
       "    </tr>\n",
       "    <tr>\n",
       "      <th>1</th>\n",
       "      <td>[-0.8647487, 0.53667474, 0.43480504, 0.0010895...</td>\n",
       "      <td>[-0.3726856, -0.067486644, 0.4936543, -0.15705...</td>\n",
       "      <td>[-0.03109114, -0.5499945, 0.5445511, -0.013458...</td>\n",
       "      <td>[-0.1385318, -0.29783824, 0.8824967, -0.348692...</td>\n",
       "      <td>[-0.82357174, -0.18565406, 0.2076622, -0.47456...</td>\n",
       "    </tr>\n",
       "  </tbody>\n",
       "</table>\n",
       "</div>"
      ],
      "text/plain": [
       "                                            abstract  \\\n",
       "0  [0.79583216, -0.29403698, 0.26839104, 0.358583...   \n",
       "1  [-0.8647487, 0.53667474, 0.43480504, 0.0010895...   \n",
       "\n",
       "                                             authors  \\\n",
       "0  [-0.48936775, -0.57858217, 0.71193564, -0.1749...   \n",
       "1  [-0.3726856, -0.067486644, 0.4936543, -0.15705...   \n",
       "\n",
       "                                            keywords  \\\n",
       "0  [0.43632925, -0.9237635, 0.40525427, 0.2522947...   \n",
       "1  [-0.03109114, -0.5499945, 0.5445511, -0.013458...   \n",
       "\n",
       "                                               title  \\\n",
       "0  [0.3280066, -0.050479, 0.42760244, 0.051524464...   \n",
       "1  [-0.1385318, -0.29783824, 0.8824967, -0.348692...   \n",
       "\n",
       "                                               venue  \n",
       "0  [-0.26035744, -0.79420173, -0.41245815, -0.312...  \n",
       "1  [-0.82357174, -0.18565406, 0.2076622, -0.47456...  "
      ]
     },
     "metadata": {},
     "output_type": "display_data"
    },
    {
     "name": "stderr",
     "output_type": "stream",
     "text": [
      "\r",
      "Batches:   0%|          | 0/2119 [00:00<?, ?it/s]"
     ]
    },
    {
     "name": "stdout",
     "output_type": "stream",
     "text": [
      "orgs\n"
     ]
    },
    {
     "name": "stderr",
     "output_type": "stream",
     "text": [
      "Batches: 100%|██████████| 2119/2119 [51:07<00:00, 82.66s/it] \n"
     ]
    },
    {
     "data": {
      "text/html": [
       "<div>\n",
       "<style scoped>\n",
       "    .dataframe tbody tr th:only-of-type {\n",
       "        vertical-align: middle;\n",
       "    }\n",
       "\n",
       "    .dataframe tbody tr th {\n",
       "        vertical-align: top;\n",
       "    }\n",
       "\n",
       "    .dataframe thead th {\n",
       "        text-align: right;\n",
       "    }\n",
       "</style>\n",
       "<table border=\"1\" class=\"dataframe\">\n",
       "  <thead>\n",
       "    <tr style=\"text-align: right;\">\n",
       "      <th></th>\n",
       "      <th>abstract</th>\n",
       "      <th>authors</th>\n",
       "      <th>keywords</th>\n",
       "      <th>title</th>\n",
       "      <th>venue</th>\n",
       "      <th>orgs</th>\n",
       "    </tr>\n",
       "  </thead>\n",
       "  <tbody>\n",
       "    <tr>\n",
       "      <th>0</th>\n",
       "      <td>[0.79583216, -0.29403698, 0.26839104, 0.358583...</td>\n",
       "      <td>[-0.48936775, -0.57858217, 0.71193564, -0.1749...</td>\n",
       "      <td>[0.43632925, -0.9237635, 0.40525427, 0.2522947...</td>\n",
       "      <td>[0.3280066, -0.050479, 0.42760244, 0.051524464...</td>\n",
       "      <td>[-0.26035744, -0.79420173, -0.41245815, -0.312...</td>\n",
       "      <td>[-0.20673345, -0.64450264, 0.40301833, -0.4305...</td>\n",
       "    </tr>\n",
       "    <tr>\n",
       "      <th>1</th>\n",
       "      <td>[-0.8647487, 0.53667474, 0.43480504, 0.0010895...</td>\n",
       "      <td>[-0.3726856, -0.067486644, 0.4936543, -0.15705...</td>\n",
       "      <td>[-0.03109114, -0.5499945, 0.5445511, -0.013458...</td>\n",
       "      <td>[-0.1385318, -0.29783824, 0.8824967, -0.348692...</td>\n",
       "      <td>[-0.82357174, -0.18565406, 0.2076622, -0.47456...</td>\n",
       "      <td>[-0.8647487, 0.53667474, 0.43480504, 0.0010895...</td>\n",
       "    </tr>\n",
       "  </tbody>\n",
       "</table>\n",
       "</div>"
      ],
      "text/plain": [
       "                                            abstract  \\\n",
       "0  [0.79583216, -0.29403698, 0.26839104, 0.358583...   \n",
       "1  [-0.8647487, 0.53667474, 0.43480504, 0.0010895...   \n",
       "\n",
       "                                             authors  \\\n",
       "0  [-0.48936775, -0.57858217, 0.71193564, -0.1749...   \n",
       "1  [-0.3726856, -0.067486644, 0.4936543, -0.15705...   \n",
       "\n",
       "                                            keywords  \\\n",
       "0  [0.43632925, -0.9237635, 0.40525427, 0.2522947...   \n",
       "1  [-0.03109114, -0.5499945, 0.5445511, -0.013458...   \n",
       "\n",
       "                                               title  \\\n",
       "0  [0.3280066, -0.050479, 0.42760244, 0.051524464...   \n",
       "1  [-0.1385318, -0.29783824, 0.8824967, -0.348692...   \n",
       "\n",
       "                                               venue  \\\n",
       "0  [-0.26035744, -0.79420173, -0.41245815, -0.312...   \n",
       "1  [-0.82357174, -0.18565406, 0.2076622, -0.47456...   \n",
       "\n",
       "                                                orgs  \n",
       "0  [-0.20673345, -0.64450264, 0.40301833, -0.4305...  \n",
       "1  [-0.8647487, 0.53667474, 0.43480504, 0.0010895...  "
      ]
     },
     "metadata": {},
     "output_type": "display_data"
    }
   ],
   "source": [
    "cols = ['abstract', 'authors', 'keywords', 'title', 'venue', 'orgs']\n",
    "for c in cols:\n",
    "    print(c)\n",
    "    pub_info_c = list(pub_info[c].values)\n",
    "    pub_info_c_embed = model.encode(pub_info_c, show_progress_bar=True, batch_size=128)\n",
    "    pub_info_embed[c] = pub_info_c_embed\n",
    "    display(pub_info_embed.head(2))"
   ]
  },
  {
   "cell_type": "code",
   "execution_count": 21,
   "metadata": {},
   "outputs": [],
   "source": [
    "pub_info_embed.to_pickle('./pkl/pub_info_embed_bert.pkl')"
   ]
  }
 ],
 "metadata": {
  "kernelspec": {
   "display_name": "Python 3",
   "language": "python",
   "name": "python3"
  },
  "language_info": {
   "codemirror_mode": {
    "name": "ipython",
    "version": 3
   },
   "file_extension": ".py",
   "mimetype": "text/x-python",
   "name": "python",
   "nbconvert_exporter": "python",
   "pygments_lexer": "ipython3",
   "version": "3.6.7"
  }
 },
 "nbformat": 4,
 "nbformat_minor": 2
}
